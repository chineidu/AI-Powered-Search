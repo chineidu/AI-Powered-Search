{
 "cells": [
  {
   "cell_type": "markdown",
   "metadata": {},
   "source": [
    "# BM 25 (Best Matching 25)\n",
    "\n",
    "- Qdrant does NOT support BM 25.\n",
    "- It supports the following:\n",
    "  - Semantic search using embedding models that produce dense vectors.\n",
    "  - Splade whcih uses sparse vectors (similar to BM 25).\n",
    "  - [BM-42 ](#bm-42)\n",
    "    - 'using-hybrid-search'\n",
    "\n",
    "\n",
    "## Note\n",
    "\n",
    "- install\n",
    "\n",
    "```sh\n",
    "pip install -U \"huggingface_hub[cli]\"\n",
    "```\n",
    "\n",
    "- Scan cached huggingface models\n",
    "\n",
    "```sh\n",
    "huggingface-cli scan-cache\n",
    "```\n",
    "\n",
    "- Delete cached huggingface models\n",
    "\n",
    "```sh\n",
    "huggingface-cli delete-cache\n",
    "```\n",
    "\n",
    "<br>\n",
    "\n",
    "### Check Fast Embed Cache Dir\n",
    "\n",
    "```py\n",
    "import os\n",
    "import tempfile\n",
    "\n",
    "# Set the default cache directory\n",
    "default_cache_dir = os.path.join(tempfile.gettempdir(), \"fastembed_cache\")\n",
    "\n",
    "# Print the default cache directory\n",
    "print(f\"The default cache directory is: {default_cache_dir}\")\n",
    "```"
   ]
  },
  {
   "cell_type": "code",
   "execution_count": 1,
   "metadata": {},
   "outputs": [
    {
     "name": "stdout",
     "output_type": "stream",
     "text": [
      "Python implementation: CPython\n",
      "Python version       : 3.10.14\n",
      "IPython version      : 8.26.0\n",
      "\n",
      "numpy    : 1.26.4\n",
      "pandas   : 2.2.2\n",
      "polars   : 1.1.0\n",
      "torch    : 2.2.2\n",
      "lightning: not installed\n",
      "\n",
      "conda environment: ai_search\n",
      "\n"
     ]
    }
   ],
   "source": [
    "%load_ext watermark\n",
    "%watermark -v -p numpy,pandas,polars,torch,lightning --conda"
   ]
  },
  {
   "cell_type": "code",
   "execution_count": 2,
   "metadata": {},
   "outputs": [],
   "source": [
    "# Built-in library\n",
    "from pathlib import Path\n",
    "import re\n",
    "import json\n",
    "from typing import Any, Generator, Optional, Union\n",
    "import logging\n",
    "import warnings\n",
    "\n",
    "# Standard imports\n",
    "import numpy as np\n",
    "import numpy.typing as npt\n",
    "from pprint import pprint\n",
    "import pandas as pd\n",
    "import polars as pl\n",
    "from rich.console import Console\n",
    "from rich.theme import Theme\n",
    "\n",
    "custom_theme = Theme(\n",
    "    {\n",
    "        \"info\": \"#76FF7B\",\n",
    "        \"warning\": \"#FBDDFE\",\n",
    "        \"error\": \"#FF0000\",\n",
    "    }\n",
    ")\n",
    "console = Console(theme=custom_theme)\n",
    "\n",
    "# Visualization\n",
    "import matplotlib.pyplot as plt\n",
    "\n",
    "\n",
    "# Pandas settings\n",
    "pd.options.display.max_rows = 1_000\n",
    "pd.options.display.max_columns = 1_000\n",
    "pd.options.display.max_colwidth = 600\n",
    "\n",
    "warnings.filterwarnings(\"ignore\")\n",
    "\n",
    "\n",
    "# Black code formatter (Optional)\n",
    "%load_ext lab_black\n",
    "\n",
    "# auto reload imports\n",
    "%load_ext autoreload\n",
    "%autoreload 2"
   ]
  },
  {
   "cell_type": "code",
   "execution_count": 3,
   "metadata": {},
   "outputs": [
    {
     "name": "stdout",
     "output_type": "stream",
     "text": [
      "The default cache directory is: /var/folders/ny/dl75sc_x2tb54lsymt5bh5p00000gn/T/fastembed_cache\n"
     ]
    },
    {
     "data": {
      "text/plain": [
       "'/var/folders/ny/dl75sc_x2tb54lsymt5bh5p00000gn/T/fastembed_cache'"
      ]
     },
     "execution_count": 3,
     "metadata": {},
     "output_type": "execute_result"
    }
   ],
   "source": [
    "import os\n",
    "import tempfile\n",
    "\n",
    "\n",
    "def print_cache_dir() -> str:\n",
    "    \"\"\"\n",
    "    Prints and returns the default cache directory for fastembed.\n",
    "\n",
    "    Returns:\n",
    "        str: The path to the default cache directory.\n",
    "    \"\"\"\n",
    "    default_cache_dir: str = os.path.join(tempfile.gettempdir(), \"fastembed_cache\")\n",
    "    print(f\"The default cache directory is: {default_cache_dir}\")\n",
    "    return default_cache_dir\n",
    "\n",
    "\n",
    "def list_all_contents(cache_dir: str) -> None:\n",
    "    # List contents of the default cache directory\n",
    "    try:\n",
    "        contents = os.listdir(cache_dir)\n",
    "        for item in contents:\n",
    "            print(item)\n",
    "    except FileNotFoundError:\n",
    "        print(f\"Directory '{cache_dir}' not found.\")\n",
    "\n",
    "\n",
    "default_cache_dir: str = print_cache_dir()\n",
    "default_cache_dir"
   ]
  },
  {
   "cell_type": "code",
   "execution_count": 4,
   "metadata": {},
   "outputs": [
    {
     "name": "stdout",
     "output_type": "stream",
     "text": [
      "models--Qdrant--bm25\n",
      "models--qdrant--bge-small-en-v1.5-onnx-q\n",
      "models--Qdrant--all_miniLM_L6_v2_with_attentions\n",
      ".locks\n",
      "fast-bge-small-en\n",
      "tmp\n"
     ]
    }
   ],
   "source": [
    "list_all_contents(cache_dir=default_cache_dir)"
   ]
  },
  {
   "cell_type": "markdown",
   "metadata": {},
   "source": [
    "<br><hr>\n",
    "\n",
    "## Semantic Search Using fast Embed And Sentence Transformer"
   ]
  },
  {
   "cell_type": "code",
   "execution_count": 5,
   "metadata": {},
   "outputs": [],
   "source": [
    "import torch\n",
    "\n",
    "from qdrant_client import models, QdrantClient\n",
    "from sentence_transformers import SentenceTransformer\n",
    "\n",
    "# Using fast embed\n",
    "from fastembed import TextEmbedding"
   ]
  },
  {
   "cell_type": "code",
   "execution_count": 6,
   "metadata": {},
   "outputs": [],
   "source": [
    "# Data\n",
    "docs: list[str] = [\n",
    "    {\n",
    "        \"id\": \"doc1\",\n",
    "        \"title\": \"Worst\",\n",
    "        \"tag\": \"none\",\n",
    "        \"description\": \"The interesting thing is that the person in the wrong made the right decision in the end.\",\n",
    "    },\n",
    "    {\n",
    "        \"id\": \"doc2\",\n",
    "        \"title\": \"Best\",\n",
    "        \"tag\": \"educational\",\n",
    "        \"description\": \"My favorite book is the cat in the hat, which is about a crazy cat who breaks into a house and creates a crazy afternoon for two kids.\",\n",
    "    },\n",
    "    {\n",
    "        \"id\": \"doc3\",\n",
    "        \"title\": \"Okay\",\n",
    "        \"tag\": \"educational\",\n",
    "        \"description\": \"My neighbors let the stray cat stay in their garage, which resulted in my favorite hat that I let them borrow being ruined.\",\n",
    "    },\n",
    "    {\n",
    "        \"id\": \"doc4\",\n",
    "        \"title\": \"Best ^2\",\n",
    "        \"tag\": \"educational\",\n",
    "        \"description\": (\n",
    "            \"A small, mischievous cat wears an oversized, striped hat. The contrast between the cat's size and its large hat creates \"\n",
    "            \"a comical image. This clever, hat-wearing cat becomes locally famous for its playful tricks and distinctive appearance.\"\n",
    "        ),\n",
    "    },\n",
    "]\n",
    "\n",
    "ids: list[str] = [x.get(\"id\") for x in docs]\n",
    "description: list[str] = [x.get(\"description\") for x in docs]"
   ]
  },
  {
   "cell_type": "code",
   "execution_count": 7,
   "metadata": {},
   "outputs": [
    {
     "data": {
      "application/vnd.jupyter.widget-view+json": {
       "model_id": "667149130b5f4fe29fd16f3525009f05",
       "version_major": 2,
       "version_minor": 0
      },
      "text/plain": [
       "Fetching 5 files:   0%|          | 0/5 [00:00<?, ?it/s]"
      ]
     },
     "metadata": {},
     "output_type": "display_data"
    },
    {
     "name": "stdout",
     "output_type": "stream",
     "text": [
      "[INFO] The model is ready to use.\n"
     ]
    },
    {
     "data": {
      "text/plain": [
       "384"
      ]
     },
     "execution_count": 7,
     "metadata": {},
     "output_type": "execute_result"
    }
   ],
   "source": [
    "# This will trigger the model download and initialization\n",
    "model = TextEmbedding()\n",
    "print(\"[INFO] The model is ready to use.\")\n",
    "\n",
    "embeddings_list = list(model.embed(description))\n",
    "embeddings_dim: int = len(embeddings_list[0])  # Vector of 384 dimensions\n",
    "embeddings_dim"
   ]
  },
  {
   "cell_type": "code",
   "execution_count": 8,
   "metadata": {},
   "outputs": [
    {
     "data": {
      "text/plain": [
       "(384,)"
      ]
     },
     "execution_count": 8,
     "metadata": {},
     "output_type": "execute_result"
    }
   ],
   "source": [
    "# Fast embed uses the method `.embed` to encode/embed\n",
    "list(model.embed([\"Hi there!\"]))[0].shape"
   ]
  },
  {
   "cell_type": "code",
   "execution_count": 9,
   "metadata": {},
   "outputs": [
    {
     "data": {
      "text/plain": [
       "True"
      ]
     },
     "execution_count": 9,
     "metadata": {},
     "output_type": "execute_result"
    }
   ],
   "source": [
    "# Define storage\n",
    "\n",
    "# client = QdrantClient(\":memory:\")\n",
    "URL: str = \"http://localhost:6333\"\n",
    "qdrant_client = QdrantClient(URL)\n",
    "INDEX_NAME_1: str = \"test_collection\"\n",
    "\n",
    "vectors_config = models.VectorParams(\n",
    "    size=embeddings_dim,  # Vector size is defined by used model\n",
    "    distance=models.Distance.COSINE,\n",
    ")\n",
    "\n",
    "# Create collection Use recreate_collection for repeated experiments. It attempts to\n",
    "# remove any existing collection with the same name before creating a new one.\n",
    "qdrant_client.recreate_collection(\n",
    "    collection_name=INDEX_NAME_1, vectors_config=vectors_config\n",
    ")"
   ]
  },
  {
   "cell_type": "code",
   "execution_count": 10,
   "metadata": {},
   "outputs": [
    {
     "data": {
      "text/plain": [
       "4"
      ]
     },
     "execution_count": 10,
     "metadata": {},
     "output_type": "execute_result"
    }
   ],
   "source": [
    "vectors: list[np.ndarray] = list(model.embed(description))\n",
    "\n",
    "# Note: Qdrant does not support NumPy arrays!\n",
    "vectors: list[list[float]] = [list(v) for v in vectors]\n",
    "len(vectors)"
   ]
  },
  {
   "cell_type": "markdown",
   "metadata": {},
   "source": [
    "## Putting It All Together"
   ]
  },
  {
   "cell_type": "code",
   "execution_count": 11,
   "metadata": {},
   "outputs": [],
   "source": [
    "class TextEmbeddingModel:\n",
    "    def __init__(self, model: TextEmbedding, batch_size: int = 256) -> None:\n",
    "        self.model = model\n",
    "        self.batch_size = batch_size\n",
    "        self.emb_dim = self.get_dim()\n",
    "\n",
    "    def __repr__(self) -> str:\n",
    "        return (\n",
    "            f\"{self.__class__.__name__}\"\n",
    "            f\"(model={self.model.__class__.__name__}, emb_dim={self.emb_dim})\"\n",
    "        )\n",
    "\n",
    "    def encode(self, text: str | list[str]) -> list[list[float]]:\n",
    "        return self._encode(text)\n",
    "\n",
    "    def _encode(self, text: str | list[str]) -> list[list[float]]:\n",
    "        \"\"\"\n",
    "        Encode the input text into a list of float vectors.\n",
    "        NOTE: Qdrant does not support NumPy arrays!\n",
    "        \"\"\"\n",
    "        raw_vec: list[list[np.ndarray]] = list(\n",
    "            self.model.embed(text, batch_size=self.batch_size)\n",
    "        )\n",
    "        vectors: list[list[float]] = [list(v) for v in raw_vec]\n",
    "        return vectors\n",
    "\n",
    "    def get_dim(self) -> int:\n",
    "        return len(self._encode(text=\"Hi\")[0])"
   ]
  },
  {
   "cell_type": "code",
   "execution_count": 12,
   "metadata": {},
   "outputs": [
    {
     "data": {
      "text/plain": [
       "TextEmbeddingModel(model=TextEmbedding, emb_dim=384)"
      ]
     },
     "execution_count": 12,
     "metadata": {},
     "output_type": "execute_result"
    }
   ],
   "source": [
    "emb_model: TextEmbeddingModel = TextEmbeddingModel(model=model)\n",
    "emb_model"
   ]
  },
  {
   "cell_type": "code",
   "execution_count": 13,
   "metadata": {},
   "outputs": [
    {
     "data": {
      "text/plain": [
       "4"
      ]
     },
     "execution_count": 13,
     "metadata": {},
     "output_type": "execute_result"
    }
   ],
   "source": [
    "# Note: Qdrant does not support NumPy arrays!\n",
    "vectors: list[list[float]] = emb_model.encode(description)\n",
    "len(vectors)"
   ]
  },
  {
   "cell_type": "code",
   "execution_count": 14,
   "metadata": {},
   "outputs": [],
   "source": [
    "# Upload data to collection\n",
    "qdrant_client.upload_collection(\n",
    "    collection_name=INDEX_NAME_1, vectors=list(vectors), payload=docs\n",
    ")"
   ]
  },
  {
   "cell_type": "code",
   "execution_count": 15,
   "metadata": {},
   "outputs": [
    {
     "data": {
      "text/html": [
       "<pre style=\"white-space:pre;overflow-x:auto;line-height:normal;font-family:Menlo,'DejaVu Sans Mono',consolas,'Courier New',monospace\"><span style=\"color: #800080; text-decoration-color: #800080; font-weight: bold\">CollectionInfo</span><span style=\"font-weight: bold\">(</span>\n",
       "    <span style=\"color: #808000; text-decoration-color: #808000\">status</span>=<span style=\"font-weight: bold\">&lt;</span><span style=\"color: #ff00ff; text-decoration-color: #ff00ff; font-weight: bold\">CollectionStatus.GREEN:</span><span style=\"color: #000000; text-decoration-color: #000000\"> </span><span style=\"color: #008000; text-decoration-color: #008000\">'green'</span><span style=\"color: #000000; text-decoration-color: #000000\">&gt;,</span>\n",
       "<span style=\"color: #000000; text-decoration-color: #000000\">    </span><span style=\"color: #808000; text-decoration-color: #808000\">optimizer_status</span><span style=\"color: #000000; text-decoration-color: #000000\">=&lt;OptimizersStatusOneOf.OK: </span><span style=\"color: #008000; text-decoration-color: #008000\">'ok'</span><span style=\"color: #000000; text-decoration-color: #000000\">&gt;,</span>\n",
       "<span style=\"color: #000000; text-decoration-color: #000000\">    </span><span style=\"color: #808000; text-decoration-color: #808000\">vectors_count</span><span style=\"color: #000000; text-decoration-color: #000000\">=</span><span style=\"color: #800080; text-decoration-color: #800080; font-style: italic\">None</span><span style=\"color: #000000; text-decoration-color: #000000\">,</span>\n",
       "<span style=\"color: #000000; text-decoration-color: #000000\">    </span><span style=\"color: #808000; text-decoration-color: #808000\">indexed_vectors_count</span><span style=\"color: #000000; text-decoration-color: #000000\">=</span><span style=\"color: #008080; text-decoration-color: #008080; font-weight: bold\">0</span><span style=\"color: #000000; text-decoration-color: #000000\">,</span>\n",
       "<span style=\"color: #000000; text-decoration-color: #000000\">    </span><span style=\"color: #808000; text-decoration-color: #808000\">points_count</span><span style=\"color: #000000; text-decoration-color: #000000\">=</span><span style=\"color: #008080; text-decoration-color: #008080; font-weight: bold\">4</span><span style=\"color: #000000; text-decoration-color: #000000\">,</span>\n",
       "<span style=\"color: #000000; text-decoration-color: #000000\">    </span><span style=\"color: #808000; text-decoration-color: #808000\">segments_count</span><span style=\"color: #000000; text-decoration-color: #000000\">=</span><span style=\"color: #008080; text-decoration-color: #008080; font-weight: bold\">8</span><span style=\"color: #000000; text-decoration-color: #000000\">,</span>\n",
       "<span style=\"color: #000000; text-decoration-color: #000000\">    </span><span style=\"color: #808000; text-decoration-color: #808000\">config</span><span style=\"color: #000000; text-decoration-color: #000000\">=</span><span style=\"color: #800080; text-decoration-color: #800080; font-weight: bold\">CollectionConfig</span><span style=\"color: #000000; text-decoration-color: #000000; font-weight: bold\">(</span>\n",
       "<span style=\"color: #000000; text-decoration-color: #000000\">        </span><span style=\"color: #808000; text-decoration-color: #808000\">params</span><span style=\"color: #000000; text-decoration-color: #000000\">=</span><span style=\"color: #800080; text-decoration-color: #800080; font-weight: bold\">CollectionParams</span><span style=\"color: #000000; text-decoration-color: #000000; font-weight: bold\">(</span>\n",
       "<span style=\"color: #000000; text-decoration-color: #000000\">            </span><span style=\"color: #808000; text-decoration-color: #808000\">vectors</span><span style=\"color: #000000; text-decoration-color: #000000\">=</span><span style=\"color: #800080; text-decoration-color: #800080; font-weight: bold\">VectorParams</span><span style=\"color: #000000; text-decoration-color: #000000; font-weight: bold\">(</span>\n",
       "<span style=\"color: #000000; text-decoration-color: #000000\">                </span><span style=\"color: #808000; text-decoration-color: #808000\">size</span><span style=\"color: #000000; text-decoration-color: #000000\">=</span><span style=\"color: #008080; text-decoration-color: #008080; font-weight: bold\">384</span><span style=\"color: #000000; text-decoration-color: #000000\">,</span>\n",
       "<span style=\"color: #000000; text-decoration-color: #000000\">                </span><span style=\"color: #808000; text-decoration-color: #808000\">distance</span><span style=\"color: #000000; text-decoration-color: #000000\">=&lt;Distance.COSINE: </span><span style=\"color: #008000; text-decoration-color: #008000\">'Cosine'</span><span style=\"font-weight: bold\">&gt;</span>,\n",
       "                <span style=\"color: #808000; text-decoration-color: #808000\">hnsw_config</span>=<span style=\"color: #800080; text-decoration-color: #800080; font-style: italic\">None</span>,\n",
       "                <span style=\"color: #808000; text-decoration-color: #808000\">quantization_config</span>=<span style=\"color: #800080; text-decoration-color: #800080; font-style: italic\">None</span>,\n",
       "                <span style=\"color: #808000; text-decoration-color: #808000\">on_disk</span>=<span style=\"color: #800080; text-decoration-color: #800080; font-style: italic\">None</span>,\n",
       "                <span style=\"color: #808000; text-decoration-color: #808000\">datatype</span>=<span style=\"color: #800080; text-decoration-color: #800080; font-style: italic\">None</span>,\n",
       "                <span style=\"color: #808000; text-decoration-color: #808000\">multivector_config</span>=<span style=\"color: #800080; text-decoration-color: #800080; font-style: italic\">None</span>\n",
       "            <span style=\"font-weight: bold\">)</span>,\n",
       "            <span style=\"color: #808000; text-decoration-color: #808000\">shard_number</span>=<span style=\"color: #008080; text-decoration-color: #008080; font-weight: bold\">1</span>,\n",
       "            <span style=\"color: #808000; text-decoration-color: #808000\">sharding_method</span>=<span style=\"color: #800080; text-decoration-color: #800080; font-style: italic\">None</span>,\n",
       "            <span style=\"color: #808000; text-decoration-color: #808000\">replication_factor</span>=<span style=\"color: #008080; text-decoration-color: #008080; font-weight: bold\">1</span>,\n",
       "            <span style=\"color: #808000; text-decoration-color: #808000\">write_consistency_factor</span>=<span style=\"color: #008080; text-decoration-color: #008080; font-weight: bold\">1</span>,\n",
       "            <span style=\"color: #808000; text-decoration-color: #808000\">read_fan_out_factor</span>=<span style=\"color: #800080; text-decoration-color: #800080; font-style: italic\">None</span>,\n",
       "            <span style=\"color: #808000; text-decoration-color: #808000\">on_disk_payload</span>=<span style=\"color: #00ff00; text-decoration-color: #00ff00; font-style: italic\">True</span>,\n",
       "            <span style=\"color: #808000; text-decoration-color: #808000\">sparse_vectors</span>=<span style=\"color: #800080; text-decoration-color: #800080; font-style: italic\">None</span>\n",
       "        <span style=\"font-weight: bold\">)</span>,\n",
       "        <span style=\"color: #808000; text-decoration-color: #808000\">hnsw_config</span>=<span style=\"color: #800080; text-decoration-color: #800080; font-weight: bold\">HnswConfig</span><span style=\"font-weight: bold\">(</span>\n",
       "            <span style=\"color: #808000; text-decoration-color: #808000\">m</span>=<span style=\"color: #008080; text-decoration-color: #008080; font-weight: bold\">16</span>,\n",
       "            <span style=\"color: #808000; text-decoration-color: #808000\">ef_construct</span>=<span style=\"color: #008080; text-decoration-color: #008080; font-weight: bold\">100</span>,\n",
       "            <span style=\"color: #808000; text-decoration-color: #808000\">full_scan_threshold</span>=<span style=\"color: #008080; text-decoration-color: #008080; font-weight: bold\">10000</span>,\n",
       "            <span style=\"color: #808000; text-decoration-color: #808000\">max_indexing_threads</span>=<span style=\"color: #008080; text-decoration-color: #008080; font-weight: bold\">0</span>,\n",
       "            <span style=\"color: #808000; text-decoration-color: #808000\">on_disk</span>=<span style=\"color: #ff0000; text-decoration-color: #ff0000; font-style: italic\">False</span>,\n",
       "            <span style=\"color: #808000; text-decoration-color: #808000\">payload_m</span>=<span style=\"color: #800080; text-decoration-color: #800080; font-style: italic\">None</span>\n",
       "        <span style=\"font-weight: bold\">)</span>,\n",
       "        <span style=\"color: #808000; text-decoration-color: #808000\">optimizer_config</span>=<span style=\"color: #800080; text-decoration-color: #800080; font-weight: bold\">OptimizersConfig</span><span style=\"font-weight: bold\">(</span>\n",
       "            <span style=\"color: #808000; text-decoration-color: #808000\">deleted_threshold</span>=<span style=\"color: #008080; text-decoration-color: #008080; font-weight: bold\">0.2</span>,\n",
       "            <span style=\"color: #808000; text-decoration-color: #808000\">vacuum_min_vector_number</span>=<span style=\"color: #008080; text-decoration-color: #008080; font-weight: bold\">1000</span>,\n",
       "            <span style=\"color: #808000; text-decoration-color: #808000\">default_segment_number</span>=<span style=\"color: #008080; text-decoration-color: #008080; font-weight: bold\">0</span>,\n",
       "            <span style=\"color: #808000; text-decoration-color: #808000\">max_segment_size</span>=<span style=\"color: #800080; text-decoration-color: #800080; font-style: italic\">None</span>,\n",
       "            <span style=\"color: #808000; text-decoration-color: #808000\">memmap_threshold</span>=<span style=\"color: #800080; text-decoration-color: #800080; font-style: italic\">None</span>,\n",
       "            <span style=\"color: #808000; text-decoration-color: #808000\">indexing_threshold</span>=<span style=\"color: #008080; text-decoration-color: #008080; font-weight: bold\">20000</span>,\n",
       "            <span style=\"color: #808000; text-decoration-color: #808000\">flush_interval_sec</span>=<span style=\"color: #008080; text-decoration-color: #008080; font-weight: bold\">5</span>,\n",
       "            <span style=\"color: #808000; text-decoration-color: #808000\">max_optimization_threads</span>=<span style=\"color: #800080; text-decoration-color: #800080; font-style: italic\">None</span>\n",
       "        <span style=\"font-weight: bold\">)</span>,\n",
       "        <span style=\"color: #808000; text-decoration-color: #808000\">wal_config</span>=<span style=\"color: #800080; text-decoration-color: #800080; font-weight: bold\">WalConfig</span><span style=\"font-weight: bold\">(</span><span style=\"color: #808000; text-decoration-color: #808000\">wal_capacity_mb</span>=<span style=\"color: #008080; text-decoration-color: #008080; font-weight: bold\">32</span>, <span style=\"color: #808000; text-decoration-color: #808000\">wal_segments_ahead</span>=<span style=\"color: #008080; text-decoration-color: #008080; font-weight: bold\">0</span><span style=\"font-weight: bold\">)</span>,\n",
       "        <span style=\"color: #808000; text-decoration-color: #808000\">quantization_config</span>=<span style=\"color: #800080; text-decoration-color: #800080; font-style: italic\">None</span>\n",
       "    <span style=\"font-weight: bold\">)</span>,\n",
       "    <span style=\"color: #808000; text-decoration-color: #808000\">payload_schema</span>=<span style=\"font-weight: bold\">{}</span>\n",
       "<span style=\"font-weight: bold\">)</span>\n",
       "</pre>\n"
      ],
      "text/plain": [
       "\u001b[1;35mCollectionInfo\u001b[0m\u001b[1m(\u001b[0m\n",
       "    \u001b[33mstatus\u001b[0m=\u001b[1m<\u001b[0m\u001b[1;95mCollectionStatus.GREEN:\u001b[0m\u001b[39m \u001b[0m\u001b[32m'green'\u001b[0m\u001b[39m>,\u001b[0m\n",
       "\u001b[39m    \u001b[0m\u001b[33moptimizer_status\u001b[0m\u001b[39m=<OptimizersStatusOneOf.OK: \u001b[0m\u001b[32m'ok'\u001b[0m\u001b[39m>,\u001b[0m\n",
       "\u001b[39m    \u001b[0m\u001b[33mvectors_count\u001b[0m\u001b[39m=\u001b[0m\u001b[3;35mNone\u001b[0m\u001b[39m,\u001b[0m\n",
       "\u001b[39m    \u001b[0m\u001b[33mindexed_vectors_count\u001b[0m\u001b[39m=\u001b[0m\u001b[1;36m0\u001b[0m\u001b[39m,\u001b[0m\n",
       "\u001b[39m    \u001b[0m\u001b[33mpoints_count\u001b[0m\u001b[39m=\u001b[0m\u001b[1;36m4\u001b[0m\u001b[39m,\u001b[0m\n",
       "\u001b[39m    \u001b[0m\u001b[33msegments_count\u001b[0m\u001b[39m=\u001b[0m\u001b[1;36m8\u001b[0m\u001b[39m,\u001b[0m\n",
       "\u001b[39m    \u001b[0m\u001b[33mconfig\u001b[0m\u001b[39m=\u001b[0m\u001b[1;35mCollectionConfig\u001b[0m\u001b[1;39m(\u001b[0m\n",
       "\u001b[39m        \u001b[0m\u001b[33mparams\u001b[0m\u001b[39m=\u001b[0m\u001b[1;35mCollectionParams\u001b[0m\u001b[1;39m(\u001b[0m\n",
       "\u001b[39m            \u001b[0m\u001b[33mvectors\u001b[0m\u001b[39m=\u001b[0m\u001b[1;35mVectorParams\u001b[0m\u001b[1;39m(\u001b[0m\n",
       "\u001b[39m                \u001b[0m\u001b[33msize\u001b[0m\u001b[39m=\u001b[0m\u001b[1;36m384\u001b[0m\u001b[39m,\u001b[0m\n",
       "\u001b[39m                \u001b[0m\u001b[33mdistance\u001b[0m\u001b[39m=<Distance.COSINE: \u001b[0m\u001b[32m'Cosine'\u001b[0m\u001b[1m>\u001b[0m,\n",
       "                \u001b[33mhnsw_config\u001b[0m=\u001b[3;35mNone\u001b[0m,\n",
       "                \u001b[33mquantization_config\u001b[0m=\u001b[3;35mNone\u001b[0m,\n",
       "                \u001b[33mon_disk\u001b[0m=\u001b[3;35mNone\u001b[0m,\n",
       "                \u001b[33mdatatype\u001b[0m=\u001b[3;35mNone\u001b[0m,\n",
       "                \u001b[33mmultivector_config\u001b[0m=\u001b[3;35mNone\u001b[0m\n",
       "            \u001b[1m)\u001b[0m,\n",
       "            \u001b[33mshard_number\u001b[0m=\u001b[1;36m1\u001b[0m,\n",
       "            \u001b[33msharding_method\u001b[0m=\u001b[3;35mNone\u001b[0m,\n",
       "            \u001b[33mreplication_factor\u001b[0m=\u001b[1;36m1\u001b[0m,\n",
       "            \u001b[33mwrite_consistency_factor\u001b[0m=\u001b[1;36m1\u001b[0m,\n",
       "            \u001b[33mread_fan_out_factor\u001b[0m=\u001b[3;35mNone\u001b[0m,\n",
       "            \u001b[33mon_disk_payload\u001b[0m=\u001b[3;92mTrue\u001b[0m,\n",
       "            \u001b[33msparse_vectors\u001b[0m=\u001b[3;35mNone\u001b[0m\n",
       "        \u001b[1m)\u001b[0m,\n",
       "        \u001b[33mhnsw_config\u001b[0m=\u001b[1;35mHnswConfig\u001b[0m\u001b[1m(\u001b[0m\n",
       "            \u001b[33mm\u001b[0m=\u001b[1;36m16\u001b[0m,\n",
       "            \u001b[33mef_construct\u001b[0m=\u001b[1;36m100\u001b[0m,\n",
       "            \u001b[33mfull_scan_threshold\u001b[0m=\u001b[1;36m10000\u001b[0m,\n",
       "            \u001b[33mmax_indexing_threads\u001b[0m=\u001b[1;36m0\u001b[0m,\n",
       "            \u001b[33mon_disk\u001b[0m=\u001b[3;91mFalse\u001b[0m,\n",
       "            \u001b[33mpayload_m\u001b[0m=\u001b[3;35mNone\u001b[0m\n",
       "        \u001b[1m)\u001b[0m,\n",
       "        \u001b[33moptimizer_config\u001b[0m=\u001b[1;35mOptimizersConfig\u001b[0m\u001b[1m(\u001b[0m\n",
       "            \u001b[33mdeleted_threshold\u001b[0m=\u001b[1;36m0\u001b[0m\u001b[1;36m.2\u001b[0m,\n",
       "            \u001b[33mvacuum_min_vector_number\u001b[0m=\u001b[1;36m1000\u001b[0m,\n",
       "            \u001b[33mdefault_segment_number\u001b[0m=\u001b[1;36m0\u001b[0m,\n",
       "            \u001b[33mmax_segment_size\u001b[0m=\u001b[3;35mNone\u001b[0m,\n",
       "            \u001b[33mmemmap_threshold\u001b[0m=\u001b[3;35mNone\u001b[0m,\n",
       "            \u001b[33mindexing_threshold\u001b[0m=\u001b[1;36m20000\u001b[0m,\n",
       "            \u001b[33mflush_interval_sec\u001b[0m=\u001b[1;36m5\u001b[0m,\n",
       "            \u001b[33mmax_optimization_threads\u001b[0m=\u001b[3;35mNone\u001b[0m\n",
       "        \u001b[1m)\u001b[0m,\n",
       "        \u001b[33mwal_config\u001b[0m=\u001b[1;35mWalConfig\u001b[0m\u001b[1m(\u001b[0m\u001b[33mwal_capacity_mb\u001b[0m=\u001b[1;36m32\u001b[0m, \u001b[33mwal_segments_ahead\u001b[0m=\u001b[1;36m0\u001b[0m\u001b[1m)\u001b[0m,\n",
       "        \u001b[33mquantization_config\u001b[0m=\u001b[3;35mNone\u001b[0m\n",
       "    \u001b[1m)\u001b[0m,\n",
       "    \u001b[33mpayload_schema\u001b[0m=\u001b[1m{\u001b[0m\u001b[1m}\u001b[0m\n",
       "\u001b[1m)\u001b[0m\n"
      ]
     },
     "metadata": {},
     "output_type": "display_data"
    }
   ],
   "source": [
    "# Get collection details\n",
    "collection_info: Any = qdrant_client.get_collection(collection_name=INDEX_NAME_1)\n",
    "console.print(collection_info)"
   ]
  },
  {
   "cell_type": "code",
   "execution_count": 16,
   "metadata": {},
   "outputs": [
    {
     "data": {
      "text/html": [
       "<pre style=\"white-space:pre;overflow-x:auto;line-height:normal;font-family:Menlo,'DejaVu Sans Mono',consolas,'Courier New',monospace\"><span style=\"font-weight: bold\">{</span>\n",
       "    <span style=\"color: #008000; text-decoration-color: #008000\">'description'</span>: <span style=\"color: #008000; text-decoration-color: #008000\">\"A small, mischievous cat wears an oversized, striped hat. The contrast between the cat's size </span>\n",
       "<span style=\"color: #008000; text-decoration-color: #008000\">and its large hat creates a comical image. This clever, hat-wearing cat becomes locally famous for its playful </span>\n",
       "<span style=\"color: #008000; text-decoration-color: #008000\">tricks and distinctive appearance.\"</span>,\n",
       "    <span style=\"color: #008000; text-decoration-color: #008000\">'id'</span>: <span style=\"color: #008000; text-decoration-color: #008000\">'doc4'</span>,\n",
       "    <span style=\"color: #008000; text-decoration-color: #008000\">'tag'</span>: <span style=\"color: #008000; text-decoration-color: #008000\">'educational'</span>,\n",
       "    <span style=\"color: #008000; text-decoration-color: #008000\">'title'</span>: <span style=\"color: #008000; text-decoration-color: #008000\">'Best ^2'</span>\n",
       "<span style=\"font-weight: bold\">}</span>\n",
       "score: <span style=\"color: #008080; text-decoration-color: #008080; font-weight: bold\">0.81529826</span>\n",
       "</pre>\n"
      ],
      "text/plain": [
       "\u001b[1m{\u001b[0m\n",
       "    \u001b[32m'description'\u001b[0m: \u001b[32m\"A small, mischievous cat wears an oversized, striped hat. The contrast between the cat's size \u001b[0m\n",
       "\u001b[32mand its large hat creates a comical image. This clever, hat-wearing cat becomes locally famous for its playful \u001b[0m\n",
       "\u001b[32mtricks and distinctive appearance.\"\u001b[0m,\n",
       "    \u001b[32m'id'\u001b[0m: \u001b[32m'doc4'\u001b[0m,\n",
       "    \u001b[32m'tag'\u001b[0m: \u001b[32m'educational'\u001b[0m,\n",
       "    \u001b[32m'title'\u001b[0m: \u001b[32m'Best ^2'\u001b[0m\n",
       "\u001b[1m}\u001b[0m\n",
       "score: \u001b[1;36m0.81529826\u001b[0m\n"
      ]
     },
     "metadata": {},
     "output_type": "display_data"
    },
    {
     "data": {
      "text/html": [
       "<pre style=\"white-space:pre;overflow-x:auto;line-height:normal;font-family:Menlo,'DejaVu Sans Mono',consolas,'Courier New',monospace\"><span style=\"font-weight: bold\">{</span>\n",
       "    <span style=\"color: #008000; text-decoration-color: #008000\">'description'</span>: <span style=\"color: #008000; text-decoration-color: #008000\">'My favorite book is the cat in the hat, which is about a crazy cat who breaks into a house and </span>\n",
       "<span style=\"color: #008000; text-decoration-color: #008000\">creates a crazy afternoon for two kids.'</span>,\n",
       "    <span style=\"color: #008000; text-decoration-color: #008000\">'id'</span>: <span style=\"color: #008000; text-decoration-color: #008000\">'doc2'</span>,\n",
       "    <span style=\"color: #008000; text-decoration-color: #008000\">'tag'</span>: <span style=\"color: #008000; text-decoration-color: #008000\">'educational'</span>,\n",
       "    <span style=\"color: #008000; text-decoration-color: #008000\">'title'</span>: <span style=\"color: #008000; text-decoration-color: #008000\">'Best'</span>\n",
       "<span style=\"font-weight: bold\">}</span>\n",
       "score: <span style=\"color: #008080; text-decoration-color: #008080; font-weight: bold\">0.71300155</span>\n",
       "</pre>\n"
      ],
      "text/plain": [
       "\u001b[1m{\u001b[0m\n",
       "    \u001b[32m'description'\u001b[0m: \u001b[32m'My favorite book is the cat in the hat, which is about a crazy cat who breaks into a house and \u001b[0m\n",
       "\u001b[32mcreates a crazy afternoon for two kids.'\u001b[0m,\n",
       "    \u001b[32m'id'\u001b[0m: \u001b[32m'doc2'\u001b[0m,\n",
       "    \u001b[32m'tag'\u001b[0m: \u001b[32m'educational'\u001b[0m,\n",
       "    \u001b[32m'title'\u001b[0m: \u001b[32m'Best'\u001b[0m\n",
       "\u001b[1m}\u001b[0m\n",
       "score: \u001b[1;36m0.71300155\u001b[0m\n"
      ]
     },
     "metadata": {},
     "output_type": "display_data"
    },
    {
     "data": {
      "text/html": [
       "<pre style=\"white-space:pre;overflow-x:auto;line-height:normal;font-family:Menlo,'DejaVu Sans Mono',consolas,'Courier New',monospace\"><span style=\"font-weight: bold\">{</span>\n",
       "    <span style=\"color: #008000; text-decoration-color: #008000\">'description'</span>: <span style=\"color: #008000; text-decoration-color: #008000\">'My neighbors let the stray cat stay in their garage, which resulted in my favorite hat that I </span>\n",
       "<span style=\"color: #008000; text-decoration-color: #008000\">let them borrow being ruined.'</span>,\n",
       "    <span style=\"color: #008000; text-decoration-color: #008000\">'id'</span>: <span style=\"color: #008000; text-decoration-color: #008000\">'doc3'</span>,\n",
       "    <span style=\"color: #008000; text-decoration-color: #008000\">'tag'</span>: <span style=\"color: #008000; text-decoration-color: #008000\">'educational'</span>,\n",
       "    <span style=\"color: #008000; text-decoration-color: #008000\">'title'</span>: <span style=\"color: #008000; text-decoration-color: #008000\">'Okay'</span>\n",
       "<span style=\"font-weight: bold\">}</span>\n",
       "score: <span style=\"color: #008080; text-decoration-color: #008080; font-weight: bold\">0.65568733</span>\n",
       "</pre>\n"
      ],
      "text/plain": [
       "\u001b[1m{\u001b[0m\n",
       "    \u001b[32m'description'\u001b[0m: \u001b[32m'My neighbors let the stray cat stay in their garage, which resulted in my favorite hat that I \u001b[0m\n",
       "\u001b[32mlet them borrow being ruined.'\u001b[0m,\n",
       "    \u001b[32m'id'\u001b[0m: \u001b[32m'doc3'\u001b[0m,\n",
       "    \u001b[32m'tag'\u001b[0m: \u001b[32m'educational'\u001b[0m,\n",
       "    \u001b[32m'title'\u001b[0m: \u001b[32m'Okay'\u001b[0m\n",
       "\u001b[1m}\u001b[0m\n",
       "score: \u001b[1;36m0.65568733\u001b[0m\n"
      ]
     },
     "metadata": {},
     "output_type": "display_data"
    }
   ],
   "source": [
    "# Send a query to the collection.\n",
    "query: str = \"the cat in the hat\"\n",
    "\n",
    "hits = qdrant_client.search(\n",
    "    collection_name=INDEX_NAME_1,\n",
    "    query_vector=emb_model.encode(query)[0],\n",
    "    limit=3,\n",
    ")\n",
    "for hit in hits:\n",
    "    console.print(hit.payload, \"score:\", hit.score)"
   ]
  },
  {
   "cell_type": "code",
   "execution_count": 17,
   "metadata": {},
   "outputs": [
    {
     "data": {
      "text/plain": [
       "'the cat in the hat'"
      ]
     },
     "execution_count": 17,
     "metadata": {},
     "output_type": "execute_result"
    }
   ],
   "source": [
    "query"
   ]
  },
  {
   "cell_type": "code",
   "execution_count": 18,
   "metadata": {},
   "outputs": [],
   "source": [
    "# Add filter\n",
    "condition_1: Any = models.FieldCondition(\n",
    "    key=\"tag\", match=models.MatchValue(value=\"educational\")\n",
    ")\n",
    "condition_2: Any = models.FieldCondition(\n",
    "    key=\"tag\", match=models.MatchValue(value=\"none\")\n",
    ")\n",
    "\n",
    "query_filter_1 = models.Filter(should=[condition_1, condition_2])\n",
    "\n",
    "# OR\n",
    "query_filter_2: dict[str, Any] = {\n",
    "    \"should\": [\n",
    "        {\"key\": \"tag\", \"match\": {\"value\": \"educational\"}},\n",
    "        {\"key\": \"tag\", \"match\": {\"value\": \"none\"}},\n",
    "    ]\n",
    "}"
   ]
  },
  {
   "cell_type": "code",
   "execution_count": 19,
   "metadata": {},
   "outputs": [
    {
     "data": {
      "text/html": [
       "<pre style=\"white-space:pre;overflow-x:auto;line-height:normal;font-family:Menlo,'DejaVu Sans Mono',consolas,'Courier New',monospace\"><span style=\"font-weight: bold\">{</span>\n",
       "    <span style=\"color: #008000; text-decoration-color: #008000\">'description'</span>: <span style=\"color: #008000; text-decoration-color: #008000\">\"A small, mischievous cat wears an oversized, striped hat. The contrast between the cat's size </span>\n",
       "<span style=\"color: #008000; text-decoration-color: #008000\">and its large hat creates a comical image. This clever, hat-wearing cat becomes locally famous for its playful </span>\n",
       "<span style=\"color: #008000; text-decoration-color: #008000\">tricks and distinctive appearance.\"</span>,\n",
       "    <span style=\"color: #008000; text-decoration-color: #008000\">'id'</span>: <span style=\"color: #008000; text-decoration-color: #008000\">'doc4'</span>,\n",
       "    <span style=\"color: #008000; text-decoration-color: #008000\">'tag'</span>: <span style=\"color: #008000; text-decoration-color: #008000\">'educational'</span>,\n",
       "    <span style=\"color: #008000; text-decoration-color: #008000\">'title'</span>: <span style=\"color: #008000; text-decoration-color: #008000\">'Best ^2'</span>\n",
       "<span style=\"font-weight: bold\">}</span>\n",
       "score: <span style=\"color: #008080; text-decoration-color: #008080; font-weight: bold\">0.81529826</span>\n",
       "</pre>\n"
      ],
      "text/plain": [
       "\u001b[1m{\u001b[0m\n",
       "    \u001b[32m'description'\u001b[0m: \u001b[32m\"A small, mischievous cat wears an oversized, striped hat. The contrast between the cat's size \u001b[0m\n",
       "\u001b[32mand its large hat creates a comical image. This clever, hat-wearing cat becomes locally famous for its playful \u001b[0m\n",
       "\u001b[32mtricks and distinctive appearance.\"\u001b[0m,\n",
       "    \u001b[32m'id'\u001b[0m: \u001b[32m'doc4'\u001b[0m,\n",
       "    \u001b[32m'tag'\u001b[0m: \u001b[32m'educational'\u001b[0m,\n",
       "    \u001b[32m'title'\u001b[0m: \u001b[32m'Best ^2'\u001b[0m\n",
       "\u001b[1m}\u001b[0m\n",
       "score: \u001b[1;36m0.81529826\u001b[0m\n"
      ]
     },
     "metadata": {},
     "output_type": "display_data"
    },
    {
     "data": {
      "text/html": [
       "<pre style=\"white-space:pre;overflow-x:auto;line-height:normal;font-family:Menlo,'DejaVu Sans Mono',consolas,'Courier New',monospace\"><span style=\"font-weight: bold\">{</span>\n",
       "    <span style=\"color: #008000; text-decoration-color: #008000\">'description'</span>: <span style=\"color: #008000; text-decoration-color: #008000\">'My favorite book is the cat in the hat, which is about a crazy cat who breaks into a house and </span>\n",
       "<span style=\"color: #008000; text-decoration-color: #008000\">creates a crazy afternoon for two kids.'</span>,\n",
       "    <span style=\"color: #008000; text-decoration-color: #008000\">'id'</span>: <span style=\"color: #008000; text-decoration-color: #008000\">'doc2'</span>,\n",
       "    <span style=\"color: #008000; text-decoration-color: #008000\">'tag'</span>: <span style=\"color: #008000; text-decoration-color: #008000\">'educational'</span>,\n",
       "    <span style=\"color: #008000; text-decoration-color: #008000\">'title'</span>: <span style=\"color: #008000; text-decoration-color: #008000\">'Best'</span>\n",
       "<span style=\"font-weight: bold\">}</span>\n",
       "score: <span style=\"color: #008080; text-decoration-color: #008080; font-weight: bold\">0.71300155</span>\n",
       "</pre>\n"
      ],
      "text/plain": [
       "\u001b[1m{\u001b[0m\n",
       "    \u001b[32m'description'\u001b[0m: \u001b[32m'My favorite book is the cat in the hat, which is about a crazy cat who breaks into a house and \u001b[0m\n",
       "\u001b[32mcreates a crazy afternoon for two kids.'\u001b[0m,\n",
       "    \u001b[32m'id'\u001b[0m: \u001b[32m'doc2'\u001b[0m,\n",
       "    \u001b[32m'tag'\u001b[0m: \u001b[32m'educational'\u001b[0m,\n",
       "    \u001b[32m'title'\u001b[0m: \u001b[32m'Best'\u001b[0m\n",
       "\u001b[1m}\u001b[0m\n",
       "score: \u001b[1;36m0.71300155\u001b[0m\n"
      ]
     },
     "metadata": {},
     "output_type": "display_data"
    },
    {
     "data": {
      "text/html": [
       "<pre style=\"white-space:pre;overflow-x:auto;line-height:normal;font-family:Menlo,'DejaVu Sans Mono',consolas,'Courier New',monospace\"><span style=\"font-weight: bold\">{</span>\n",
       "    <span style=\"color: #008000; text-decoration-color: #008000\">'description'</span>: <span style=\"color: #008000; text-decoration-color: #008000\">'My neighbors let the stray cat stay in their garage, which resulted in my favorite hat that I </span>\n",
       "<span style=\"color: #008000; text-decoration-color: #008000\">let them borrow being ruined.'</span>,\n",
       "    <span style=\"color: #008000; text-decoration-color: #008000\">'id'</span>: <span style=\"color: #008000; text-decoration-color: #008000\">'doc3'</span>,\n",
       "    <span style=\"color: #008000; text-decoration-color: #008000\">'tag'</span>: <span style=\"color: #008000; text-decoration-color: #008000\">'educational'</span>,\n",
       "    <span style=\"color: #008000; text-decoration-color: #008000\">'title'</span>: <span style=\"color: #008000; text-decoration-color: #008000\">'Okay'</span>\n",
       "<span style=\"font-weight: bold\">}</span>\n",
       "score: <span style=\"color: #008080; text-decoration-color: #008080; font-weight: bold\">0.65568733</span>\n",
       "</pre>\n"
      ],
      "text/plain": [
       "\u001b[1m{\u001b[0m\n",
       "    \u001b[32m'description'\u001b[0m: \u001b[32m'My neighbors let the stray cat stay in their garage, which resulted in my favorite hat that I \u001b[0m\n",
       "\u001b[32mlet them borrow being ruined.'\u001b[0m,\n",
       "    \u001b[32m'id'\u001b[0m: \u001b[32m'doc3'\u001b[0m,\n",
       "    \u001b[32m'tag'\u001b[0m: \u001b[32m'educational'\u001b[0m,\n",
       "    \u001b[32m'title'\u001b[0m: \u001b[32m'Okay'\u001b[0m\n",
       "\u001b[1m}\u001b[0m\n",
       "score: \u001b[1;36m0.65568733\u001b[0m\n"
      ]
     },
     "metadata": {},
     "output_type": "display_data"
    }
   ],
   "source": [
    "hits = qdrant_client.search(\n",
    "    collection_name=INDEX_NAME_1,\n",
    "    query_vector=emb_model.encode(query)[0],\n",
    "    query_filter=query_filter_2,\n",
    "    limit=3,\n",
    ")\n",
    "for hit in hits:\n",
    "    console.print(hit.payload, \"score:\", hit.score)"
   ]
  },
  {
   "cell_type": "code",
   "execution_count": null,
   "metadata": {},
   "outputs": [],
   "source": []
  },
  {
   "cell_type": "markdown",
   "metadata": {},
   "source": [
    "### Using Sentence Transformer model to generate sentence embeddings"
   ]
  },
  {
   "cell_type": "code",
   "execution_count": 20,
   "metadata": {},
   "outputs": [
    {
     "data": {
      "text/plain": [
       "True"
      ]
     },
     "execution_count": 20,
     "metadata": {},
     "output_type": "execute_result"
    }
   ],
   "source": [
    "# Define storage\n",
    "# client = QdrantClient(\":memory:\")\n",
    "URL: str = \"http://localhost:6333\"\n",
    "qdrant_client = QdrantClient(URL)\n",
    "INDEX_NAME_2: str = \"test_collection 2\"\n",
    "\n",
    "vectors_config = models.VectorParams(\n",
    "    size=embeddings_dim,  # Vector size is defined by used model\n",
    "    distance=models.Distance.COSINE,\n",
    ")\n",
    "\n",
    "# Create collection Use recreate_collection for repeated experiments. It attempts to\n",
    "# remove any existing collection with the same name before creating a new one.\n",
    "qdrant_client.recreate_collection(\n",
    "    collection_name=INDEX_NAME_2, vectors_config=vectors_config\n",
    ")"
   ]
  },
  {
   "cell_type": "code",
   "execution_count": 21,
   "metadata": {},
   "outputs": [
    {
     "data": {
      "text/plain": [
       "SentenceTransformer(\n",
       "  (0): Transformer({'max_seq_length': 256, 'do_lower_case': False}) with Transformer model: BertModel \n",
       "  (1): Pooling({'word_embedding_dimension': 384, 'pooling_mode_cls_token': False, 'pooling_mode_mean_tokens': True, 'pooling_mode_max_tokens': False, 'pooling_mode_mean_sqrt_len_tokens': False, 'pooling_mode_weightedmean_tokens': False, 'pooling_mode_lasttoken': False, 'include_prompt': True})\n",
       "  (2): Normalize()\n",
       ")"
      ]
     },
     "execution_count": 21,
     "metadata": {},
     "output_type": "execute_result"
    }
   ],
   "source": [
    "checkpoint: str = \"sentence-transformers/all-MiniLM-L6-v2\"\n",
    "device: str | torch.device = \"cuda\" if torch.cuda.is_available() else \"cpu\"\n",
    "# Load the model from HuggingFace Hub\n",
    "encoder = SentenceTransformer(checkpoint, device=device)\n",
    "\n",
    "encoder"
   ]
  },
  {
   "cell_type": "code",
   "execution_count": 22,
   "metadata": {},
   "outputs": [
    {
     "data": {
      "text/plain": [
       "(256, 384)"
      ]
     },
     "execution_count": 22,
     "metadata": {},
     "output_type": "execute_result"
    }
   ],
   "source": [
    "seq_lenth, emb_dim = (\n",
    "    encoder.get_max_seq_length(),\n",
    "    encoder.get_sentence_embedding_dimension(),\n",
    ")\n",
    "seq_lenth, emb_dim"
   ]
  },
  {
   "cell_type": "code",
   "execution_count": 23,
   "metadata": {},
   "outputs": [
    {
     "data": {
      "text/plain": [
       "True"
      ]
     },
     "execution_count": 23,
     "metadata": {},
     "output_type": "execute_result"
    }
   ],
   "source": [
    "INDEX_NAME_2: str = \"test_collection 2\"\n",
    "\n",
    "vectors_config = models.VectorParams(\n",
    "    size=emb_dim,  # Vector size is defined by used model\n",
    "    distance=models.Distance.COSINE,\n",
    ")\n",
    "\n",
    "# Create collection Use recreate_collection for repeated experiments. It attempts to\n",
    "# remove any existing collection with the same name before creating a new one.\n",
    "qdrant_client.recreate_collection(\n",
    "    collection_name=INDEX_NAME_2, vectors_config=vectors_config\n",
    ")"
   ]
  },
  {
   "cell_type": "code",
   "execution_count": 24,
   "metadata": {},
   "outputs": [
    {
     "data": {
      "text/plain": [
       "4"
      ]
     },
     "execution_count": 24,
     "metadata": {},
     "output_type": "execute_result"
    }
   ],
   "source": [
    "vectors_2: list[list[float]] = encoder.encode(description).tolist()\n",
    "len(vectors_2)"
   ]
  },
  {
   "cell_type": "code",
   "execution_count": 25,
   "metadata": {},
   "outputs": [],
   "source": [
    "# Upload data to collection\n",
    "qdrant_client.upload_collection(\n",
    "    collection_name=INDEX_NAME_2, vectors=(vectors_2), payload=docs\n",
    ")"
   ]
  },
  {
   "cell_type": "code",
   "execution_count": 26,
   "metadata": {},
   "outputs": [
    {
     "data": {
      "text/html": [
       "<pre style=\"white-space:pre;overflow-x:auto;line-height:normal;font-family:Menlo,'DejaVu Sans Mono',consolas,'Courier New',monospace\"><span style=\"font-weight: bold\">{</span>\n",
       "    <span style=\"color: #008000; text-decoration-color: #008000\">'description'</span>: <span style=\"color: #008000; text-decoration-color: #008000\">\"A small, mischievous cat wears an oversized, striped hat. The contrast between the cat's size </span>\n",
       "<span style=\"color: #008000; text-decoration-color: #008000\">and its large hat creates a comical image. This clever, hat-wearing cat becomes locally famous for its playful </span>\n",
       "<span style=\"color: #008000; text-decoration-color: #008000\">tricks and distinctive appearance.\"</span>,\n",
       "    <span style=\"color: #008000; text-decoration-color: #008000\">'id'</span>: <span style=\"color: #008000; text-decoration-color: #008000\">'doc4'</span>,\n",
       "    <span style=\"color: #008000; text-decoration-color: #008000\">'tag'</span>: <span style=\"color: #008000; text-decoration-color: #008000\">'educational'</span>,\n",
       "    <span style=\"color: #008000; text-decoration-color: #008000\">'title'</span>: <span style=\"color: #008000; text-decoration-color: #008000\">'Best ^2'</span>\n",
       "<span style=\"font-weight: bold\">}</span>\n",
       "score: <span style=\"color: #008080; text-decoration-color: #008080; font-weight: bold\">0.73824596</span>\n",
       "</pre>\n"
      ],
      "text/plain": [
       "\u001b[1m{\u001b[0m\n",
       "    \u001b[32m'description'\u001b[0m: \u001b[32m\"A small, mischievous cat wears an oversized, striped hat. The contrast between the cat's size \u001b[0m\n",
       "\u001b[32mand its large hat creates a comical image. This clever, hat-wearing cat becomes locally famous for its playful \u001b[0m\n",
       "\u001b[32mtricks and distinctive appearance.\"\u001b[0m,\n",
       "    \u001b[32m'id'\u001b[0m: \u001b[32m'doc4'\u001b[0m,\n",
       "    \u001b[32m'tag'\u001b[0m: \u001b[32m'educational'\u001b[0m,\n",
       "    \u001b[32m'title'\u001b[0m: \u001b[32m'Best ^2'\u001b[0m\n",
       "\u001b[1m}\u001b[0m\n",
       "score: \u001b[1;36m0.73824596\u001b[0m\n"
      ]
     },
     "metadata": {},
     "output_type": "display_data"
    },
    {
     "data": {
      "text/html": [
       "<pre style=\"white-space:pre;overflow-x:auto;line-height:normal;font-family:Menlo,'DejaVu Sans Mono',consolas,'Courier New',monospace\"><span style=\"font-weight: bold\">{</span>\n",
       "    <span style=\"color: #008000; text-decoration-color: #008000\">'description'</span>: <span style=\"color: #008000; text-decoration-color: #008000\">'My neighbors let the stray cat stay in their garage, which resulted in my favorite hat that I </span>\n",
       "<span style=\"color: #008000; text-decoration-color: #008000\">let them borrow being ruined.'</span>,\n",
       "    <span style=\"color: #008000; text-decoration-color: #008000\">'id'</span>: <span style=\"color: #008000; text-decoration-color: #008000\">'doc3'</span>,\n",
       "    <span style=\"color: #008000; text-decoration-color: #008000\">'tag'</span>: <span style=\"color: #008000; text-decoration-color: #008000\">'educational'</span>,\n",
       "    <span style=\"color: #008000; text-decoration-color: #008000\">'title'</span>: <span style=\"color: #008000; text-decoration-color: #008000\">'Okay'</span>\n",
       "<span style=\"font-weight: bold\">}</span>\n",
       "score: <span style=\"color: #008080; text-decoration-color: #008080; font-weight: bold\">0.55140376</span>\n",
       "</pre>\n"
      ],
      "text/plain": [
       "\u001b[1m{\u001b[0m\n",
       "    \u001b[32m'description'\u001b[0m: \u001b[32m'My neighbors let the stray cat stay in their garage, which resulted in my favorite hat that I \u001b[0m\n",
       "\u001b[32mlet them borrow being ruined.'\u001b[0m,\n",
       "    \u001b[32m'id'\u001b[0m: \u001b[32m'doc3'\u001b[0m,\n",
       "    \u001b[32m'tag'\u001b[0m: \u001b[32m'educational'\u001b[0m,\n",
       "    \u001b[32m'title'\u001b[0m: \u001b[32m'Okay'\u001b[0m\n",
       "\u001b[1m}\u001b[0m\n",
       "score: \u001b[1;36m0.55140376\u001b[0m\n"
      ]
     },
     "metadata": {},
     "output_type": "display_data"
    },
    {
     "data": {
      "text/html": [
       "<pre style=\"white-space:pre;overflow-x:auto;line-height:normal;font-family:Menlo,'DejaVu Sans Mono',consolas,'Courier New',monospace\"><span style=\"font-weight: bold\">{</span>\n",
       "    <span style=\"color: #008000; text-decoration-color: #008000\">'description'</span>: <span style=\"color: #008000; text-decoration-color: #008000\">'My favorite book is the cat in the hat, which is about a crazy cat who breaks into a house and </span>\n",
       "<span style=\"color: #008000; text-decoration-color: #008000\">creates a crazy afternoon for two kids.'</span>,\n",
       "    <span style=\"color: #008000; text-decoration-color: #008000\">'id'</span>: <span style=\"color: #008000; text-decoration-color: #008000\">'doc2'</span>,\n",
       "    <span style=\"color: #008000; text-decoration-color: #008000\">'tag'</span>: <span style=\"color: #008000; text-decoration-color: #008000\">'educational'</span>,\n",
       "    <span style=\"color: #008000; text-decoration-color: #008000\">'title'</span>: <span style=\"color: #008000; text-decoration-color: #008000\">'Best'</span>\n",
       "<span style=\"font-weight: bold\">}</span>\n",
       "score: <span style=\"color: #008080; text-decoration-color: #008080; font-weight: bold\">0.4649645</span>\n",
       "</pre>\n"
      ],
      "text/plain": [
       "\u001b[1m{\u001b[0m\n",
       "    \u001b[32m'description'\u001b[0m: \u001b[32m'My favorite book is the cat in the hat, which is about a crazy cat who breaks into a house and \u001b[0m\n",
       "\u001b[32mcreates a crazy afternoon for two kids.'\u001b[0m,\n",
       "    \u001b[32m'id'\u001b[0m: \u001b[32m'doc2'\u001b[0m,\n",
       "    \u001b[32m'tag'\u001b[0m: \u001b[32m'educational'\u001b[0m,\n",
       "    \u001b[32m'title'\u001b[0m: \u001b[32m'Best'\u001b[0m\n",
       "\u001b[1m}\u001b[0m\n",
       "score: \u001b[1;36m0.4649645\u001b[0m\n"
      ]
     },
     "metadata": {},
     "output_type": "display_data"
    }
   ],
   "source": [
    "# Send a query to the collection.\n",
    "query: str = \"the cat in the hat\"\n",
    "\n",
    "hits = qdrant_client.search(\n",
    "    collection_name=INDEX_NAME_2,\n",
    "    query_vector=list(encoder.encode(query)),\n",
    "    limit=3,\n",
    ")\n",
    "for hit in hits:\n",
    "    console.print(hit.payload, \"score:\", hit.score)"
   ]
  },
  {
   "cell_type": "code",
   "execution_count": null,
   "metadata": {},
   "outputs": [],
   "source": []
  },
  {
   "cell_type": "markdown",
   "metadata": {},
   "source": [
    "### Using Hybrid Search (BM 42) <a id='bm-42'></a>\n",
    "\n",
    "- Dense Vectors\n",
    "- Sparse Vectors (Splade)"
   ]
  },
  {
   "cell_type": "code",
   "execution_count": 27,
   "metadata": {},
   "outputs": [],
   "source": [
    "from fastembed import SparseEmbedding, SparseTextEmbedding, TextEmbedding"
   ]
  },
  {
   "cell_type": "code",
   "execution_count": 28,
   "metadata": {},
   "outputs": [],
   "source": [
    "from qdrant_client.models import SparseVector"
   ]
  },
  {
   "cell_type": "code",
   "execution_count": 29,
   "metadata": {},
   "outputs": [
    {
     "data": {
      "text/html": [
       "<pre style=\"white-space:pre;overflow-x:auto;line-height:normal;font-family:Menlo,'DejaVu Sans Mono',consolas,'Courier New',monospace\"><span style=\"font-weight: bold\">[</span>\n",
       "    <span style=\"font-weight: bold\">{</span>\n",
       "        <span style=\"color: #008000; text-decoration-color: #008000\">'model'</span>: <span style=\"color: #008000; text-decoration-color: #008000\">'prithvida/Splade_PP_en_v1'</span>,\n",
       "        <span style=\"color: #008000; text-decoration-color: #008000\">'vocab_size'</span>: <span style=\"color: #008080; text-decoration-color: #008080; font-weight: bold\">30522</span>,\n",
       "        <span style=\"color: #008000; text-decoration-color: #008000\">'description'</span>: <span style=\"color: #008000; text-decoration-color: #008000\">'Misspelled version of the model. Retained for backward compatibility. Independent </span>\n",
       "<span style=\"color: #008000; text-decoration-color: #008000\">Implementation of SPLADE++ Model for English'</span>,\n",
       "        <span style=\"color: #008000; text-decoration-color: #008000\">'size_in_GB'</span>: <span style=\"color: #008080; text-decoration-color: #008080; font-weight: bold\">0.532</span>,\n",
       "        <span style=\"color: #008000; text-decoration-color: #008000\">'sources'</span>: <span style=\"font-weight: bold\">{</span><span style=\"color: #008000; text-decoration-color: #008000\">'hf'</span>: <span style=\"color: #008000; text-decoration-color: #008000\">'Qdrant/SPLADE_PP_en_v1'</span><span style=\"font-weight: bold\">}</span>,\n",
       "        <span style=\"color: #008000; text-decoration-color: #008000\">'model_file'</span>: <span style=\"color: #008000; text-decoration-color: #008000\">'model.onnx'</span>\n",
       "    <span style=\"font-weight: bold\">}</span>,\n",
       "    <span style=\"font-weight: bold\">{</span>\n",
       "        <span style=\"color: #008000; text-decoration-color: #008000\">'model'</span>: <span style=\"color: #008000; text-decoration-color: #008000\">'prithivida/Splade_PP_en_v1'</span>,\n",
       "        <span style=\"color: #008000; text-decoration-color: #008000\">'vocab_size'</span>: <span style=\"color: #008080; text-decoration-color: #008080; font-weight: bold\">30522</span>,\n",
       "        <span style=\"color: #008000; text-decoration-color: #008000\">'description'</span>: <span style=\"color: #008000; text-decoration-color: #008000\">'Independent Implementation of SPLADE++ Model for English'</span>,\n",
       "        <span style=\"color: #008000; text-decoration-color: #008000\">'size_in_GB'</span>: <span style=\"color: #008080; text-decoration-color: #008080; font-weight: bold\">0.532</span>,\n",
       "        <span style=\"color: #008000; text-decoration-color: #008000\">'sources'</span>: <span style=\"font-weight: bold\">{</span><span style=\"color: #008000; text-decoration-color: #008000\">'hf'</span>: <span style=\"color: #008000; text-decoration-color: #008000\">'Qdrant/SPLADE_PP_en_v1'</span><span style=\"font-weight: bold\">}</span>,\n",
       "        <span style=\"color: #008000; text-decoration-color: #008000\">'model_file'</span>: <span style=\"color: #008000; text-decoration-color: #008000\">'model.onnx'</span>\n",
       "    <span style=\"font-weight: bold\">}</span>,\n",
       "    <span style=\"font-weight: bold\">{</span>\n",
       "        <span style=\"color: #008000; text-decoration-color: #008000\">'model'</span>: <span style=\"color: #008000; text-decoration-color: #008000\">'Qdrant/bm42-all-minilm-l6-v2-attentions'</span>,\n",
       "        <span style=\"color: #008000; text-decoration-color: #008000\">'vocab_size'</span>: <span style=\"color: #008080; text-decoration-color: #008080; font-weight: bold\">30522</span>,\n",
       "        <span style=\"color: #008000; text-decoration-color: #008000\">'description'</span>: <span style=\"color: #008000; text-decoration-color: #008000\">'Light sparse embedding model, which assigns an importance score to each token in the text'</span>,\n",
       "        <span style=\"color: #008000; text-decoration-color: #008000\">'size_in_GB'</span>: <span style=\"color: #008080; text-decoration-color: #008080; font-weight: bold\">0.09</span>,\n",
       "        <span style=\"color: #008000; text-decoration-color: #008000\">'sources'</span>: <span style=\"font-weight: bold\">{</span><span style=\"color: #008000; text-decoration-color: #008000\">'hf'</span>: <span style=\"color: #008000; text-decoration-color: #008000\">'Qdrant/all_miniLM_L6_v2_with_attentions'</span><span style=\"font-weight: bold\">}</span>,\n",
       "        <span style=\"color: #008000; text-decoration-color: #008000\">'model_file'</span>: <span style=\"color: #008000; text-decoration-color: #008000\">'model.onnx'</span>,\n",
       "        <span style=\"color: #008000; text-decoration-color: #008000\">'additional_files'</span>: <span style=\"font-weight: bold\">[</span><span style=\"color: #008000; text-decoration-color: #008000\">'stopwords.txt'</span><span style=\"font-weight: bold\">]</span>\n",
       "    <span style=\"font-weight: bold\">}</span>,\n",
       "    <span style=\"font-weight: bold\">{</span>\n",
       "        <span style=\"color: #008000; text-decoration-color: #008000\">'model'</span>: <span style=\"color: #008000; text-decoration-color: #008000\">'Qdrant/bm25'</span>,\n",
       "        <span style=\"color: #008000; text-decoration-color: #008000\">'description'</span>: <span style=\"color: #008000; text-decoration-color: #008000\">'BM25 as sparse embeddings meant to be used with Qdrant'</span>,\n",
       "        <span style=\"color: #008000; text-decoration-color: #008000\">'size_in_GB'</span>: <span style=\"color: #008080; text-decoration-color: #008080; font-weight: bold\">0.01</span>,\n",
       "        <span style=\"color: #008000; text-decoration-color: #008000\">'sources'</span>: <span style=\"font-weight: bold\">{</span><span style=\"color: #008000; text-decoration-color: #008000\">'hf'</span>: <span style=\"color: #008000; text-decoration-color: #008000\">'Qdrant/bm25'</span><span style=\"font-weight: bold\">}</span>,\n",
       "        <span style=\"color: #008000; text-decoration-color: #008000\">'model_file'</span>: <span style=\"color: #008000; text-decoration-color: #008000\">'mock.file'</span>,\n",
       "        <span style=\"color: #008000; text-decoration-color: #008000\">'additional_files'</span>: <span style=\"font-weight: bold\">[</span><span style=\"color: #008000; text-decoration-color: #008000\">'stopwords.txt'</span><span style=\"font-weight: bold\">]</span>\n",
       "    <span style=\"font-weight: bold\">}</span>\n",
       "<span style=\"font-weight: bold\">]</span>\n",
       "</pre>\n"
      ],
      "text/plain": [
       "\u001b[1m[\u001b[0m\n",
       "    \u001b[1m{\u001b[0m\n",
       "        \u001b[32m'model'\u001b[0m: \u001b[32m'prithvida/Splade_PP_en_v1'\u001b[0m,\n",
       "        \u001b[32m'vocab_size'\u001b[0m: \u001b[1;36m30522\u001b[0m,\n",
       "        \u001b[32m'description'\u001b[0m: \u001b[32m'Misspelled version of the model. Retained for backward compatibility. Independent \u001b[0m\n",
       "\u001b[32mImplementation of SPLADE++ Model for English'\u001b[0m,\n",
       "        \u001b[32m'size_in_GB'\u001b[0m: \u001b[1;36m0.532\u001b[0m,\n",
       "        \u001b[32m'sources'\u001b[0m: \u001b[1m{\u001b[0m\u001b[32m'hf'\u001b[0m: \u001b[32m'Qdrant/SPLADE_PP_en_v1'\u001b[0m\u001b[1m}\u001b[0m,\n",
       "        \u001b[32m'model_file'\u001b[0m: \u001b[32m'model.onnx'\u001b[0m\n",
       "    \u001b[1m}\u001b[0m,\n",
       "    \u001b[1m{\u001b[0m\n",
       "        \u001b[32m'model'\u001b[0m: \u001b[32m'prithivida/Splade_PP_en_v1'\u001b[0m,\n",
       "        \u001b[32m'vocab_size'\u001b[0m: \u001b[1;36m30522\u001b[0m,\n",
       "        \u001b[32m'description'\u001b[0m: \u001b[32m'Independent Implementation of SPLADE++ Model for English'\u001b[0m,\n",
       "        \u001b[32m'size_in_GB'\u001b[0m: \u001b[1;36m0.532\u001b[0m,\n",
       "        \u001b[32m'sources'\u001b[0m: \u001b[1m{\u001b[0m\u001b[32m'hf'\u001b[0m: \u001b[32m'Qdrant/SPLADE_PP_en_v1'\u001b[0m\u001b[1m}\u001b[0m,\n",
       "        \u001b[32m'model_file'\u001b[0m: \u001b[32m'model.onnx'\u001b[0m\n",
       "    \u001b[1m}\u001b[0m,\n",
       "    \u001b[1m{\u001b[0m\n",
       "        \u001b[32m'model'\u001b[0m: \u001b[32m'Qdrant/bm42-all-minilm-l6-v2-attentions'\u001b[0m,\n",
       "        \u001b[32m'vocab_size'\u001b[0m: \u001b[1;36m30522\u001b[0m,\n",
       "        \u001b[32m'description'\u001b[0m: \u001b[32m'Light sparse embedding model, which assigns an importance score to each token in the text'\u001b[0m,\n",
       "        \u001b[32m'size_in_GB'\u001b[0m: \u001b[1;36m0.09\u001b[0m,\n",
       "        \u001b[32m'sources'\u001b[0m: \u001b[1m{\u001b[0m\u001b[32m'hf'\u001b[0m: \u001b[32m'Qdrant/all_miniLM_L6_v2_with_attentions'\u001b[0m\u001b[1m}\u001b[0m,\n",
       "        \u001b[32m'model_file'\u001b[0m: \u001b[32m'model.onnx'\u001b[0m,\n",
       "        \u001b[32m'additional_files'\u001b[0m: \u001b[1m[\u001b[0m\u001b[32m'stopwords.txt'\u001b[0m\u001b[1m]\u001b[0m\n",
       "    \u001b[1m}\u001b[0m,\n",
       "    \u001b[1m{\u001b[0m\n",
       "        \u001b[32m'model'\u001b[0m: \u001b[32m'Qdrant/bm25'\u001b[0m,\n",
       "        \u001b[32m'description'\u001b[0m: \u001b[32m'BM25 as sparse embeddings meant to be used with Qdrant'\u001b[0m,\n",
       "        \u001b[32m'size_in_GB'\u001b[0m: \u001b[1;36m0.01\u001b[0m,\n",
       "        \u001b[32m'sources'\u001b[0m: \u001b[1m{\u001b[0m\u001b[32m'hf'\u001b[0m: \u001b[32m'Qdrant/bm25'\u001b[0m\u001b[1m}\u001b[0m,\n",
       "        \u001b[32m'model_file'\u001b[0m: \u001b[32m'mock.file'\u001b[0m,\n",
       "        \u001b[32m'additional_files'\u001b[0m: \u001b[1m[\u001b[0m\u001b[32m'stopwords.txt'\u001b[0m\u001b[1m]\u001b[0m\n",
       "    \u001b[1m}\u001b[0m\n",
       "\u001b[1m]\u001b[0m\n"
      ]
     },
     "metadata": {},
     "output_type": "display_data"
    }
   ],
   "source": [
    "console.print(SparseTextEmbedding.list_supported_models())"
   ]
  },
  {
   "cell_type": "code",
   "execution_count": 30,
   "metadata": {},
   "outputs": [
    {
     "data": {
      "text/html": [
       "<pre style=\"white-space:pre;overflow-x:auto;line-height:normal;font-family:Menlo,'DejaVu Sans Mono',consolas,'Courier New',monospace\"><span style=\"font-weight: bold\">[</span>\n",
       "    <span style=\"font-weight: bold\">{</span>\n",
       "        <span style=\"color: #008000; text-decoration-color: #008000\">'model'</span>: <span style=\"color: #008000; text-decoration-color: #008000\">'BAAI/bge-base-en'</span>,\n",
       "        <span style=\"color: #008000; text-decoration-color: #008000\">'dim'</span>: <span style=\"color: #008080; text-decoration-color: #008080; font-weight: bold\">768</span>,\n",
       "        <span style=\"color: #008000; text-decoration-color: #008000\">'description'</span>: <span style=\"color: #008000; text-decoration-color: #008000\">'Base English model'</span>,\n",
       "        <span style=\"color: #008000; text-decoration-color: #008000\">'size_in_GB'</span>: <span style=\"color: #008080; text-decoration-color: #008080; font-weight: bold\">0.42</span>,\n",
       "        <span style=\"color: #008000; text-decoration-color: #008000\">'sources'</span>: <span style=\"font-weight: bold\">{</span><span style=\"color: #008000; text-decoration-color: #008000\">'url'</span>: <span style=\"color: #008000; text-decoration-color: #008000\">'https://storage.googleapis.com/qdrant-fastembed/fast-bge-base-en.tar.gz'</span><span style=\"font-weight: bold\">}</span>,\n",
       "        <span style=\"color: #008000; text-decoration-color: #008000\">'model_file'</span>: <span style=\"color: #008000; text-decoration-color: #008000\">'model_optimized.onnx'</span>\n",
       "    <span style=\"font-weight: bold\">}</span>,\n",
       "    <span style=\"font-weight: bold\">{</span>\n",
       "        <span style=\"color: #008000; text-decoration-color: #008000\">'model'</span>: <span style=\"color: #008000; text-decoration-color: #008000\">'BAAI/bge-base-en-v1.5'</span>,\n",
       "        <span style=\"color: #008000; text-decoration-color: #008000\">'dim'</span>: <span style=\"color: #008080; text-decoration-color: #008080; font-weight: bold\">768</span>,\n",
       "        <span style=\"color: #008000; text-decoration-color: #008000\">'description'</span>: <span style=\"color: #008000; text-decoration-color: #008000\">'Base English model, v1.5'</span>,\n",
       "        <span style=\"color: #008000; text-decoration-color: #008000\">'size_in_GB'</span>: <span style=\"color: #008080; text-decoration-color: #008080; font-weight: bold\">0.21</span>,\n",
       "        <span style=\"color: #008000; text-decoration-color: #008000\">'sources'</span>: <span style=\"font-weight: bold\">{</span>\n",
       "            <span style=\"color: #008000; text-decoration-color: #008000\">'url'</span>: <span style=\"color: #008000; text-decoration-color: #008000\">'https://storage.googleapis.com/qdrant-fastembed/fast-bge-base-en-v1.5.tar.gz'</span>,\n",
       "            <span style=\"color: #008000; text-decoration-color: #008000\">'hf'</span>: <span style=\"color: #008000; text-decoration-color: #008000\">'qdrant/bge-base-en-v1.5-onnx-q'</span>\n",
       "        <span style=\"font-weight: bold\">}</span>,\n",
       "        <span style=\"color: #008000; text-decoration-color: #008000\">'model_file'</span>: <span style=\"color: #008000; text-decoration-color: #008000\">'model_optimized.onnx'</span>\n",
       "    <span style=\"font-weight: bold\">}</span>,\n",
       "    <span style=\"font-weight: bold\">{</span>\n",
       "        <span style=\"color: #008000; text-decoration-color: #008000\">'model'</span>: <span style=\"color: #008000; text-decoration-color: #008000\">'BAAI/bge-large-en-v1.5'</span>,\n",
       "        <span style=\"color: #008000; text-decoration-color: #008000\">'dim'</span>: <span style=\"color: #008080; text-decoration-color: #008080; font-weight: bold\">1024</span>,\n",
       "        <span style=\"color: #008000; text-decoration-color: #008000\">'description'</span>: <span style=\"color: #008000; text-decoration-color: #008000\">'Large English model, v1.5'</span>,\n",
       "        <span style=\"color: #008000; text-decoration-color: #008000\">'size_in_GB'</span>: <span style=\"color: #008080; text-decoration-color: #008080; font-weight: bold\">1.2</span>,\n",
       "        <span style=\"color: #008000; text-decoration-color: #008000\">'sources'</span>: <span style=\"font-weight: bold\">{</span><span style=\"color: #008000; text-decoration-color: #008000\">'hf'</span>: <span style=\"color: #008000; text-decoration-color: #008000\">'qdrant/bge-large-en-v1.5-onnx'</span><span style=\"font-weight: bold\">}</span>,\n",
       "        <span style=\"color: #008000; text-decoration-color: #008000\">'model_file'</span>: <span style=\"color: #008000; text-decoration-color: #008000\">'model.onnx'</span>\n",
       "    <span style=\"font-weight: bold\">}</span>,\n",
       "    <span style=\"font-weight: bold\">{</span>\n",
       "        <span style=\"color: #008000; text-decoration-color: #008000\">'model'</span>: <span style=\"color: #008000; text-decoration-color: #008000\">'BAAI/bge-small-en'</span>,\n",
       "        <span style=\"color: #008000; text-decoration-color: #008000\">'dim'</span>: <span style=\"color: #008080; text-decoration-color: #008080; font-weight: bold\">384</span>,\n",
       "        <span style=\"color: #008000; text-decoration-color: #008000\">'description'</span>: <span style=\"color: #008000; text-decoration-color: #008000\">'Fast English model'</span>,\n",
       "        <span style=\"color: #008000; text-decoration-color: #008000\">'size_in_GB'</span>: <span style=\"color: #008080; text-decoration-color: #008080; font-weight: bold\">0.13</span>,\n",
       "        <span style=\"color: #008000; text-decoration-color: #008000\">'sources'</span>: <span style=\"font-weight: bold\">{</span><span style=\"color: #008000; text-decoration-color: #008000\">'url'</span>: <span style=\"color: #008000; text-decoration-color: #008000\">'https://storage.googleapis.com/qdrant-fastembed/BAAI-bge-small-en.tar.gz'</span><span style=\"font-weight: bold\">}</span>,\n",
       "        <span style=\"color: #008000; text-decoration-color: #008000\">'model_file'</span>: <span style=\"color: #008000; text-decoration-color: #008000\">'model_optimized.onnx'</span>\n",
       "    <span style=\"font-weight: bold\">}</span>,\n",
       "    <span style=\"font-weight: bold\">{</span>\n",
       "        <span style=\"color: #008000; text-decoration-color: #008000\">'model'</span>: <span style=\"color: #008000; text-decoration-color: #008000\">'BAAI/bge-small-en-v1.5'</span>,\n",
       "        <span style=\"color: #008000; text-decoration-color: #008000\">'dim'</span>: <span style=\"color: #008080; text-decoration-color: #008080; font-weight: bold\">384</span>,\n",
       "        <span style=\"color: #008000; text-decoration-color: #008000\">'description'</span>: <span style=\"color: #008000; text-decoration-color: #008000\">'Fast and Default English model'</span>,\n",
       "        <span style=\"color: #008000; text-decoration-color: #008000\">'size_in_GB'</span>: <span style=\"color: #008080; text-decoration-color: #008080; font-weight: bold\">0.067</span>,\n",
       "        <span style=\"color: #008000; text-decoration-color: #008000\">'sources'</span>: <span style=\"font-weight: bold\">{</span><span style=\"color: #008000; text-decoration-color: #008000\">'hf'</span>: <span style=\"color: #008000; text-decoration-color: #008000\">'qdrant/bge-small-en-v1.5-onnx-q'</span><span style=\"font-weight: bold\">}</span>,\n",
       "        <span style=\"color: #008000; text-decoration-color: #008000\">'model_file'</span>: <span style=\"color: #008000; text-decoration-color: #008000\">'model_optimized.onnx'</span>\n",
       "    <span style=\"font-weight: bold\">}</span>,\n",
       "    <span style=\"font-weight: bold\">{</span>\n",
       "        <span style=\"color: #008000; text-decoration-color: #008000\">'model'</span>: <span style=\"color: #008000; text-decoration-color: #008000\">'BAAI/bge-small-zh-v1.5'</span>,\n",
       "        <span style=\"color: #008000; text-decoration-color: #008000\">'dim'</span>: <span style=\"color: #008080; text-decoration-color: #008080; font-weight: bold\">512</span>,\n",
       "        <span style=\"color: #008000; text-decoration-color: #008000\">'description'</span>: <span style=\"color: #008000; text-decoration-color: #008000\">'Fast and recommended Chinese model'</span>,\n",
       "        <span style=\"color: #008000; text-decoration-color: #008000\">'size_in_GB'</span>: <span style=\"color: #008080; text-decoration-color: #008080; font-weight: bold\">0.09</span>,\n",
       "        <span style=\"color: #008000; text-decoration-color: #008000\">'sources'</span>: <span style=\"font-weight: bold\">{</span><span style=\"color: #008000; text-decoration-color: #008000\">'url'</span>: <span style=\"color: #008000; text-decoration-color: #008000\">'https://storage.googleapis.com/qdrant-fastembed/fast-bge-small-zh-v1.5.tar.gz'</span><span style=\"font-weight: bold\">}</span>,\n",
       "        <span style=\"color: #008000; text-decoration-color: #008000\">'model_file'</span>: <span style=\"color: #008000; text-decoration-color: #008000\">'model_optimized.onnx'</span>\n",
       "    <span style=\"font-weight: bold\">}</span>,\n",
       "    <span style=\"font-weight: bold\">{</span>\n",
       "        <span style=\"color: #008000; text-decoration-color: #008000\">'model'</span>: <span style=\"color: #008000; text-decoration-color: #008000\">'sentence-transformers/paraphrase-multilingual-MiniLM-L12-v2'</span>,\n",
       "        <span style=\"color: #008000; text-decoration-color: #008000\">'dim'</span>: <span style=\"color: #008080; text-decoration-color: #008080; font-weight: bold\">384</span>,\n",
       "        <span style=\"color: #008000; text-decoration-color: #008000\">'description'</span>: <span style=\"color: #008000; text-decoration-color: #008000\">'Sentence Transformer model, paraphrase-multilingual-MiniLM-L12-v2'</span>,\n",
       "        <span style=\"color: #008000; text-decoration-color: #008000\">'size_in_GB'</span>: <span style=\"color: #008080; text-decoration-color: #008080; font-weight: bold\">0.22</span>,\n",
       "        <span style=\"color: #008000; text-decoration-color: #008000\">'sources'</span>: <span style=\"font-weight: bold\">{</span><span style=\"color: #008000; text-decoration-color: #008000\">'hf'</span>: <span style=\"color: #008000; text-decoration-color: #008000\">'qdrant/paraphrase-multilingual-MiniLM-L12-v2-onnx-Q'</span><span style=\"font-weight: bold\">}</span>,\n",
       "        <span style=\"color: #008000; text-decoration-color: #008000\">'model_file'</span>: <span style=\"color: #008000; text-decoration-color: #008000\">'model_optimized.onnx'</span>\n",
       "    <span style=\"font-weight: bold\">}</span>,\n",
       "    <span style=\"font-weight: bold\">{</span>\n",
       "        <span style=\"color: #008000; text-decoration-color: #008000\">'model'</span>: <span style=\"color: #008000; text-decoration-color: #008000\">'nomic-ai/nomic-embed-text-v1'</span>,\n",
       "        <span style=\"color: #008000; text-decoration-color: #008000\">'dim'</span>: <span style=\"color: #008080; text-decoration-color: #008080; font-weight: bold\">768</span>,\n",
       "        <span style=\"color: #008000; text-decoration-color: #008000\">'description'</span>: <span style=\"color: #008000; text-decoration-color: #008000\">'8192 context length english model'</span>,\n",
       "        <span style=\"color: #008000; text-decoration-color: #008000\">'size_in_GB'</span>: <span style=\"color: #008080; text-decoration-color: #008080; font-weight: bold\">0.52</span>,\n",
       "        <span style=\"color: #008000; text-decoration-color: #008000\">'sources'</span>: <span style=\"font-weight: bold\">{</span><span style=\"color: #008000; text-decoration-color: #008000\">'hf'</span>: <span style=\"color: #008000; text-decoration-color: #008000\">'nomic-ai/nomic-embed-text-v1'</span><span style=\"font-weight: bold\">}</span>,\n",
       "        <span style=\"color: #008000; text-decoration-color: #008000\">'model_file'</span>: <span style=\"color: #008000; text-decoration-color: #008000\">'onnx/model.onnx'</span>\n",
       "    <span style=\"font-weight: bold\">}</span>,\n",
       "    <span style=\"font-weight: bold\">{</span>\n",
       "        <span style=\"color: #008000; text-decoration-color: #008000\">'model'</span>: <span style=\"color: #008000; text-decoration-color: #008000\">'nomic-ai/nomic-embed-text-v1.5'</span>,\n",
       "        <span style=\"color: #008000; text-decoration-color: #008000\">'dim'</span>: <span style=\"color: #008080; text-decoration-color: #008080; font-weight: bold\">768</span>,\n",
       "        <span style=\"color: #008000; text-decoration-color: #008000\">'description'</span>: <span style=\"color: #008000; text-decoration-color: #008000\">'8192 context length english model'</span>,\n",
       "        <span style=\"color: #008000; text-decoration-color: #008000\">'size_in_GB'</span>: <span style=\"color: #008080; text-decoration-color: #008080; font-weight: bold\">0.52</span>,\n",
       "        <span style=\"color: #008000; text-decoration-color: #008000\">'sources'</span>: <span style=\"font-weight: bold\">{</span><span style=\"color: #008000; text-decoration-color: #008000\">'hf'</span>: <span style=\"color: #008000; text-decoration-color: #008000\">'nomic-ai/nomic-embed-text-v1.5'</span><span style=\"font-weight: bold\">}</span>,\n",
       "        <span style=\"color: #008000; text-decoration-color: #008000\">'model_file'</span>: <span style=\"color: #008000; text-decoration-color: #008000\">'onnx/model.onnx'</span>\n",
       "    <span style=\"font-weight: bold\">}</span>,\n",
       "    <span style=\"font-weight: bold\">{</span>\n",
       "        <span style=\"color: #008000; text-decoration-color: #008000\">'model'</span>: <span style=\"color: #008000; text-decoration-color: #008000\">'nomic-ai/nomic-embed-text-v1.5-Q'</span>,\n",
       "        <span style=\"color: #008000; text-decoration-color: #008000\">'dim'</span>: <span style=\"color: #008080; text-decoration-color: #008080; font-weight: bold\">768</span>,\n",
       "        <span style=\"color: #008000; text-decoration-color: #008000\">'description'</span>: <span style=\"color: #008000; text-decoration-color: #008000\">'Quantized 8192 context length english model'</span>,\n",
       "        <span style=\"color: #008000; text-decoration-color: #008000\">'size_in_GB'</span>: <span style=\"color: #008080; text-decoration-color: #008080; font-weight: bold\">0.13</span>,\n",
       "        <span style=\"color: #008000; text-decoration-color: #008000\">'sources'</span>: <span style=\"font-weight: bold\">{</span><span style=\"color: #008000; text-decoration-color: #008000\">'hf'</span>: <span style=\"color: #008000; text-decoration-color: #008000\">'nomic-ai/nomic-embed-text-v1.5'</span><span style=\"font-weight: bold\">}</span>,\n",
       "        <span style=\"color: #008000; text-decoration-color: #008000\">'model_file'</span>: <span style=\"color: #008000; text-decoration-color: #008000\">'onnx/model_quantized.onnx'</span>\n",
       "    <span style=\"font-weight: bold\">}</span>,\n",
       "    <span style=\"font-weight: bold\">{</span>\n",
       "        <span style=\"color: #008000; text-decoration-color: #008000\">'model'</span>: <span style=\"color: #008000; text-decoration-color: #008000\">'thenlper/gte-large'</span>,\n",
       "        <span style=\"color: #008000; text-decoration-color: #008000\">'dim'</span>: <span style=\"color: #008080; text-decoration-color: #008080; font-weight: bold\">1024</span>,\n",
       "        <span style=\"color: #008000; text-decoration-color: #008000\">'description'</span>: <span style=\"color: #008000; text-decoration-color: #008000\">'Large general text embeddings model'</span>,\n",
       "        <span style=\"color: #008000; text-decoration-color: #008000\">'size_in_GB'</span>: <span style=\"color: #008080; text-decoration-color: #008080; font-weight: bold\">1.2</span>,\n",
       "        <span style=\"color: #008000; text-decoration-color: #008000\">'sources'</span>: <span style=\"font-weight: bold\">{</span><span style=\"color: #008000; text-decoration-color: #008000\">'hf'</span>: <span style=\"color: #008000; text-decoration-color: #008000\">'qdrant/gte-large-onnx'</span><span style=\"font-weight: bold\">}</span>,\n",
       "        <span style=\"color: #008000; text-decoration-color: #008000\">'model_file'</span>: <span style=\"color: #008000; text-decoration-color: #008000\">'model.onnx'</span>\n",
       "    <span style=\"font-weight: bold\">}</span>,\n",
       "    <span style=\"font-weight: bold\">{</span>\n",
       "        <span style=\"color: #008000; text-decoration-color: #008000\">'model'</span>: <span style=\"color: #008000; text-decoration-color: #008000\">'mixedbread-ai/mxbai-embed-large-v1'</span>,\n",
       "        <span style=\"color: #008000; text-decoration-color: #008000\">'dim'</span>: <span style=\"color: #008080; text-decoration-color: #008080; font-weight: bold\">1024</span>,\n",
       "        <span style=\"color: #008000; text-decoration-color: #008000\">'description'</span>: <span style=\"color: #008000; text-decoration-color: #008000\">'MixedBread Base sentence embedding model, does well on MTEB'</span>,\n",
       "        <span style=\"color: #008000; text-decoration-color: #008000\">'size_in_GB'</span>: <span style=\"color: #008080; text-decoration-color: #008080; font-weight: bold\">0.64</span>,\n",
       "        <span style=\"color: #008000; text-decoration-color: #008000\">'sources'</span>: <span style=\"font-weight: bold\">{</span><span style=\"color: #008000; text-decoration-color: #008000\">'hf'</span>: <span style=\"color: #008000; text-decoration-color: #008000\">'mixedbread-ai/mxbai-embed-large-v1'</span><span style=\"font-weight: bold\">}</span>,\n",
       "        <span style=\"color: #008000; text-decoration-color: #008000\">'model_file'</span>: <span style=\"color: #008000; text-decoration-color: #008000\">'onnx/model.onnx'</span>\n",
       "    <span style=\"font-weight: bold\">}</span>,\n",
       "    <span style=\"font-weight: bold\">{</span>\n",
       "        <span style=\"color: #008000; text-decoration-color: #008000\">'model'</span>: <span style=\"color: #008000; text-decoration-color: #008000\">'snowflake/snowflake-arctic-embed-xs'</span>,\n",
       "        <span style=\"color: #008000; text-decoration-color: #008000\">'dim'</span>: <span style=\"color: #008080; text-decoration-color: #008080; font-weight: bold\">384</span>,\n",
       "        <span style=\"color: #008000; text-decoration-color: #008000\">'description'</span>: <span style=\"color: #008000; text-decoration-color: #008000\">'Based on all-MiniLM-L6-v2 model with only 22m parameters, ideal for latency/TCO budgets.'</span>,\n",
       "        <span style=\"color: #008000; text-decoration-color: #008000\">'size_in_GB'</span>: <span style=\"color: #008080; text-decoration-color: #008080; font-weight: bold\">0.09</span>,\n",
       "        <span style=\"color: #008000; text-decoration-color: #008000\">'sources'</span>: <span style=\"font-weight: bold\">{</span><span style=\"color: #008000; text-decoration-color: #008000\">'hf'</span>: <span style=\"color: #008000; text-decoration-color: #008000\">'snowflake/snowflake-arctic-embed-xs'</span><span style=\"font-weight: bold\">}</span>,\n",
       "        <span style=\"color: #008000; text-decoration-color: #008000\">'model_file'</span>: <span style=\"color: #008000; text-decoration-color: #008000\">'onnx/model.onnx'</span>\n",
       "    <span style=\"font-weight: bold\">}</span>,\n",
       "    <span style=\"font-weight: bold\">{</span>\n",
       "        <span style=\"color: #008000; text-decoration-color: #008000\">'model'</span>: <span style=\"color: #008000; text-decoration-color: #008000\">'snowflake/snowflake-arctic-embed-s'</span>,\n",
       "        <span style=\"color: #008000; text-decoration-color: #008000\">'dim'</span>: <span style=\"color: #008080; text-decoration-color: #008080; font-weight: bold\">384</span>,\n",
       "        <span style=\"color: #008000; text-decoration-color: #008000\">'description'</span>: <span style=\"color: #008000; text-decoration-color: #008000\">'Based on infloat/e5-small-unsupervised, does not trade off retrieval accuracy for its small</span>\n",
       "<span style=\"color: #008000; text-decoration-color: #008000\">size.'</span>,\n",
       "        <span style=\"color: #008000; text-decoration-color: #008000\">'size_in_GB'</span>: <span style=\"color: #008080; text-decoration-color: #008080; font-weight: bold\">0.13</span>,\n",
       "        <span style=\"color: #008000; text-decoration-color: #008000\">'sources'</span>: <span style=\"font-weight: bold\">{</span><span style=\"color: #008000; text-decoration-color: #008000\">'hf'</span>: <span style=\"color: #008000; text-decoration-color: #008000\">'snowflake/snowflake-arctic-embed-s'</span><span style=\"font-weight: bold\">}</span>,\n",
       "        <span style=\"color: #008000; text-decoration-color: #008000\">'model_file'</span>: <span style=\"color: #008000; text-decoration-color: #008000\">'onnx/model.onnx'</span>\n",
       "    <span style=\"font-weight: bold\">}</span>,\n",
       "    <span style=\"font-weight: bold\">{</span>\n",
       "        <span style=\"color: #008000; text-decoration-color: #008000\">'model'</span>: <span style=\"color: #008000; text-decoration-color: #008000\">'snowflake/snowflake-arctic-embed-m'</span>,\n",
       "        <span style=\"color: #008000; text-decoration-color: #008000\">'dim'</span>: <span style=\"color: #008080; text-decoration-color: #008080; font-weight: bold\">768</span>,\n",
       "        <span style=\"color: #008000; text-decoration-color: #008000\">'description'</span>: <span style=\"color: #008000; text-decoration-color: #008000\">'Based on intfloat/e5-base-unsupervised model, provides the best retrieval without slowing </span>\n",
       "<span style=\"color: #008000; text-decoration-color: #008000\">down inference.'</span>,\n",
       "        <span style=\"color: #008000; text-decoration-color: #008000\">'size_in_GB'</span>: <span style=\"color: #008080; text-decoration-color: #008080; font-weight: bold\">0.43</span>,\n",
       "        <span style=\"color: #008000; text-decoration-color: #008000\">'sources'</span>: <span style=\"font-weight: bold\">{</span><span style=\"color: #008000; text-decoration-color: #008000\">'hf'</span>: <span style=\"color: #008000; text-decoration-color: #008000\">'Snowflake/snowflake-arctic-embed-m'</span><span style=\"font-weight: bold\">}</span>,\n",
       "        <span style=\"color: #008000; text-decoration-color: #008000\">'model_file'</span>: <span style=\"color: #008000; text-decoration-color: #008000\">'onnx/model.onnx'</span>\n",
       "    <span style=\"font-weight: bold\">}</span>,\n",
       "    <span style=\"font-weight: bold\">{</span>\n",
       "        <span style=\"color: #008000; text-decoration-color: #008000\">'model'</span>: <span style=\"color: #008000; text-decoration-color: #008000\">'snowflake/snowflake-arctic-embed-m-long'</span>,\n",
       "        <span style=\"color: #008000; text-decoration-color: #008000\">'dim'</span>: <span style=\"color: #008080; text-decoration-color: #008080; font-weight: bold\">768</span>,\n",
       "        <span style=\"color: #008000; text-decoration-color: #008000\">'description'</span>: <span style=\"color: #008000; text-decoration-color: #008000\">'Based on nomic-ai/nomic-embed-text-v1-unsupervised model, 8192 context-length model'</span>,\n",
       "        <span style=\"color: #008000; text-decoration-color: #008000\">'size_in_GB'</span>: <span style=\"color: #008080; text-decoration-color: #008080; font-weight: bold\">0.54</span>,\n",
       "        <span style=\"color: #008000; text-decoration-color: #008000\">'sources'</span>: <span style=\"font-weight: bold\">{</span><span style=\"color: #008000; text-decoration-color: #008000\">'hf'</span>: <span style=\"color: #008000; text-decoration-color: #008000\">'snowflake/snowflake-arctic-embed-m-long'</span><span style=\"font-weight: bold\">}</span>,\n",
       "        <span style=\"color: #008000; text-decoration-color: #008000\">'model_file'</span>: <span style=\"color: #008000; text-decoration-color: #008000\">'onnx/model.onnx'</span>\n",
       "    <span style=\"font-weight: bold\">}</span>,\n",
       "    <span style=\"font-weight: bold\">{</span>\n",
       "        <span style=\"color: #008000; text-decoration-color: #008000\">'model'</span>: <span style=\"color: #008000; text-decoration-color: #008000\">'snowflake/snowflake-arctic-embed-l'</span>,\n",
       "        <span style=\"color: #008000; text-decoration-color: #008000\">'dim'</span>: <span style=\"color: #008080; text-decoration-color: #008080; font-weight: bold\">1024</span>,\n",
       "        <span style=\"color: #008000; text-decoration-color: #008000\">'description'</span>: <span style=\"color: #008000; text-decoration-color: #008000\">'Based on intfloat/e5-large-unsupervised, large model for most accurate retrieval.'</span>,\n",
       "        <span style=\"color: #008000; text-decoration-color: #008000\">'size_in_GB'</span>: <span style=\"color: #008080; text-decoration-color: #008080; font-weight: bold\">1.02</span>,\n",
       "        <span style=\"color: #008000; text-decoration-color: #008000\">'sources'</span>: <span style=\"font-weight: bold\">{</span><span style=\"color: #008000; text-decoration-color: #008000\">'hf'</span>: <span style=\"color: #008000; text-decoration-color: #008000\">'snowflake/snowflake-arctic-embed-l'</span><span style=\"font-weight: bold\">}</span>,\n",
       "        <span style=\"color: #008000; text-decoration-color: #008000\">'model_file'</span>: <span style=\"color: #008000; text-decoration-color: #008000\">'onnx/model.onnx'</span>\n",
       "    <span style=\"font-weight: bold\">}</span>,\n",
       "    <span style=\"font-weight: bold\">{</span>\n",
       "        <span style=\"color: #008000; text-decoration-color: #008000\">'model'</span>: <span style=\"color: #008000; text-decoration-color: #008000\">'intfloat/multilingual-e5-large'</span>,\n",
       "        <span style=\"color: #008000; text-decoration-color: #008000\">'dim'</span>: <span style=\"color: #008080; text-decoration-color: #008080; font-weight: bold\">1024</span>,\n",
       "        <span style=\"color: #008000; text-decoration-color: #008000\">'description'</span>: <span style=\"color: #008000; text-decoration-color: #008000\">'Multilingual model, e5-large. Recommend using this model for non-English languages'</span>,\n",
       "        <span style=\"color: #008000; text-decoration-color: #008000\">'size_in_GB'</span>: <span style=\"color: #008080; text-decoration-color: #008080; font-weight: bold\">2.24</span>,\n",
       "        <span style=\"color: #008000; text-decoration-color: #008000\">'sources'</span>: <span style=\"font-weight: bold\">{</span>\n",
       "            <span style=\"color: #008000; text-decoration-color: #008000\">'url'</span>: <span style=\"color: #008000; text-decoration-color: #008000\">'https://storage.googleapis.com/qdrant-fastembed/fast-multilingual-e5-large.tar.gz'</span>,\n",
       "            <span style=\"color: #008000; text-decoration-color: #008000\">'hf'</span>: <span style=\"color: #008000; text-decoration-color: #008000\">'qdrant/multilingual-e5-large-onnx'</span>\n",
       "        <span style=\"font-weight: bold\">}</span>,\n",
       "        <span style=\"color: #008000; text-decoration-color: #008000\">'model_file'</span>: <span style=\"color: #008000; text-decoration-color: #008000\">'model.onnx'</span>,\n",
       "        <span style=\"color: #008000; text-decoration-color: #008000\">'additional_files'</span>: <span style=\"font-weight: bold\">[</span><span style=\"color: #008000; text-decoration-color: #008000\">'model.onnx_data'</span><span style=\"font-weight: bold\">]</span>\n",
       "    <span style=\"font-weight: bold\">}</span>,\n",
       "    <span style=\"font-weight: bold\">{</span>\n",
       "        <span style=\"color: #008000; text-decoration-color: #008000\">'model'</span>: <span style=\"color: #008000; text-decoration-color: #008000\">'sentence-transformers/paraphrase-multilingual-mpnet-base-v2'</span>,\n",
       "        <span style=\"color: #008000; text-decoration-color: #008000\">'dim'</span>: <span style=\"color: #008080; text-decoration-color: #008080; font-weight: bold\">768</span>,\n",
       "        <span style=\"color: #008000; text-decoration-color: #008000\">'description'</span>: <span style=\"color: #008000; text-decoration-color: #008000\">'Sentence-transformers model for tasks like clustering or semantic search'</span>,\n",
       "        <span style=\"color: #008000; text-decoration-color: #008000\">'size_in_GB'</span>: <span style=\"color: #008080; text-decoration-color: #008080; font-weight: bold\">1.0</span>,\n",
       "        <span style=\"color: #008000; text-decoration-color: #008000\">'sources'</span>: <span style=\"font-weight: bold\">{</span><span style=\"color: #008000; text-decoration-color: #008000\">'hf'</span>: <span style=\"color: #008000; text-decoration-color: #008000\">'xenova/paraphrase-multilingual-mpnet-base-v2'</span><span style=\"font-weight: bold\">}</span>,\n",
       "        <span style=\"color: #008000; text-decoration-color: #008000\">'model_file'</span>: <span style=\"color: #008000; text-decoration-color: #008000\">'onnx/model.onnx'</span>\n",
       "    <span style=\"font-weight: bold\">}</span>,\n",
       "    <span style=\"font-weight: bold\">{</span>\n",
       "        <span style=\"color: #008000; text-decoration-color: #008000\">'model'</span>: <span style=\"color: #008000; text-decoration-color: #008000\">'jinaai/jina-embeddings-v2-base-en'</span>,\n",
       "        <span style=\"color: #008000; text-decoration-color: #008000\">'dim'</span>: <span style=\"color: #008080; text-decoration-color: #008080; font-weight: bold\">768</span>,\n",
       "        <span style=\"color: #008000; text-decoration-color: #008000\">'description'</span>: <span style=\"color: #008000; text-decoration-color: #008000\">'English embedding model supporting 8192 sequence length'</span>,\n",
       "        <span style=\"color: #008000; text-decoration-color: #008000\">'size_in_GB'</span>: <span style=\"color: #008080; text-decoration-color: #008080; font-weight: bold\">0.52</span>,\n",
       "        <span style=\"color: #008000; text-decoration-color: #008000\">'sources'</span>: <span style=\"font-weight: bold\">{</span><span style=\"color: #008000; text-decoration-color: #008000\">'hf'</span>: <span style=\"color: #008000; text-decoration-color: #008000\">'xenova/jina-embeddings-v2-base-en'</span><span style=\"font-weight: bold\">}</span>,\n",
       "        <span style=\"color: #008000; text-decoration-color: #008000\">'model_file'</span>: <span style=\"color: #008000; text-decoration-color: #008000\">'onnx/model.onnx'</span>\n",
       "    <span style=\"font-weight: bold\">}</span>,\n",
       "    <span style=\"font-weight: bold\">{</span>\n",
       "        <span style=\"color: #008000; text-decoration-color: #008000\">'model'</span>: <span style=\"color: #008000; text-decoration-color: #008000\">'jinaai/jina-embeddings-v2-small-en'</span>,\n",
       "        <span style=\"color: #008000; text-decoration-color: #008000\">'dim'</span>: <span style=\"color: #008080; text-decoration-color: #008080; font-weight: bold\">512</span>,\n",
       "        <span style=\"color: #008000; text-decoration-color: #008000\">'description'</span>: <span style=\"color: #008000; text-decoration-color: #008000\">'English embedding model supporting 8192 sequence length'</span>,\n",
       "        <span style=\"color: #008000; text-decoration-color: #008000\">'size_in_GB'</span>: <span style=\"color: #008080; text-decoration-color: #008080; font-weight: bold\">0.12</span>,\n",
       "        <span style=\"color: #008000; text-decoration-color: #008000\">'sources'</span>: <span style=\"font-weight: bold\">{</span><span style=\"color: #008000; text-decoration-color: #008000\">'hf'</span>: <span style=\"color: #008000; text-decoration-color: #008000\">'xenova/jina-embeddings-v2-small-en'</span><span style=\"font-weight: bold\">}</span>,\n",
       "        <span style=\"color: #008000; text-decoration-color: #008000\">'model_file'</span>: <span style=\"color: #008000; text-decoration-color: #008000\">'onnx/model.onnx'</span>\n",
       "    <span style=\"font-weight: bold\">}</span>,\n",
       "    <span style=\"font-weight: bold\">{</span>\n",
       "        <span style=\"color: #008000; text-decoration-color: #008000\">'model'</span>: <span style=\"color: #008000; text-decoration-color: #008000\">'jinaai/jina-embeddings-v2-base-de'</span>,\n",
       "        <span style=\"color: #008000; text-decoration-color: #008000\">'dim'</span>: <span style=\"color: #008080; text-decoration-color: #008080; font-weight: bold\">768</span>,\n",
       "        <span style=\"color: #008000; text-decoration-color: #008000\">'description'</span>: <span style=\"color: #008000; text-decoration-color: #008000\">'German embedding model supporting 8192 sequence length'</span>,\n",
       "        <span style=\"color: #008000; text-decoration-color: #008000\">'size_in_GB'</span>: <span style=\"color: #008080; text-decoration-color: #008080; font-weight: bold\">0.32</span>,\n",
       "        <span style=\"color: #008000; text-decoration-color: #008000\">'sources'</span>: <span style=\"font-weight: bold\">{</span><span style=\"color: #008000; text-decoration-color: #008000\">'hf'</span>: <span style=\"color: #008000; text-decoration-color: #008000\">'jinaai/jina-embeddings-v2-base-de'</span><span style=\"font-weight: bold\">}</span>,\n",
       "        <span style=\"color: #008000; text-decoration-color: #008000\">'model_file'</span>: <span style=\"color: #008000; text-decoration-color: #008000\">'onnx/model_fp16.onnx'</span>\n",
       "    <span style=\"font-weight: bold\">}</span>,\n",
       "    <span style=\"font-weight: bold\">{</span>\n",
       "        <span style=\"color: #008000; text-decoration-color: #008000\">'model'</span>: <span style=\"color: #008000; text-decoration-color: #008000\">'Qdrant/clip-ViT-B-32-text'</span>,\n",
       "        <span style=\"color: #008000; text-decoration-color: #008000\">'dim'</span>: <span style=\"color: #008080; text-decoration-color: #008080; font-weight: bold\">512</span>,\n",
       "        <span style=\"color: #008000; text-decoration-color: #008000\">'description'</span>: <span style=\"color: #008000; text-decoration-color: #008000\">'CLIP text encoder'</span>,\n",
       "        <span style=\"color: #008000; text-decoration-color: #008000\">'size_in_GB'</span>: <span style=\"color: #008080; text-decoration-color: #008080; font-weight: bold\">0.25</span>,\n",
       "        <span style=\"color: #008000; text-decoration-color: #008000\">'sources'</span>: <span style=\"font-weight: bold\">{</span><span style=\"color: #008000; text-decoration-color: #008000\">'hf'</span>: <span style=\"color: #008000; text-decoration-color: #008000\">'Qdrant/clip-ViT-B-32-text'</span><span style=\"font-weight: bold\">}</span>,\n",
       "        <span style=\"color: #008000; text-decoration-color: #008000\">'model_file'</span>: <span style=\"color: #008000; text-decoration-color: #008000\">'model.onnx'</span>\n",
       "    <span style=\"font-weight: bold\">}</span>,\n",
       "    <span style=\"font-weight: bold\">{</span>\n",
       "        <span style=\"color: #008000; text-decoration-color: #008000\">'model'</span>: <span style=\"color: #008000; text-decoration-color: #008000\">'sentence-transformers/all-MiniLM-L6-v2'</span>,\n",
       "        <span style=\"color: #008000; text-decoration-color: #008000\">'dim'</span>: <span style=\"color: #008080; text-decoration-color: #008080; font-weight: bold\">384</span>,\n",
       "        <span style=\"color: #008000; text-decoration-color: #008000\">'description'</span>: <span style=\"color: #008000; text-decoration-color: #008000\">'Sentence Transformer model, MiniLM-L6-v2'</span>,\n",
       "        <span style=\"color: #008000; text-decoration-color: #008000\">'size_in_GB'</span>: <span style=\"color: #008080; text-decoration-color: #008080; font-weight: bold\">0.09</span>,\n",
       "        <span style=\"color: #008000; text-decoration-color: #008000\">'sources'</span>: <span style=\"font-weight: bold\">{</span>\n",
       "            <span style=\"color: #008000; text-decoration-color: #008000\">'url'</span>: <span style=\"color: #008000; text-decoration-color: #008000\">'https://storage.googleapis.com/qdrant-fastembed/sentence-transformers-all-MiniLM-L6-v2.tar.gz'</span>,\n",
       "            <span style=\"color: #008000; text-decoration-color: #008000\">'hf'</span>: <span style=\"color: #008000; text-decoration-color: #008000\">'qdrant/all-MiniLM-L6-v2-onnx'</span>\n",
       "        <span style=\"font-weight: bold\">}</span>,\n",
       "        <span style=\"color: #008000; text-decoration-color: #008000\">'model_file'</span>: <span style=\"color: #008000; text-decoration-color: #008000\">'model.onnx'</span>\n",
       "    <span style=\"font-weight: bold\">}</span>\n",
       "<span style=\"font-weight: bold\">]</span>\n",
       "</pre>\n"
      ],
      "text/plain": [
       "\u001b[1m[\u001b[0m\n",
       "    \u001b[1m{\u001b[0m\n",
       "        \u001b[32m'model'\u001b[0m: \u001b[32m'BAAI/bge-base-en'\u001b[0m,\n",
       "        \u001b[32m'dim'\u001b[0m: \u001b[1;36m768\u001b[0m,\n",
       "        \u001b[32m'description'\u001b[0m: \u001b[32m'Base English model'\u001b[0m,\n",
       "        \u001b[32m'size_in_GB'\u001b[0m: \u001b[1;36m0.42\u001b[0m,\n",
       "        \u001b[32m'sources'\u001b[0m: \u001b[1m{\u001b[0m\u001b[32m'url'\u001b[0m: \u001b[32m'https://storage.googleapis.com/qdrant-fastembed/fast-bge-base-en.tar.gz'\u001b[0m\u001b[1m}\u001b[0m,\n",
       "        \u001b[32m'model_file'\u001b[0m: \u001b[32m'model_optimized.onnx'\u001b[0m\n",
       "    \u001b[1m}\u001b[0m,\n",
       "    \u001b[1m{\u001b[0m\n",
       "        \u001b[32m'model'\u001b[0m: \u001b[32m'BAAI/bge-base-en-v1.5'\u001b[0m,\n",
       "        \u001b[32m'dim'\u001b[0m: \u001b[1;36m768\u001b[0m,\n",
       "        \u001b[32m'description'\u001b[0m: \u001b[32m'Base English model, v1.5'\u001b[0m,\n",
       "        \u001b[32m'size_in_GB'\u001b[0m: \u001b[1;36m0.21\u001b[0m,\n",
       "        \u001b[32m'sources'\u001b[0m: \u001b[1m{\u001b[0m\n",
       "            \u001b[32m'url'\u001b[0m: \u001b[32m'https://storage.googleapis.com/qdrant-fastembed/fast-bge-base-en-v1.5.tar.gz'\u001b[0m,\n",
       "            \u001b[32m'hf'\u001b[0m: \u001b[32m'qdrant/bge-base-en-v1.5-onnx-q'\u001b[0m\n",
       "        \u001b[1m}\u001b[0m,\n",
       "        \u001b[32m'model_file'\u001b[0m: \u001b[32m'model_optimized.onnx'\u001b[0m\n",
       "    \u001b[1m}\u001b[0m,\n",
       "    \u001b[1m{\u001b[0m\n",
       "        \u001b[32m'model'\u001b[0m: \u001b[32m'BAAI/bge-large-en-v1.5'\u001b[0m,\n",
       "        \u001b[32m'dim'\u001b[0m: \u001b[1;36m1024\u001b[0m,\n",
       "        \u001b[32m'description'\u001b[0m: \u001b[32m'Large English model, v1.5'\u001b[0m,\n",
       "        \u001b[32m'size_in_GB'\u001b[0m: \u001b[1;36m1.2\u001b[0m,\n",
       "        \u001b[32m'sources'\u001b[0m: \u001b[1m{\u001b[0m\u001b[32m'hf'\u001b[0m: \u001b[32m'qdrant/bge-large-en-v1.5-onnx'\u001b[0m\u001b[1m}\u001b[0m,\n",
       "        \u001b[32m'model_file'\u001b[0m: \u001b[32m'model.onnx'\u001b[0m\n",
       "    \u001b[1m}\u001b[0m,\n",
       "    \u001b[1m{\u001b[0m\n",
       "        \u001b[32m'model'\u001b[0m: \u001b[32m'BAAI/bge-small-en'\u001b[0m,\n",
       "        \u001b[32m'dim'\u001b[0m: \u001b[1;36m384\u001b[0m,\n",
       "        \u001b[32m'description'\u001b[0m: \u001b[32m'Fast English model'\u001b[0m,\n",
       "        \u001b[32m'size_in_GB'\u001b[0m: \u001b[1;36m0.13\u001b[0m,\n",
       "        \u001b[32m'sources'\u001b[0m: \u001b[1m{\u001b[0m\u001b[32m'url'\u001b[0m: \u001b[32m'https://storage.googleapis.com/qdrant-fastembed/BAAI-bge-small-en.tar.gz'\u001b[0m\u001b[1m}\u001b[0m,\n",
       "        \u001b[32m'model_file'\u001b[0m: \u001b[32m'model_optimized.onnx'\u001b[0m\n",
       "    \u001b[1m}\u001b[0m,\n",
       "    \u001b[1m{\u001b[0m\n",
       "        \u001b[32m'model'\u001b[0m: \u001b[32m'BAAI/bge-small-en-v1.5'\u001b[0m,\n",
       "        \u001b[32m'dim'\u001b[0m: \u001b[1;36m384\u001b[0m,\n",
       "        \u001b[32m'description'\u001b[0m: \u001b[32m'Fast and Default English model'\u001b[0m,\n",
       "        \u001b[32m'size_in_GB'\u001b[0m: \u001b[1;36m0.067\u001b[0m,\n",
       "        \u001b[32m'sources'\u001b[0m: \u001b[1m{\u001b[0m\u001b[32m'hf'\u001b[0m: \u001b[32m'qdrant/bge-small-en-v1.5-onnx-q'\u001b[0m\u001b[1m}\u001b[0m,\n",
       "        \u001b[32m'model_file'\u001b[0m: \u001b[32m'model_optimized.onnx'\u001b[0m\n",
       "    \u001b[1m}\u001b[0m,\n",
       "    \u001b[1m{\u001b[0m\n",
       "        \u001b[32m'model'\u001b[0m: \u001b[32m'BAAI/bge-small-zh-v1.5'\u001b[0m,\n",
       "        \u001b[32m'dim'\u001b[0m: \u001b[1;36m512\u001b[0m,\n",
       "        \u001b[32m'description'\u001b[0m: \u001b[32m'Fast and recommended Chinese model'\u001b[0m,\n",
       "        \u001b[32m'size_in_GB'\u001b[0m: \u001b[1;36m0.09\u001b[0m,\n",
       "        \u001b[32m'sources'\u001b[0m: \u001b[1m{\u001b[0m\u001b[32m'url'\u001b[0m: \u001b[32m'https://storage.googleapis.com/qdrant-fastembed/fast-bge-small-zh-v1.5.tar.gz'\u001b[0m\u001b[1m}\u001b[0m,\n",
       "        \u001b[32m'model_file'\u001b[0m: \u001b[32m'model_optimized.onnx'\u001b[0m\n",
       "    \u001b[1m}\u001b[0m,\n",
       "    \u001b[1m{\u001b[0m\n",
       "        \u001b[32m'model'\u001b[0m: \u001b[32m'sentence-transformers/paraphrase-multilingual-MiniLM-L12-v2'\u001b[0m,\n",
       "        \u001b[32m'dim'\u001b[0m: \u001b[1;36m384\u001b[0m,\n",
       "        \u001b[32m'description'\u001b[0m: \u001b[32m'Sentence Transformer model, paraphrase-multilingual-MiniLM-L12-v2'\u001b[0m,\n",
       "        \u001b[32m'size_in_GB'\u001b[0m: \u001b[1;36m0.22\u001b[0m,\n",
       "        \u001b[32m'sources'\u001b[0m: \u001b[1m{\u001b[0m\u001b[32m'hf'\u001b[0m: \u001b[32m'qdrant/paraphrase-multilingual-MiniLM-L12-v2-onnx-Q'\u001b[0m\u001b[1m}\u001b[0m,\n",
       "        \u001b[32m'model_file'\u001b[0m: \u001b[32m'model_optimized.onnx'\u001b[0m\n",
       "    \u001b[1m}\u001b[0m,\n",
       "    \u001b[1m{\u001b[0m\n",
       "        \u001b[32m'model'\u001b[0m: \u001b[32m'nomic-ai/nomic-embed-text-v1'\u001b[0m,\n",
       "        \u001b[32m'dim'\u001b[0m: \u001b[1;36m768\u001b[0m,\n",
       "        \u001b[32m'description'\u001b[0m: \u001b[32m'8192 context length english model'\u001b[0m,\n",
       "        \u001b[32m'size_in_GB'\u001b[0m: \u001b[1;36m0.52\u001b[0m,\n",
       "        \u001b[32m'sources'\u001b[0m: \u001b[1m{\u001b[0m\u001b[32m'hf'\u001b[0m: \u001b[32m'nomic-ai/nomic-embed-text-v1'\u001b[0m\u001b[1m}\u001b[0m,\n",
       "        \u001b[32m'model_file'\u001b[0m: \u001b[32m'onnx/model.onnx'\u001b[0m\n",
       "    \u001b[1m}\u001b[0m,\n",
       "    \u001b[1m{\u001b[0m\n",
       "        \u001b[32m'model'\u001b[0m: \u001b[32m'nomic-ai/nomic-embed-text-v1.5'\u001b[0m,\n",
       "        \u001b[32m'dim'\u001b[0m: \u001b[1;36m768\u001b[0m,\n",
       "        \u001b[32m'description'\u001b[0m: \u001b[32m'8192 context length english model'\u001b[0m,\n",
       "        \u001b[32m'size_in_GB'\u001b[0m: \u001b[1;36m0.52\u001b[0m,\n",
       "        \u001b[32m'sources'\u001b[0m: \u001b[1m{\u001b[0m\u001b[32m'hf'\u001b[0m: \u001b[32m'nomic-ai/nomic-embed-text-v1.5'\u001b[0m\u001b[1m}\u001b[0m,\n",
       "        \u001b[32m'model_file'\u001b[0m: \u001b[32m'onnx/model.onnx'\u001b[0m\n",
       "    \u001b[1m}\u001b[0m,\n",
       "    \u001b[1m{\u001b[0m\n",
       "        \u001b[32m'model'\u001b[0m: \u001b[32m'nomic-ai/nomic-embed-text-v1.5-Q'\u001b[0m,\n",
       "        \u001b[32m'dim'\u001b[0m: \u001b[1;36m768\u001b[0m,\n",
       "        \u001b[32m'description'\u001b[0m: \u001b[32m'Quantized 8192 context length english model'\u001b[0m,\n",
       "        \u001b[32m'size_in_GB'\u001b[0m: \u001b[1;36m0.13\u001b[0m,\n",
       "        \u001b[32m'sources'\u001b[0m: \u001b[1m{\u001b[0m\u001b[32m'hf'\u001b[0m: \u001b[32m'nomic-ai/nomic-embed-text-v1.5'\u001b[0m\u001b[1m}\u001b[0m,\n",
       "        \u001b[32m'model_file'\u001b[0m: \u001b[32m'onnx/model_quantized.onnx'\u001b[0m\n",
       "    \u001b[1m}\u001b[0m,\n",
       "    \u001b[1m{\u001b[0m\n",
       "        \u001b[32m'model'\u001b[0m: \u001b[32m'thenlper/gte-large'\u001b[0m,\n",
       "        \u001b[32m'dim'\u001b[0m: \u001b[1;36m1024\u001b[0m,\n",
       "        \u001b[32m'description'\u001b[0m: \u001b[32m'Large general text embeddings model'\u001b[0m,\n",
       "        \u001b[32m'size_in_GB'\u001b[0m: \u001b[1;36m1.2\u001b[0m,\n",
       "        \u001b[32m'sources'\u001b[0m: \u001b[1m{\u001b[0m\u001b[32m'hf'\u001b[0m: \u001b[32m'qdrant/gte-large-onnx'\u001b[0m\u001b[1m}\u001b[0m,\n",
       "        \u001b[32m'model_file'\u001b[0m: \u001b[32m'model.onnx'\u001b[0m\n",
       "    \u001b[1m}\u001b[0m,\n",
       "    \u001b[1m{\u001b[0m\n",
       "        \u001b[32m'model'\u001b[0m: \u001b[32m'mixedbread-ai/mxbai-embed-large-v1'\u001b[0m,\n",
       "        \u001b[32m'dim'\u001b[0m: \u001b[1;36m1024\u001b[0m,\n",
       "        \u001b[32m'description'\u001b[0m: \u001b[32m'MixedBread Base sentence embedding model, does well on MTEB'\u001b[0m,\n",
       "        \u001b[32m'size_in_GB'\u001b[0m: \u001b[1;36m0.64\u001b[0m,\n",
       "        \u001b[32m'sources'\u001b[0m: \u001b[1m{\u001b[0m\u001b[32m'hf'\u001b[0m: \u001b[32m'mixedbread-ai/mxbai-embed-large-v1'\u001b[0m\u001b[1m}\u001b[0m,\n",
       "        \u001b[32m'model_file'\u001b[0m: \u001b[32m'onnx/model.onnx'\u001b[0m\n",
       "    \u001b[1m}\u001b[0m,\n",
       "    \u001b[1m{\u001b[0m\n",
       "        \u001b[32m'model'\u001b[0m: \u001b[32m'snowflake/snowflake-arctic-embed-xs'\u001b[0m,\n",
       "        \u001b[32m'dim'\u001b[0m: \u001b[1;36m384\u001b[0m,\n",
       "        \u001b[32m'description'\u001b[0m: \u001b[32m'Based on all-MiniLM-L6-v2 model with only 22m parameters, ideal for latency/TCO budgets.'\u001b[0m,\n",
       "        \u001b[32m'size_in_GB'\u001b[0m: \u001b[1;36m0.09\u001b[0m,\n",
       "        \u001b[32m'sources'\u001b[0m: \u001b[1m{\u001b[0m\u001b[32m'hf'\u001b[0m: \u001b[32m'snowflake/snowflake-arctic-embed-xs'\u001b[0m\u001b[1m}\u001b[0m,\n",
       "        \u001b[32m'model_file'\u001b[0m: \u001b[32m'onnx/model.onnx'\u001b[0m\n",
       "    \u001b[1m}\u001b[0m,\n",
       "    \u001b[1m{\u001b[0m\n",
       "        \u001b[32m'model'\u001b[0m: \u001b[32m'snowflake/snowflake-arctic-embed-s'\u001b[0m,\n",
       "        \u001b[32m'dim'\u001b[0m: \u001b[1;36m384\u001b[0m,\n",
       "        \u001b[32m'description'\u001b[0m: \u001b[32m'Based on infloat/e5-small-unsupervised, does not trade off retrieval accuracy for its small\u001b[0m\n",
       "\u001b[32msize.'\u001b[0m,\n",
       "        \u001b[32m'size_in_GB'\u001b[0m: \u001b[1;36m0.13\u001b[0m,\n",
       "        \u001b[32m'sources'\u001b[0m: \u001b[1m{\u001b[0m\u001b[32m'hf'\u001b[0m: \u001b[32m'snowflake/snowflake-arctic-embed-s'\u001b[0m\u001b[1m}\u001b[0m,\n",
       "        \u001b[32m'model_file'\u001b[0m: \u001b[32m'onnx/model.onnx'\u001b[0m\n",
       "    \u001b[1m}\u001b[0m,\n",
       "    \u001b[1m{\u001b[0m\n",
       "        \u001b[32m'model'\u001b[0m: \u001b[32m'snowflake/snowflake-arctic-embed-m'\u001b[0m,\n",
       "        \u001b[32m'dim'\u001b[0m: \u001b[1;36m768\u001b[0m,\n",
       "        \u001b[32m'description'\u001b[0m: \u001b[32m'Based on intfloat/e5-base-unsupervised model, provides the best retrieval without slowing \u001b[0m\n",
       "\u001b[32mdown inference.'\u001b[0m,\n",
       "        \u001b[32m'size_in_GB'\u001b[0m: \u001b[1;36m0.43\u001b[0m,\n",
       "        \u001b[32m'sources'\u001b[0m: \u001b[1m{\u001b[0m\u001b[32m'hf'\u001b[0m: \u001b[32m'Snowflake/snowflake-arctic-embed-m'\u001b[0m\u001b[1m}\u001b[0m,\n",
       "        \u001b[32m'model_file'\u001b[0m: \u001b[32m'onnx/model.onnx'\u001b[0m\n",
       "    \u001b[1m}\u001b[0m,\n",
       "    \u001b[1m{\u001b[0m\n",
       "        \u001b[32m'model'\u001b[0m: \u001b[32m'snowflake/snowflake-arctic-embed-m-long'\u001b[0m,\n",
       "        \u001b[32m'dim'\u001b[0m: \u001b[1;36m768\u001b[0m,\n",
       "        \u001b[32m'description'\u001b[0m: \u001b[32m'Based on nomic-ai/nomic-embed-text-v1-unsupervised model, 8192 context-length model'\u001b[0m,\n",
       "        \u001b[32m'size_in_GB'\u001b[0m: \u001b[1;36m0.54\u001b[0m,\n",
       "        \u001b[32m'sources'\u001b[0m: \u001b[1m{\u001b[0m\u001b[32m'hf'\u001b[0m: \u001b[32m'snowflake/snowflake-arctic-embed-m-long'\u001b[0m\u001b[1m}\u001b[0m,\n",
       "        \u001b[32m'model_file'\u001b[0m: \u001b[32m'onnx/model.onnx'\u001b[0m\n",
       "    \u001b[1m}\u001b[0m,\n",
       "    \u001b[1m{\u001b[0m\n",
       "        \u001b[32m'model'\u001b[0m: \u001b[32m'snowflake/snowflake-arctic-embed-l'\u001b[0m,\n",
       "        \u001b[32m'dim'\u001b[0m: \u001b[1;36m1024\u001b[0m,\n",
       "        \u001b[32m'description'\u001b[0m: \u001b[32m'Based on intfloat/e5-large-unsupervised, large model for most accurate retrieval.'\u001b[0m,\n",
       "        \u001b[32m'size_in_GB'\u001b[0m: \u001b[1;36m1.02\u001b[0m,\n",
       "        \u001b[32m'sources'\u001b[0m: \u001b[1m{\u001b[0m\u001b[32m'hf'\u001b[0m: \u001b[32m'snowflake/snowflake-arctic-embed-l'\u001b[0m\u001b[1m}\u001b[0m,\n",
       "        \u001b[32m'model_file'\u001b[0m: \u001b[32m'onnx/model.onnx'\u001b[0m\n",
       "    \u001b[1m}\u001b[0m,\n",
       "    \u001b[1m{\u001b[0m\n",
       "        \u001b[32m'model'\u001b[0m: \u001b[32m'intfloat/multilingual-e5-large'\u001b[0m,\n",
       "        \u001b[32m'dim'\u001b[0m: \u001b[1;36m1024\u001b[0m,\n",
       "        \u001b[32m'description'\u001b[0m: \u001b[32m'Multilingual model, e5-large. Recommend using this model for non-English languages'\u001b[0m,\n",
       "        \u001b[32m'size_in_GB'\u001b[0m: \u001b[1;36m2.24\u001b[0m,\n",
       "        \u001b[32m'sources'\u001b[0m: \u001b[1m{\u001b[0m\n",
       "            \u001b[32m'url'\u001b[0m: \u001b[32m'https://storage.googleapis.com/qdrant-fastembed/fast-multilingual-e5-large.tar.gz'\u001b[0m,\n",
       "            \u001b[32m'hf'\u001b[0m: \u001b[32m'qdrant/multilingual-e5-large-onnx'\u001b[0m\n",
       "        \u001b[1m}\u001b[0m,\n",
       "        \u001b[32m'model_file'\u001b[0m: \u001b[32m'model.onnx'\u001b[0m,\n",
       "        \u001b[32m'additional_files'\u001b[0m: \u001b[1m[\u001b[0m\u001b[32m'model.onnx_data'\u001b[0m\u001b[1m]\u001b[0m\n",
       "    \u001b[1m}\u001b[0m,\n",
       "    \u001b[1m{\u001b[0m\n",
       "        \u001b[32m'model'\u001b[0m: \u001b[32m'sentence-transformers/paraphrase-multilingual-mpnet-base-v2'\u001b[0m,\n",
       "        \u001b[32m'dim'\u001b[0m: \u001b[1;36m768\u001b[0m,\n",
       "        \u001b[32m'description'\u001b[0m: \u001b[32m'Sentence-transformers model for tasks like clustering or semantic search'\u001b[0m,\n",
       "        \u001b[32m'size_in_GB'\u001b[0m: \u001b[1;36m1.0\u001b[0m,\n",
       "        \u001b[32m'sources'\u001b[0m: \u001b[1m{\u001b[0m\u001b[32m'hf'\u001b[0m: \u001b[32m'xenova/paraphrase-multilingual-mpnet-base-v2'\u001b[0m\u001b[1m}\u001b[0m,\n",
       "        \u001b[32m'model_file'\u001b[0m: \u001b[32m'onnx/model.onnx'\u001b[0m\n",
       "    \u001b[1m}\u001b[0m,\n",
       "    \u001b[1m{\u001b[0m\n",
       "        \u001b[32m'model'\u001b[0m: \u001b[32m'jinaai/jina-embeddings-v2-base-en'\u001b[0m,\n",
       "        \u001b[32m'dim'\u001b[0m: \u001b[1;36m768\u001b[0m,\n",
       "        \u001b[32m'description'\u001b[0m: \u001b[32m'English embedding model supporting 8192 sequence length'\u001b[0m,\n",
       "        \u001b[32m'size_in_GB'\u001b[0m: \u001b[1;36m0.52\u001b[0m,\n",
       "        \u001b[32m'sources'\u001b[0m: \u001b[1m{\u001b[0m\u001b[32m'hf'\u001b[0m: \u001b[32m'xenova/jina-embeddings-v2-base-en'\u001b[0m\u001b[1m}\u001b[0m,\n",
       "        \u001b[32m'model_file'\u001b[0m: \u001b[32m'onnx/model.onnx'\u001b[0m\n",
       "    \u001b[1m}\u001b[0m,\n",
       "    \u001b[1m{\u001b[0m\n",
       "        \u001b[32m'model'\u001b[0m: \u001b[32m'jinaai/jina-embeddings-v2-small-en'\u001b[0m,\n",
       "        \u001b[32m'dim'\u001b[0m: \u001b[1;36m512\u001b[0m,\n",
       "        \u001b[32m'description'\u001b[0m: \u001b[32m'English embedding model supporting 8192 sequence length'\u001b[0m,\n",
       "        \u001b[32m'size_in_GB'\u001b[0m: \u001b[1;36m0.12\u001b[0m,\n",
       "        \u001b[32m'sources'\u001b[0m: \u001b[1m{\u001b[0m\u001b[32m'hf'\u001b[0m: \u001b[32m'xenova/jina-embeddings-v2-small-en'\u001b[0m\u001b[1m}\u001b[0m,\n",
       "        \u001b[32m'model_file'\u001b[0m: \u001b[32m'onnx/model.onnx'\u001b[0m\n",
       "    \u001b[1m}\u001b[0m,\n",
       "    \u001b[1m{\u001b[0m\n",
       "        \u001b[32m'model'\u001b[0m: \u001b[32m'jinaai/jina-embeddings-v2-base-de'\u001b[0m,\n",
       "        \u001b[32m'dim'\u001b[0m: \u001b[1;36m768\u001b[0m,\n",
       "        \u001b[32m'description'\u001b[0m: \u001b[32m'German embedding model supporting 8192 sequence length'\u001b[0m,\n",
       "        \u001b[32m'size_in_GB'\u001b[0m: \u001b[1;36m0.32\u001b[0m,\n",
       "        \u001b[32m'sources'\u001b[0m: \u001b[1m{\u001b[0m\u001b[32m'hf'\u001b[0m: \u001b[32m'jinaai/jina-embeddings-v2-base-de'\u001b[0m\u001b[1m}\u001b[0m,\n",
       "        \u001b[32m'model_file'\u001b[0m: \u001b[32m'onnx/model_fp16.onnx'\u001b[0m\n",
       "    \u001b[1m}\u001b[0m,\n",
       "    \u001b[1m{\u001b[0m\n",
       "        \u001b[32m'model'\u001b[0m: \u001b[32m'Qdrant/clip-ViT-B-32-text'\u001b[0m,\n",
       "        \u001b[32m'dim'\u001b[0m: \u001b[1;36m512\u001b[0m,\n",
       "        \u001b[32m'description'\u001b[0m: \u001b[32m'CLIP text encoder'\u001b[0m,\n",
       "        \u001b[32m'size_in_GB'\u001b[0m: \u001b[1;36m0.25\u001b[0m,\n",
       "        \u001b[32m'sources'\u001b[0m: \u001b[1m{\u001b[0m\u001b[32m'hf'\u001b[0m: \u001b[32m'Qdrant/clip-ViT-B-32-text'\u001b[0m\u001b[1m}\u001b[0m,\n",
       "        \u001b[32m'model_file'\u001b[0m: \u001b[32m'model.onnx'\u001b[0m\n",
       "    \u001b[1m}\u001b[0m,\n",
       "    \u001b[1m{\u001b[0m\n",
       "        \u001b[32m'model'\u001b[0m: \u001b[32m'sentence-transformers/all-MiniLM-L6-v2'\u001b[0m,\n",
       "        \u001b[32m'dim'\u001b[0m: \u001b[1;36m384\u001b[0m,\n",
       "        \u001b[32m'description'\u001b[0m: \u001b[32m'Sentence Transformer model, MiniLM-L6-v2'\u001b[0m,\n",
       "        \u001b[32m'size_in_GB'\u001b[0m: \u001b[1;36m0.09\u001b[0m,\n",
       "        \u001b[32m'sources'\u001b[0m: \u001b[1m{\u001b[0m\n",
       "            \u001b[32m'url'\u001b[0m: \u001b[32m'https://storage.googleapis.com/qdrant-fastembed/sentence-transformers-all-MiniLM-L6-v2.tar.gz'\u001b[0m,\n",
       "            \u001b[32m'hf'\u001b[0m: \u001b[32m'qdrant/all-MiniLM-L6-v2-onnx'\u001b[0m\n",
       "        \u001b[1m}\u001b[0m,\n",
       "        \u001b[32m'model_file'\u001b[0m: \u001b[32m'model.onnx'\u001b[0m\n",
       "    \u001b[1m}\u001b[0m\n",
       "\u001b[1m]\u001b[0m\n"
      ]
     },
     "metadata": {},
     "output_type": "display_data"
    }
   ],
   "source": [
    "console.print(TextEmbedding.list_supported_models())"
   ]
  },
  {
   "cell_type": "code",
   "execution_count": 31,
   "metadata": {},
   "outputs": [
    {
     "data": {
      "application/vnd.jupyter.widget-view+json": {
       "model_id": "ee42d551838349929e4f27844fe36d44",
       "version_major": 2,
       "version_minor": 0
      },
      "text/plain": [
       "Fetching 6 files:   0%|          | 0/6 [00:00<?, ?it/s]"
      ]
     },
     "metadata": {},
     "output_type": "display_data"
    }
   ],
   "source": [
    "# Create Sparse Embeddings\n",
    "sparse_checkpoint: str = \"Qdrant/bm42-all-minilm-l6-v2-attentions\"\n",
    "dense_checkpoint: str = \"BAAI/bge-small-en\"  # 130 MB\n",
    "batch_size: int = 32\n",
    "\n",
    "# This triggers the model download\n",
    "sparse_model = SparseTextEmbedding(model_name=sparse_checkpoint, batch_size=batch_size)\n",
    "dense_model = TextEmbedding(model_name=dense_checkpoint, batch_size=batch_size)"
   ]
  },
  {
   "cell_type": "code",
   "execution_count": 32,
   "metadata": {},
   "outputs": [
    {
     "name": "stdout",
     "output_type": "stream",
     "text": [
      "[SparseEmbedding(values=array([0.18474873, 0.15723869, 0.38667383, 0.29155952, 0.23703232]),\n",
      "                 indices=array([ 948991206,  609270800, 1581444980, 1464642605,  856081220]))]\n"
     ]
    }
   ],
   "source": [
    "text: str = \"Hi there! My name is Mike and I'm a software engineer.\"\n",
    "sparse_embedding: list[Any] = list(sparse_model.embed(text))\n",
    "pprint(sparse_embedding)"
   ]
  },
  {
   "cell_type": "code",
   "execution_count": 33,
   "metadata": {},
   "outputs": [],
   "source": [
    "from transformers import AutoTokenizer\n",
    "\n",
    "\n",
    "def get_tokens_and_weights(\n",
    "    sparse_embedding: SparseTextEmbedding, model_name: str\n",
    ") -> dict[str, float]:\n",
    "    \"\"\"\n",
    "    Retrieves tokens and their corresponding weights from a sparse embedding for a given model.\n",
    "\n",
    "    === COPIED! ===\n",
    "\n",
    "    Args:\n",
    "        sparse_embedding (SparseTextEmbedding): The sparse text embedding object.\n",
    "        model_name (str): The name of the model to use for tokenization.\n",
    "\n",
    "    Returns:\n",
    "        dict[str, float]: A dictionary of tokens and their weights, sorted by weight in\n",
    "        descending order.\n",
    "\n",
    "    Raises:\n",
    "        ValueError: If the specified model is not found in the supported models.\n",
    "    \"\"\"\n",
    "    # Find the tokenizer for the model\n",
    "    tokenizer_source: str | None = None\n",
    "    for model_info in SparseTextEmbedding.list_supported_models():\n",
    "        if model_info[\"model\"].lower() == model_name.lower():\n",
    "            tokenizer_source = model_info[\"sources\"][\"hf\"]\n",
    "            break\n",
    "    if tokenizer_source is None:\n",
    "        raise ValueError(f\"Model {model_name} not found in the supported models.\")\n",
    "\n",
    "    tokenizer: AutoTokenizer = AutoTokenizer.from_pretrained(tokenizer_source)\n",
    "    token_weight_dict: dict[str, float] = {}\n",
    "    for i in range(len(sparse_embedding.indices)):\n",
    "        token: str = tokenizer.decode([sparse_embedding.indices[i]])\n",
    "        weight: float = sparse_embedding.values[i]\n",
    "        token_weight_dict[token] = weight\n",
    "\n",
    "    # Sort the dictionary by weights\n",
    "    token_weight_dict = dict(\n",
    "        sorted(token_weight_dict.items(), key=lambda item: item[1], reverse=True)\n",
    "    )\n",
    "    return token_weight_dict"
   ]
  },
  {
   "cell_type": "code",
   "execution_count": 34,
   "metadata": {},
   "outputs": [
    {
     "name": "stdout",
     "output_type": "stream",
     "text": [
      "{\n",
      "    \"\": 0.2370323172532484\n",
      "}\n"
     ]
    }
   ],
   "source": [
    "# Test the function with the first SparseEmbedding\n",
    "print(\n",
    "    json.dumps(get_tokens_and_weights(sparse_embedding[0], sparse_checkpoint), indent=4)\n",
    ")"
   ]
  },
  {
   "cell_type": "code",
   "execution_count": 35,
   "metadata": {},
   "outputs": [],
   "source": [
    "class SparseEmbeddingModel:\n",
    "    def __init__(self, model: TextEmbedding, batch_size: int = 256) -> None:\n",
    "        self.model = model\n",
    "        self.batch_size = batch_size\n",
    "\n",
    "    def __repr__(self) -> str:\n",
    "        return f\"{self.__class__.__name__}\" f\"(model={self.model.__class__.__name__})\"\n",
    "\n",
    "    def encode(self, text: str | list[str]) -> list[list[float]]:\n",
    "        return self._encode(text)\n",
    "\n",
    "    def _encode(self, text: str | list[str]) -> list[Any]:\n",
    "        \"\"\"\n",
    "        Encode the input text into a list of float vectors.\n",
    "        NOTE: Qdrant does not support NumPy arrays!\n",
    "        \"\"\"\n",
    "        raw_vec: list[Any] = list(self.model.embed(text, batch_size=self.batch_size))\n",
    "        return raw_vec"
   ]
  },
  {
   "cell_type": "code",
   "execution_count": 36,
   "metadata": {},
   "outputs": [
    {
     "data": {
      "text/plain": [
       "1"
      ]
     },
     "execution_count": 36,
     "metadata": {},
     "output_type": "execute_result"
    }
   ],
   "source": [
    "dense_emb_model: TextEmbeddingModel = TextEmbeddingModel(model=dense_model)\n",
    "len(dense_emb_model.encode([\"Fastembed is a great library for text embeddings!\"]))"
   ]
  },
  {
   "cell_type": "code",
   "execution_count": 37,
   "metadata": {},
   "outputs": [
    {
     "data": {
      "text/plain": [
       "[SparseEmbedding(values=array([0.43995775, 0.1121665 , 0.19993707, 0.26299376, 0.3384564 ]), indices=array([ 682147660,  198527388, 1096988414,  970674652,  959644756]))]"
      ]
     },
     "execution_count": 37,
     "metadata": {},
     "output_type": "execute_result"
    }
   ],
   "source": [
    "sparse_emb_model: SparseEmbeddingModel = SparseEmbeddingModel(model=sparse_model)\n",
    "sparse_emb_model.encode([\"Fastembed is a great library for text embeddings!\"])"
   ]
  },
  {
   "cell_type": "code",
   "execution_count": 38,
   "metadata": {},
   "outputs": [
    {
     "data": {
      "text/plain": [
       "True"
      ]
     },
     "execution_count": 38,
     "metadata": {},
     "output_type": "execute_result"
    }
   ],
   "source": [
    "collection_name: str = \"esci\"\n",
    "\n",
    "qdrant_client.recreate_collection(\n",
    "    collection_name,\n",
    "    vectors_config={\n",
    "        \"text-dense\": models.VectorParams(\n",
    "            size=dense_emb_model.emb_dim,\n",
    "            distance=models.Distance.COSINE,\n",
    "        )\n",
    "    },\n",
    "    sparse_vectors_config={\n",
    "        \"text-sparse\": models.SparseVectorParams(\n",
    "            index=models.SparseIndexParams(\n",
    "                on_disk=False,\n",
    "            )\n",
    "        )\n",
    "    },\n",
    ")"
   ]
  },
  {
   "cell_type": "code",
   "execution_count": 39,
   "metadata": {},
   "outputs": [
    {
     "data": {
      "text/plain": [
       "[SparseEmbedding(values=array([0.14969568, 0.09335342, 0.15121029, 0.23425646, 0.1376583 ,\n",
       "        0.16643596, 0.21417318, 0.17146346]), indices=array([ 570245443, 1218230531,    8834632, 1755673004,  842018159,\n",
       "        1786548735,  590062121,  939215365])),\n",
       " SparseEmbedding(values=array([0.15901294, 0.16990311, 0.2502022 , 0.2534479 , 0.21932603,\n",
       "        0.1823688 , 0.19029973, 0.1122133 , 0.24716893, 0.12398718,\n",
       "        0.15895014]), indices=array([1941289186,  962346254, 1751422759, 1485265044,  278976114,\n",
       "        1271411175, 1888595001,  958659146,  643730452,  358389376,\n",
       "         542041464])),\n",
       " SparseEmbedding(values=array([0.27084355, 0.12897235, 0.33127651, 0.26735239, 0.14319685,\n",
       "        0.32128052, 0.06343308, 0.18268168, 0.2496442 , 0.17412035,\n",
       "        0.20139362]), indices=array([1196854555,  219850568, 2036852695, 1751422759, 1881538586,\n",
       "         484699926,  442064690, 1941289186, 1485265044,   36234414,\n",
       "         356747255])),\n",
       " SparseEmbedding(values=array([0.14740428, 0.2562321 , 0.25853975, 0.11805804, 0.21566859,\n",
       "        0.279406  , 0.18560165, 0.10002381, 0.09175764, 0.11964324,\n",
       "        0.06184279, 0.11864131, 0.12177058, 0.092355  , 0.06036505,\n",
       "        0.13904627, 0.13938367, 0.14070773, 0.1241206 , 0.07236957,\n",
       "        0.08092909]), indices=array([1736980362, 1525845572, 1751422759, 1667382587,  191347167,\n",
       "         242130862, 1485265044, 1569927329,  309782534, 2117458213,\n",
       "         958659146, 1712984554,  301030427, 1233057667, 1473125286,\n",
       "          30662561,  298181609, 1732471882, 1594097914,  236893549,\n",
       "         763520878]))]"
      ]
     },
     "execution_count": 39,
     "metadata": {},
     "output_type": "execute_result"
    }
   ],
   "source": [
    "docs_sparse_embeddings = sparse_emb_model.encode(description)\n",
    "docs_dense_embeddings = dense_emb_model.encode(description)\n",
    "docs_sparse_embeddings"
   ]
  },
  {
   "cell_type": "code",
   "execution_count": 40,
   "metadata": {},
   "outputs": [],
   "source": [
    "sparse_vector = models.SparseVector(\n",
    "    indices=[x for row in docs_sparse_embeddings for x in row.indices],\n",
    "    values=[x for row in docs_sparse_embeddings for x in row.values],\n",
    ")\n",
    "\n",
    "dense_vector: list[list[float]] = docs_sparse_embeddings.copy()"
   ]
  },
  {
   "cell_type": "code",
   "execution_count": 41,
   "metadata": {},
   "outputs": [],
   "source": [
    "ids: list[int] = list(range(1, len(docs) + 1))"
   ]
  },
  {
   "cell_type": "code",
   "execution_count": 42,
   "metadata": {},
   "outputs": [
    {
     "data": {
      "text/plain": [
       "list"
      ]
     },
     "execution_count": 42,
     "metadata": {},
     "output_type": "execute_result"
    }
   ],
   "source": [
    "type(sparse_embedding)"
   ]
  },
  {
   "cell_type": "code",
   "execution_count": 43,
   "metadata": {},
   "outputs": [],
   "source": [
    "# Not supported by Polars\n",
    "# df: pl.DataFrame = pl.DataFrame(docs)\n",
    "# df = df.with_columns(\n",
    "#     id=pl.int_range(0, len(df)),\n",
    "#     sparse_vector=sparse_emb_model.encode(description),\n",
    "#     dense_vector=dense_emb_model.encode(description),\n",
    "# )\n",
    "# df"
   ]
  },
  {
   "cell_type": "code",
   "execution_count": 44,
   "metadata": {},
   "outputs": [
    {
     "data": {
      "text/html": [
       "<div>\n",
       "<style scoped>\n",
       "    .dataframe tbody tr th:only-of-type {\n",
       "        vertical-align: middle;\n",
       "    }\n",
       "\n",
       "    .dataframe tbody tr th {\n",
       "        vertical-align: top;\n",
       "    }\n",
       "\n",
       "    .dataframe thead th {\n",
       "        text-align: right;\n",
       "    }\n",
       "</style>\n",
       "<table border=\"1\" class=\"dataframe\">\n",
       "  <thead>\n",
       "    <tr style=\"text-align: right;\">\n",
       "      <th></th>\n",
       "      <th>id</th>\n",
       "      <th>title</th>\n",
       "      <th>tag</th>\n",
       "      <th>description</th>\n",
       "      <th>sparse_vector</th>\n",
       "      <th>dense_vector</th>\n",
       "    </tr>\n",
       "  </thead>\n",
       "  <tbody>\n",
       "    <tr>\n",
       "      <th>0</th>\n",
       "      <td>doc1</td>\n",
       "      <td>Worst</td>\n",
       "      <td>none</td>\n",
       "      <td>The interesting thing is that the person in the wrong made the right decision in the end.</td>\n",
       "      <td>SparseEmbedding(values=array([0.14969568, 0.09335342, 0.15121029, 0.23425646, 0.1376583 ,\\n       0.16643596, 0.21417318, 0.17146346]), indices=array([ 570245443, 1218230531,    8834632, 1755673004,  842018159,\\n       1786548735,  590062121,  939215365]))</td>\n",
       "      <td>[-0.048078645, 0.01467914, -0.012452637, -0.03642915, -0.004653536, -0.0053089582, 0.10573982, 0.029634453, -0.0016554621, 0.0287229, -0.012545165, -0.008471039, 0.0006166894, 0.03190773, -0.0125725, 0.029556325, -0.019452937, 0.033809673, -0.052446038, 0.038998958, 0.011848187, -0.044565942, -0.00855681, -0.056914102, -0.0006278614, 0.031495422, -0.0010878078, -0.031419262, -0.038800262, -0.15459208, 0.0081177605, -0.013756268, 0.0017535368, -0.016341988, -0.03165736, 0.0034405112, -0.032791294, 0.020706574, -0.040468074, 0.0072153993, 0.039510034, 0.03777395, -0.022093473, -0.030331263, ...</td>\n",
       "    </tr>\n",
       "    <tr>\n",
       "      <th>1</th>\n",
       "      <td>doc2</td>\n",
       "      <td>Best</td>\n",
       "      <td>educational</td>\n",
       "      <td>My favorite book is the cat in the hat, which is about a crazy cat who breaks into a house and creates a crazy afternoon for two kids.</td>\n",
       "      <td>SparseEmbedding(values=array([0.15901294, 0.16990311, 0.2502022 , 0.2534479 , 0.21932603,\\n       0.1823688 , 0.19029973, 0.1122133 , 0.24716893, 0.12398718,\\n       0.15895014]), indices=array([1941289186,  962346254, 1751422759, 1485265044,  278976114,\\n       1271411175, 1888595001,  958659146,  643730452,  358389376,\\n        542041464]))</td>\n",
       "      <td>[-0.015868006, -0.02084041, 0.0019805457, 0.018129913, 0.015042529, -0.008550446, 0.04986082, 0.026835369, 0.012720196, 0.011698756, -0.0024818666, -0.014757552, 0.0058412747, 0.043222662, 0.046533756, -0.012222821, -0.008858704, -0.0038479283, -0.07243998, 0.042973693, 0.0029487032, 0.0036375923, -0.009932427, -0.035494726, -0.013168423, 0.045112487, -0.024490234, -0.0016997731, -0.029682389, -0.13501835, -0.012910893, 0.001408267, -0.00010038294, -0.034467276, -0.015208953, 0.0036533433, 0.0016916429, -0.0056047607, 0.027560642, 0.07450399, 0.02335611, 0.024201691, -7.665404e-05, 0.02584...</td>\n",
       "    </tr>\n",
       "    <tr>\n",
       "      <th>2</th>\n",
       "      <td>doc3</td>\n",
       "      <td>Okay</td>\n",
       "      <td>educational</td>\n",
       "      <td>My neighbors let the stray cat stay in their garage, which resulted in my favorite hat that I let them borrow being ruined.</td>\n",
       "      <td>SparseEmbedding(values=array([0.27084355, 0.12897235, 0.33127651, 0.26735239, 0.14319685,\\n       0.32128052, 0.06343308, 0.18268168, 0.2496442 , 0.17412035,\\n       0.20139362]), indices=array([1196854555,  219850568, 2036852695, 1751422759, 1881538586,\\n        484699926,  442064690, 1941289186, 1485265044,   36234414,\\n        356747255]))</td>\n",
       "      <td>[-0.0025230697, 0.007829302, 0.02123328, 0.022239283, 0.043842122, -0.04409191, 0.12562664, 0.033505928, -0.012769881, 0.025701609, 0.0066717677, -0.025987275, 0.06264837, 0.022630764, 0.014546923, 0.0022876204, -0.048622757, 0.06319119, -0.07457686, 0.014157831, -0.044407044, -0.046941556, -0.013395932, -0.0552021, -0.040591516, 0.08581222, -0.027931131, 0.0025866476, -0.030401496, -0.12299114, 0.01711748, -0.0019950594, 0.023423158, -0.0026003113, 0.008074183, 0.0012621706, -0.02644635, -0.01352253, -0.019588778, 0.0779239, 0.043555494, 0.04477806, -0.0029049793, -0.007841673, -0.0001372...</td>\n",
       "    </tr>\n",
       "    <tr>\n",
       "      <th>3</th>\n",
       "      <td>doc4</td>\n",
       "      <td>Best ^2</td>\n",
       "      <td>educational</td>\n",
       "      <td>A small, mischievous cat wears an oversized, striped hat. The contrast between the cat's size and its large hat creates a comical image. This clever, hat-wearing cat becomes locally famous for its playful tricks and distinctive appearance.</td>\n",
       "      <td>SparseEmbedding(values=array([0.14740428, 0.2562321 , 0.25853975, 0.11805804, 0.21566859,\\n       0.279406  , 0.18560165, 0.10002381, 0.09175764, 0.11964324,\\n       0.06184279, 0.11864131, 0.12177058, 0.092355  , 0.06036505,\\n       0.13904627, 0.13938367, 0.14070773, 0.1241206 , 0.07236957,\\n       0.08092909]), indices=array([1736980362, 1525845572, 1751422759, 1667382587,  191347167,\\n        242130862, 1485265044, 1569927329,  309782534, 2117458213,\\n        958659146, 1712984554,  301030427, 1233057667, 1473125286,\\n         30662561,  298181609, 1732471882, 1594097914,  236893549,\\n...</td>\n",
       "      <td>[-0.021247633, -0.02380462, 0.034073215, 0.026637726, 0.033867214, -0.005683298, 0.12084282, 0.0514646, -0.011850636, 0.026090428, -0.020847997, -0.041520994, 0.027258094, 0.031181991, 0.025421673, -0.009230498, -0.015425141, -0.0010277177, -0.03354282, 0.034722015, 0.0018352456, 0.021946926, -0.013787556, -0.03705059, -0.03725064, 0.017640788, -0.06539482, 0.0038632446, -0.023894457, -0.16818714, 0.007752478, 0.00081574894, 0.010525733, -0.022281442, -0.020858316, -0.01878057, 0.006054431, -0.00017780517, -0.0044783503, 0.06598948, 0.0035978362, 0.017081393, -0.017300868, 0.013280726, -0....</td>\n",
       "    </tr>\n",
       "  </tbody>\n",
       "</table>\n",
       "</div>"
      ],
      "text/plain": [
       "     id    title          tag  \\\n",
       "0  doc1    Worst         none   \n",
       "1  doc2     Best  educational   \n",
       "2  doc3     Okay  educational   \n",
       "3  doc4  Best ^2  educational   \n",
       "\n",
       "                                                                                                                                                                                                                                       description  \\\n",
       "0                                                                                                                                                        The interesting thing is that the person in the wrong made the right decision in the end.   \n",
       "1                                                                                                           My favorite book is the cat in the hat, which is about a crazy cat who breaks into a house and creates a crazy afternoon for two kids.   \n",
       "2                                                                                                                      My neighbors let the stray cat stay in their garage, which resulted in my favorite hat that I let them borrow being ruined.   \n",
       "3  A small, mischievous cat wears an oversized, striped hat. The contrast between the cat's size and its large hat creates a comical image. This clever, hat-wearing cat becomes locally famous for its playful tricks and distinctive appearance.   \n",
       "\n",
       "                                                                                                                                                                                                                                                                                                                                                                                                                                                                                                                                                                                                             sparse_vector  \\\n",
       "0                                                                                                                                                                                                                                                                                                                                                         SparseEmbedding(values=array([0.14969568, 0.09335342, 0.15121029, 0.23425646, 0.1376583 ,\\n       0.16643596, 0.21417318, 0.17146346]), indices=array([ 570245443, 1218230531,    8834632, 1755673004,  842018159,\\n       1786548735,  590062121,  939215365]))   \n",
       "1                                                                                                                                                                                                                                                                 SparseEmbedding(values=array([0.15901294, 0.16990311, 0.2502022 , 0.2534479 , 0.21932603,\\n       0.1823688 , 0.19029973, 0.1122133 , 0.24716893, 0.12398718,\\n       0.15895014]), indices=array([1941289186,  962346254, 1751422759, 1485265044,  278976114,\\n       1271411175, 1888595001,  958659146,  643730452,  358389376,\\n        542041464]))   \n",
       "2                                                                                                                                                                                                                                                                 SparseEmbedding(values=array([0.27084355, 0.12897235, 0.33127651, 0.26735239, 0.14319685,\\n       0.32128052, 0.06343308, 0.18268168, 0.2496442 , 0.17412035,\\n       0.20139362]), indices=array([1196854555,  219850568, 2036852695, 1751422759, 1881538586,\\n        484699926,  442064690, 1941289186, 1485265044,   36234414,\\n        356747255]))   \n",
       "3  SparseEmbedding(values=array([0.14740428, 0.2562321 , 0.25853975, 0.11805804, 0.21566859,\\n       0.279406  , 0.18560165, 0.10002381, 0.09175764, 0.11964324,\\n       0.06184279, 0.11864131, 0.12177058, 0.092355  , 0.06036505,\\n       0.13904627, 0.13938367, 0.14070773, 0.1241206 , 0.07236957,\\n       0.08092909]), indices=array([1736980362, 1525845572, 1751422759, 1667382587,  191347167,\\n        242130862, 1485265044, 1569927329,  309782534, 2117458213,\\n        958659146, 1712984554,  301030427, 1233057667, 1473125286,\\n         30662561,  298181609, 1732471882, 1594097914,  236893549,\\n...   \n",
       "\n",
       "                                                                                                                                                                                                                                                                                                                                                                                                                                                                                                                                                                                                              dense_vector  \n",
       "0  [-0.048078645, 0.01467914, -0.012452637, -0.03642915, -0.004653536, -0.0053089582, 0.10573982, 0.029634453, -0.0016554621, 0.0287229, -0.012545165, -0.008471039, 0.0006166894, 0.03190773, -0.0125725, 0.029556325, -0.019452937, 0.033809673, -0.052446038, 0.038998958, 0.011848187, -0.044565942, -0.00855681, -0.056914102, -0.0006278614, 0.031495422, -0.0010878078, -0.031419262, -0.038800262, -0.15459208, 0.0081177605, -0.013756268, 0.0017535368, -0.016341988, -0.03165736, 0.0034405112, -0.032791294, 0.020706574, -0.040468074, 0.0072153993, 0.039510034, 0.03777395, -0.022093473, -0.030331263, ...  \n",
       "1  [-0.015868006, -0.02084041, 0.0019805457, 0.018129913, 0.015042529, -0.008550446, 0.04986082, 0.026835369, 0.012720196, 0.011698756, -0.0024818666, -0.014757552, 0.0058412747, 0.043222662, 0.046533756, -0.012222821, -0.008858704, -0.0038479283, -0.07243998, 0.042973693, 0.0029487032, 0.0036375923, -0.009932427, -0.035494726, -0.013168423, 0.045112487, -0.024490234, -0.0016997731, -0.029682389, -0.13501835, -0.012910893, 0.001408267, -0.00010038294, -0.034467276, -0.015208953, 0.0036533433, 0.0016916429, -0.0056047607, 0.027560642, 0.07450399, 0.02335611, 0.024201691, -7.665404e-05, 0.02584...  \n",
       "2  [-0.0025230697, 0.007829302, 0.02123328, 0.022239283, 0.043842122, -0.04409191, 0.12562664, 0.033505928, -0.012769881, 0.025701609, 0.0066717677, -0.025987275, 0.06264837, 0.022630764, 0.014546923, 0.0022876204, -0.048622757, 0.06319119, -0.07457686, 0.014157831, -0.044407044, -0.046941556, -0.013395932, -0.0552021, -0.040591516, 0.08581222, -0.027931131, 0.0025866476, -0.030401496, -0.12299114, 0.01711748, -0.0019950594, 0.023423158, -0.0026003113, 0.008074183, 0.0012621706, -0.02644635, -0.01352253, -0.019588778, 0.0779239, 0.043555494, 0.04477806, -0.0029049793, -0.007841673, -0.0001372...  \n",
       "3  [-0.021247633, -0.02380462, 0.034073215, 0.026637726, 0.033867214, -0.005683298, 0.12084282, 0.0514646, -0.011850636, 0.026090428, -0.020847997, -0.041520994, 0.027258094, 0.031181991, 0.025421673, -0.009230498, -0.015425141, -0.0010277177, -0.03354282, 0.034722015, 0.0018352456, 0.021946926, -0.013787556, -0.03705059, -0.03725064, 0.017640788, -0.06539482, 0.0038632446, -0.023894457, -0.16818714, 0.007752478, 0.00081574894, 0.010525733, -0.022281442, -0.020858316, -0.01878057, 0.006054431, -0.00017780517, -0.0044783503, 0.06598948, 0.0035978362, 0.017081393, -0.017300868, 0.013280726, -0....  "
      ]
     },
     "execution_count": 44,
     "metadata": {},
     "output_type": "execute_result"
    }
   ],
   "source": [
    "df: pd.DataFrame = pd.DataFrame(docs)\n",
    "df = df.assign(\n",
    "    # id=range(0, len(df)),\n",
    "    sparse_vector=sparse_emb_model.encode(description),\n",
    "    dense_vector=dense_emb_model.encode(description),\n",
    ")\n",
    "df.head()"
   ]
  },
  {
   "cell_type": "code",
   "execution_count": 45,
   "metadata": {},
   "outputs": [],
   "source": [
    "def make_points(df: pd.DataFrame) -> list[models.PointStruct]:\n",
    "    \"\"\"\n",
    "    Create a list of PointStruct objects from a pandas DataFrame.\n",
    "\n",
    "    Args:\n",
    "        df (pd.DataFrame): Input DataFrame containing 'sparse_vector', 'description',\n",
    "        'dense_vector', 'title', and 'tag' columns.\n",
    "\n",
    "    Returns:\n",
    "        list[models.PointStruct]: A list of PointStruct objects representing the data points.\n",
    "    \"\"\"\n",
    "    sparse_vectors: list = df[\"sparse_vector\"].tolist()\n",
    "    description: list[str] = df[\"description\"].tolist()\n",
    "    dense_vectors: list[Any] = df[\"dense_vector\"].tolist()\n",
    "    rows: list[dict] = df.to_dict(orient=\"records\")\n",
    "    points: list[models.PointStruct] = []\n",
    "\n",
    "    for idx, (text, sparse_vector, dense_vector) in enumerate(\n",
    "        zip(description, sparse_vectors, dense_vectors)\n",
    "    ):\n",
    "        sparse_vector: SparseVector = SparseVector(\n",
    "            indices=sparse_vector.indices.tolist(), values=sparse_vector.values.tolist()\n",
    "        )\n",
    "        point: models.PointStruct = models.PointStruct(\n",
    "            id=idx,\n",
    "            payload={\n",
    "                \"text\": text,\n",
    "                \"title\": rows[idx][\"title\"],\n",
    "                \"tag\": rows[idx][\"tag\"],\n",
    "            },  # Add any additional payload if necessary\n",
    "            vector={\n",
    "                \"text-sparse\": sparse_vector,\n",
    "                \"text-dense\": dense_vector,\n",
    "            },\n",
    "        )\n",
    "        points.append(point)\n",
    "    return points"
   ]
  },
  {
   "cell_type": "code",
   "execution_count": 46,
   "metadata": {},
   "outputs": [],
   "source": [
    "points: list[models.PointStruct] = make_points(df)"
   ]
  },
  {
   "cell_type": "code",
   "execution_count": 47,
   "metadata": {},
   "outputs": [
    {
     "data": {
      "text/plain": [
       "UpdateResult(operation_id=0, status=<UpdateStatus.COMPLETED: 'completed'>)"
      ]
     },
     "execution_count": 47,
     "metadata": {},
     "output_type": "execute_result"
    }
   ],
   "source": [
    "# Upload points to Qdrant\n",
    "qdrant_client.upsert(collection_name, points)"
   ]
  },
  {
   "cell_type": "code",
   "execution_count": 48,
   "metadata": {},
   "outputs": [],
   "source": [
    "def search(\n",
    "    query_text: str,\n",
    "    sparse_model: SparseTextEmbedding = sparse_emb_model,\n",
    "    dense_model: TextEmbeddingModel = dense_emb_model,\n",
    "    limit: int = 10,\n",
    ") -> list[Any]:\n",
    "    \"\"\"\n",
    "    Perform a search using both sparse and dense embeddings.\n",
    "\n",
    "    Args:\n",
    "        query_text (str): The text to search for.\n",
    "        sparse_model (SparseTextEmbedding): The model for generating sparse embeddings.\n",
    "        dense_model (TextEmbeddingModel): The model for generating dense embeddings.\n",
    "        limit (int): The maximum number of results to return.\n",
    "\n",
    "    Returns:\n",
    "        list[models.SearchResponse]: A list of search responses from Qdrant.\n",
    "    \"\"\"\n",
    "    query_sparse_vectors: list[Any] = sparse_model.encode([query_text])\n",
    "    query_dense_vector: list[list[float]] = dense_model.encode([query_text])\n",
    "\n",
    "    search_results: list[models.SearchResponse] = qdrant_client.search_batch(\n",
    "        collection_name=collection_name,\n",
    "        requests=[\n",
    "            models.SearchRequest(\n",
    "                vector=models.NamedVector(\n",
    "                    name=\"text-dense\",\n",
    "                    vector=query_dense_vector[0],\n",
    "                ),\n",
    "                limit=limit,\n",
    "                with_payload=True,\n",
    "            ),\n",
    "            models.SearchRequest(\n",
    "                vector=models.NamedSparseVector(\n",
    "                    name=\"text-sparse\",\n",
    "                    vector=SparseVector(\n",
    "                        indices=query_sparse_vectors[0].indices.tolist(),\n",
    "                        values=query_sparse_vectors[0].values.tolist(),\n",
    "                    ),\n",
    "                ),\n",
    "                limit=limit,\n",
    "                with_payload=True,\n",
    "            ),\n",
    "        ],\n",
    "    )\n",
    "\n",
    "    return search_results"
   ]
  },
  {
   "cell_type": "code",
   "execution_count": 49,
   "metadata": {},
   "outputs": [
    {
     "data": {
      "text/html": [
       "<pre style=\"white-space:pre;overflow-x:auto;line-height:normal;font-family:Menlo,'DejaVu Sans Mono',consolas,'Courier New',monospace\"><span style=\"font-weight: bold\">[</span>\n",
       "    <span style=\"font-weight: bold\">[</span>\n",
       "        <span style=\"color: #800080; text-decoration-color: #800080; font-weight: bold\">ScoredPoint</span><span style=\"font-weight: bold\">(</span>\n",
       "            <span style=\"color: #808000; text-decoration-color: #808000\">id</span>=<span style=\"color: #008080; text-decoration-color: #008080; font-weight: bold\">3</span>,\n",
       "            <span style=\"color: #808000; text-decoration-color: #808000\">version</span>=<span style=\"color: #008080; text-decoration-color: #008080; font-weight: bold\">0</span>,\n",
       "            <span style=\"color: #808000; text-decoration-color: #808000\">score</span>=<span style=\"color: #008080; text-decoration-color: #008080; font-weight: bold\">0.9030829</span>,\n",
       "            <span style=\"color: #808000; text-decoration-color: #808000\">payload</span>=<span style=\"font-weight: bold\">{</span>\n",
       "                <span style=\"color: #008000; text-decoration-color: #008000\">'tag'</span>: <span style=\"color: #008000; text-decoration-color: #008000\">'educational'</span>,\n",
       "                <span style=\"color: #008000; text-decoration-color: #008000\">'text'</span>: <span style=\"color: #008000; text-decoration-color: #008000\">\"A small, mischievous cat wears an oversized, striped hat. The contrast between the cat's </span>\n",
       "<span style=\"color: #008000; text-decoration-color: #008000\">size and its large hat creates a comical image. This clever, hat-wearing cat becomes locally famous for its playful</span>\n",
       "<span style=\"color: #008000; text-decoration-color: #008000\">tricks and distinctive appearance.\"</span>,\n",
       "                <span style=\"color: #008000; text-decoration-color: #008000\">'title'</span>: <span style=\"color: #008000; text-decoration-color: #008000\">'Best ^2'</span>\n",
       "            <span style=\"font-weight: bold\">}</span>,\n",
       "            <span style=\"color: #808000; text-decoration-color: #808000\">vector</span>=<span style=\"color: #800080; text-decoration-color: #800080; font-style: italic\">None</span>,\n",
       "            <span style=\"color: #808000; text-decoration-color: #808000\">shard_key</span>=<span style=\"color: #800080; text-decoration-color: #800080; font-style: italic\">None</span>,\n",
       "            <span style=\"color: #808000; text-decoration-color: #808000\">order_value</span>=<span style=\"color: #800080; text-decoration-color: #800080; font-style: italic\">None</span>\n",
       "        <span style=\"font-weight: bold\">)</span>,\n",
       "        <span style=\"color: #800080; text-decoration-color: #800080; font-weight: bold\">ScoredPoint</span><span style=\"font-weight: bold\">(</span>\n",
       "            <span style=\"color: #808000; text-decoration-color: #808000\">id</span>=<span style=\"color: #008080; text-decoration-color: #008080; font-weight: bold\">1</span>,\n",
       "            <span style=\"color: #808000; text-decoration-color: #808000\">version</span>=<span style=\"color: #008080; text-decoration-color: #008080; font-weight: bold\">0</span>,\n",
       "            <span style=\"color: #808000; text-decoration-color: #808000\">score</span>=<span style=\"color: #008080; text-decoration-color: #008080; font-weight: bold\">0.87514436</span>,\n",
       "            <span style=\"color: #808000; text-decoration-color: #808000\">payload</span>=<span style=\"font-weight: bold\">{</span>\n",
       "                <span style=\"color: #008000; text-decoration-color: #008000\">'tag'</span>: <span style=\"color: #008000; text-decoration-color: #008000\">'educational'</span>,\n",
       "                <span style=\"color: #008000; text-decoration-color: #008000\">'text'</span>: <span style=\"color: #008000; text-decoration-color: #008000\">'My favorite book is the cat in the hat, which is about a crazy cat who breaks into a house</span>\n",
       "<span style=\"color: #008000; text-decoration-color: #008000\">and creates a crazy afternoon for two kids.'</span>,\n",
       "                <span style=\"color: #008000; text-decoration-color: #008000\">'title'</span>: <span style=\"color: #008000; text-decoration-color: #008000\">'Best'</span>\n",
       "            <span style=\"font-weight: bold\">}</span>,\n",
       "            <span style=\"color: #808000; text-decoration-color: #808000\">vector</span>=<span style=\"color: #800080; text-decoration-color: #800080; font-style: italic\">None</span>,\n",
       "            <span style=\"color: #808000; text-decoration-color: #808000\">shard_key</span>=<span style=\"color: #800080; text-decoration-color: #800080; font-style: italic\">None</span>,\n",
       "            <span style=\"color: #808000; text-decoration-color: #808000\">order_value</span>=<span style=\"color: #800080; text-decoration-color: #800080; font-style: italic\">None</span>\n",
       "        <span style=\"font-weight: bold\">)</span>,\n",
       "        <span style=\"color: #800080; text-decoration-color: #800080; font-weight: bold\">ScoredPoint</span><span style=\"font-weight: bold\">(</span>\n",
       "            <span style=\"color: #808000; text-decoration-color: #808000\">id</span>=<span style=\"color: #008080; text-decoration-color: #008080; font-weight: bold\">2</span>,\n",
       "            <span style=\"color: #808000; text-decoration-color: #808000\">version</span>=<span style=\"color: #008080; text-decoration-color: #008080; font-weight: bold\">0</span>,\n",
       "            <span style=\"color: #808000; text-decoration-color: #808000\">score</span>=<span style=\"color: #008080; text-decoration-color: #008080; font-weight: bold\">0.8417748</span>,\n",
       "            <span style=\"color: #808000; text-decoration-color: #808000\">payload</span>=<span style=\"font-weight: bold\">{</span>\n",
       "                <span style=\"color: #008000; text-decoration-color: #008000\">'tag'</span>: <span style=\"color: #008000; text-decoration-color: #008000\">'educational'</span>,\n",
       "                <span style=\"color: #008000; text-decoration-color: #008000\">'text'</span>: <span style=\"color: #008000; text-decoration-color: #008000\">'My neighbors let the stray cat stay in their garage, which resulted in my favorite hat </span>\n",
       "<span style=\"color: #008000; text-decoration-color: #008000\">that I let them borrow being ruined.'</span>,\n",
       "                <span style=\"color: #008000; text-decoration-color: #008000\">'title'</span>: <span style=\"color: #008000; text-decoration-color: #008000\">'Okay'</span>\n",
       "            <span style=\"font-weight: bold\">}</span>,\n",
       "            <span style=\"color: #808000; text-decoration-color: #808000\">vector</span>=<span style=\"color: #800080; text-decoration-color: #800080; font-style: italic\">None</span>,\n",
       "            <span style=\"color: #808000; text-decoration-color: #808000\">shard_key</span>=<span style=\"color: #800080; text-decoration-color: #800080; font-style: italic\">None</span>,\n",
       "            <span style=\"color: #808000; text-decoration-color: #808000\">order_value</span>=<span style=\"color: #800080; text-decoration-color: #800080; font-style: italic\">None</span>\n",
       "        <span style=\"font-weight: bold\">)</span>,\n",
       "        <span style=\"color: #800080; text-decoration-color: #800080; font-weight: bold\">ScoredPoint</span><span style=\"font-weight: bold\">(</span>\n",
       "            <span style=\"color: #808000; text-decoration-color: #808000\">id</span>=<span style=\"color: #008080; text-decoration-color: #008080; font-weight: bold\">0</span>,\n",
       "            <span style=\"color: #808000; text-decoration-color: #808000\">version</span>=<span style=\"color: #008080; text-decoration-color: #008080; font-weight: bold\">0</span>,\n",
       "            <span style=\"color: #808000; text-decoration-color: #808000\">score</span>=<span style=\"color: #008080; text-decoration-color: #008080; font-weight: bold\">0.77621603</span>,\n",
       "            <span style=\"color: #808000; text-decoration-color: #808000\">payload</span>=<span style=\"font-weight: bold\">{</span>\n",
       "                <span style=\"color: #008000; text-decoration-color: #008000\">'tag'</span>: <span style=\"color: #008000; text-decoration-color: #008000\">'none'</span>,\n",
       "                <span style=\"color: #008000; text-decoration-color: #008000\">'text'</span>: <span style=\"color: #008000; text-decoration-color: #008000\">'The interesting thing is that the person in the wrong made the right decision in the </span>\n",
       "<span style=\"color: #008000; text-decoration-color: #008000\">end.'</span>,\n",
       "                <span style=\"color: #008000; text-decoration-color: #008000\">'title'</span>: <span style=\"color: #008000; text-decoration-color: #008000\">'Worst'</span>\n",
       "            <span style=\"font-weight: bold\">}</span>,\n",
       "            <span style=\"color: #808000; text-decoration-color: #808000\">vector</span>=<span style=\"color: #800080; text-decoration-color: #800080; font-style: italic\">None</span>,\n",
       "            <span style=\"color: #808000; text-decoration-color: #808000\">shard_key</span>=<span style=\"color: #800080; text-decoration-color: #800080; font-style: italic\">None</span>,\n",
       "            <span style=\"color: #808000; text-decoration-color: #808000\">order_value</span>=<span style=\"color: #800080; text-decoration-color: #800080; font-style: italic\">None</span>\n",
       "        <span style=\"font-weight: bold\">)</span>\n",
       "    <span style=\"font-weight: bold\">]</span>,\n",
       "    <span style=\"font-weight: bold\">[</span>\n",
       "        <span style=\"color: #800080; text-decoration-color: #800080; font-weight: bold\">ScoredPoint</span><span style=\"font-weight: bold\">(</span>\n",
       "            <span style=\"color: #808000; text-decoration-color: #808000\">id</span>=<span style=\"color: #008080; text-decoration-color: #008080; font-weight: bold\">2</span>,\n",
       "            <span style=\"color: #808000; text-decoration-color: #808000\">version</span>=<span style=\"color: #008080; text-decoration-color: #008080; font-weight: bold\">0</span>,\n",
       "            <span style=\"color: #808000; text-decoration-color: #808000\">score</span>=<span style=\"color: #008080; text-decoration-color: #008080; font-weight: bold\">0.19393113</span>,\n",
       "            <span style=\"color: #808000; text-decoration-color: #808000\">payload</span>=<span style=\"font-weight: bold\">{</span>\n",
       "                <span style=\"color: #008000; text-decoration-color: #008000\">'tag'</span>: <span style=\"color: #008000; text-decoration-color: #008000\">'educational'</span>,\n",
       "                <span style=\"color: #008000; text-decoration-color: #008000\">'text'</span>: <span style=\"color: #008000; text-decoration-color: #008000\">'My neighbors let the stray cat stay in their garage, which resulted in my favorite hat </span>\n",
       "<span style=\"color: #008000; text-decoration-color: #008000\">that I let them borrow being ruined.'</span>,\n",
       "                <span style=\"color: #008000; text-decoration-color: #008000\">'title'</span>: <span style=\"color: #008000; text-decoration-color: #008000\">'Okay'</span>\n",
       "            <span style=\"font-weight: bold\">}</span>,\n",
       "            <span style=\"color: #808000; text-decoration-color: #808000\">vector</span>=<span style=\"color: #800080; text-decoration-color: #800080; font-style: italic\">None</span>,\n",
       "            <span style=\"color: #808000; text-decoration-color: #808000\">shard_key</span>=<span style=\"color: #800080; text-decoration-color: #800080; font-style: italic\">None</span>,\n",
       "            <span style=\"color: #808000; text-decoration-color: #808000\">order_value</span>=<span style=\"color: #800080; text-decoration-color: #800080; font-style: italic\">None</span>\n",
       "        <span style=\"font-weight: bold\">)</span>,\n",
       "        <span style=\"color: #800080; text-decoration-color: #800080; font-weight: bold\">ScoredPoint</span><span style=\"font-weight: bold\">(</span>\n",
       "            <span style=\"color: #808000; text-decoration-color: #808000\">id</span>=<span style=\"color: #008080; text-decoration-color: #008080; font-weight: bold\">1</span>,\n",
       "            <span style=\"color: #808000; text-decoration-color: #808000\">version</span>=<span style=\"color: #008080; text-decoration-color: #008080; font-weight: bold\">0</span>,\n",
       "            <span style=\"color: #808000; text-decoration-color: #808000\">score</span>=<span style=\"color: #008080; text-decoration-color: #008080; font-weight: bold\">0.18833923</span>,\n",
       "            <span style=\"color: #808000; text-decoration-color: #808000\">payload</span>=<span style=\"font-weight: bold\">{</span>\n",
       "                <span style=\"color: #008000; text-decoration-color: #008000\">'tag'</span>: <span style=\"color: #008000; text-decoration-color: #008000\">'educational'</span>,\n",
       "                <span style=\"color: #008000; text-decoration-color: #008000\">'text'</span>: <span style=\"color: #008000; text-decoration-color: #008000\">'My favorite book is the cat in the hat, which is about a crazy cat who breaks into a house</span>\n",
       "<span style=\"color: #008000; text-decoration-color: #008000\">and creates a crazy afternoon for two kids.'</span>,\n",
       "                <span style=\"color: #008000; text-decoration-color: #008000\">'title'</span>: <span style=\"color: #008000; text-decoration-color: #008000\">'Best'</span>\n",
       "            <span style=\"font-weight: bold\">}</span>,\n",
       "            <span style=\"color: #808000; text-decoration-color: #808000\">vector</span>=<span style=\"color: #800080; text-decoration-color: #800080; font-style: italic\">None</span>,\n",
       "            <span style=\"color: #808000; text-decoration-color: #808000\">shard_key</span>=<span style=\"color: #800080; text-decoration-color: #800080; font-style: italic\">None</span>,\n",
       "            <span style=\"color: #808000; text-decoration-color: #808000\">order_value</span>=<span style=\"color: #800080; text-decoration-color: #800080; font-style: italic\">None</span>\n",
       "        <span style=\"font-weight: bold\">)</span>,\n",
       "        <span style=\"color: #800080; text-decoration-color: #800080; font-weight: bold\">ScoredPoint</span><span style=\"font-weight: bold\">(</span>\n",
       "            <span style=\"color: #808000; text-decoration-color: #808000\">id</span>=<span style=\"color: #008080; text-decoration-color: #008080; font-weight: bold\">3</span>,\n",
       "            <span style=\"color: #808000; text-decoration-color: #808000\">version</span>=<span style=\"color: #008080; text-decoration-color: #008080; font-weight: bold\">0</span>,\n",
       "            <span style=\"color: #808000; text-decoration-color: #808000\">score</span>=<span style=\"color: #008080; text-decoration-color: #008080; font-weight: bold\">0.16825129</span>,\n",
       "            <span style=\"color: #808000; text-decoration-color: #808000\">payload</span>=<span style=\"font-weight: bold\">{</span>\n",
       "                <span style=\"color: #008000; text-decoration-color: #008000\">'tag'</span>: <span style=\"color: #008000; text-decoration-color: #008000\">'educational'</span>,\n",
       "                <span style=\"color: #008000; text-decoration-color: #008000\">'text'</span>: <span style=\"color: #008000; text-decoration-color: #008000\">\"A small, mischievous cat wears an oversized, striped hat. The contrast between the cat's </span>\n",
       "<span style=\"color: #008000; text-decoration-color: #008000\">size and its large hat creates a comical image. This clever, hat-wearing cat becomes locally famous for its playful</span>\n",
       "<span style=\"color: #008000; text-decoration-color: #008000\">tricks and distinctive appearance.\"</span>,\n",
       "                <span style=\"color: #008000; text-decoration-color: #008000\">'title'</span>: <span style=\"color: #008000; text-decoration-color: #008000\">'Best ^2'</span>\n",
       "            <span style=\"font-weight: bold\">}</span>,\n",
       "            <span style=\"color: #808000; text-decoration-color: #808000\">vector</span>=<span style=\"color: #800080; text-decoration-color: #800080; font-style: italic\">None</span>,\n",
       "            <span style=\"color: #808000; text-decoration-color: #808000\">shard_key</span>=<span style=\"color: #800080; text-decoration-color: #800080; font-style: italic\">None</span>,\n",
       "            <span style=\"color: #808000; text-decoration-color: #808000\">order_value</span>=<span style=\"color: #800080; text-decoration-color: #800080; font-style: italic\">None</span>\n",
       "        <span style=\"font-weight: bold\">)</span>\n",
       "    <span style=\"font-weight: bold\">]</span>\n",
       "<span style=\"font-weight: bold\">]</span>\n",
       "</pre>\n"
      ],
      "text/plain": [
       "\u001b[1m[\u001b[0m\n",
       "    \u001b[1m[\u001b[0m\n",
       "        \u001b[1;35mScoredPoint\u001b[0m\u001b[1m(\u001b[0m\n",
       "            \u001b[33mid\u001b[0m=\u001b[1;36m3\u001b[0m,\n",
       "            \u001b[33mversion\u001b[0m=\u001b[1;36m0\u001b[0m,\n",
       "            \u001b[33mscore\u001b[0m=\u001b[1;36m0\u001b[0m\u001b[1;36m.9030829\u001b[0m,\n",
       "            \u001b[33mpayload\u001b[0m=\u001b[1m{\u001b[0m\n",
       "                \u001b[32m'tag'\u001b[0m: \u001b[32m'educational'\u001b[0m,\n",
       "                \u001b[32m'text'\u001b[0m: \u001b[32m\"A small, mischievous cat wears an oversized, striped hat. The contrast between the cat's \u001b[0m\n",
       "\u001b[32msize and its large hat creates a comical image. This clever, hat-wearing cat becomes locally famous for its playful\u001b[0m\n",
       "\u001b[32mtricks and distinctive appearance.\"\u001b[0m,\n",
       "                \u001b[32m'title'\u001b[0m: \u001b[32m'Best ^2'\u001b[0m\n",
       "            \u001b[1m}\u001b[0m,\n",
       "            \u001b[33mvector\u001b[0m=\u001b[3;35mNone\u001b[0m,\n",
       "            \u001b[33mshard_key\u001b[0m=\u001b[3;35mNone\u001b[0m,\n",
       "            \u001b[33morder_value\u001b[0m=\u001b[3;35mNone\u001b[0m\n",
       "        \u001b[1m)\u001b[0m,\n",
       "        \u001b[1;35mScoredPoint\u001b[0m\u001b[1m(\u001b[0m\n",
       "            \u001b[33mid\u001b[0m=\u001b[1;36m1\u001b[0m,\n",
       "            \u001b[33mversion\u001b[0m=\u001b[1;36m0\u001b[0m,\n",
       "            \u001b[33mscore\u001b[0m=\u001b[1;36m0\u001b[0m\u001b[1;36m.87514436\u001b[0m,\n",
       "            \u001b[33mpayload\u001b[0m=\u001b[1m{\u001b[0m\n",
       "                \u001b[32m'tag'\u001b[0m: \u001b[32m'educational'\u001b[0m,\n",
       "                \u001b[32m'text'\u001b[0m: \u001b[32m'My favorite book is the cat in the hat, which is about a crazy cat who breaks into a house\u001b[0m\n",
       "\u001b[32mand creates a crazy afternoon for two kids.'\u001b[0m,\n",
       "                \u001b[32m'title'\u001b[0m: \u001b[32m'Best'\u001b[0m\n",
       "            \u001b[1m}\u001b[0m,\n",
       "            \u001b[33mvector\u001b[0m=\u001b[3;35mNone\u001b[0m,\n",
       "            \u001b[33mshard_key\u001b[0m=\u001b[3;35mNone\u001b[0m,\n",
       "            \u001b[33morder_value\u001b[0m=\u001b[3;35mNone\u001b[0m\n",
       "        \u001b[1m)\u001b[0m,\n",
       "        \u001b[1;35mScoredPoint\u001b[0m\u001b[1m(\u001b[0m\n",
       "            \u001b[33mid\u001b[0m=\u001b[1;36m2\u001b[0m,\n",
       "            \u001b[33mversion\u001b[0m=\u001b[1;36m0\u001b[0m,\n",
       "            \u001b[33mscore\u001b[0m=\u001b[1;36m0\u001b[0m\u001b[1;36m.8417748\u001b[0m,\n",
       "            \u001b[33mpayload\u001b[0m=\u001b[1m{\u001b[0m\n",
       "                \u001b[32m'tag'\u001b[0m: \u001b[32m'educational'\u001b[0m,\n",
       "                \u001b[32m'text'\u001b[0m: \u001b[32m'My neighbors let the stray cat stay in their garage, which resulted in my favorite hat \u001b[0m\n",
       "\u001b[32mthat I let them borrow being ruined.'\u001b[0m,\n",
       "                \u001b[32m'title'\u001b[0m: \u001b[32m'Okay'\u001b[0m\n",
       "            \u001b[1m}\u001b[0m,\n",
       "            \u001b[33mvector\u001b[0m=\u001b[3;35mNone\u001b[0m,\n",
       "            \u001b[33mshard_key\u001b[0m=\u001b[3;35mNone\u001b[0m,\n",
       "            \u001b[33morder_value\u001b[0m=\u001b[3;35mNone\u001b[0m\n",
       "        \u001b[1m)\u001b[0m,\n",
       "        \u001b[1;35mScoredPoint\u001b[0m\u001b[1m(\u001b[0m\n",
       "            \u001b[33mid\u001b[0m=\u001b[1;36m0\u001b[0m,\n",
       "            \u001b[33mversion\u001b[0m=\u001b[1;36m0\u001b[0m,\n",
       "            \u001b[33mscore\u001b[0m=\u001b[1;36m0\u001b[0m\u001b[1;36m.77621603\u001b[0m,\n",
       "            \u001b[33mpayload\u001b[0m=\u001b[1m{\u001b[0m\n",
       "                \u001b[32m'tag'\u001b[0m: \u001b[32m'none'\u001b[0m,\n",
       "                \u001b[32m'text'\u001b[0m: \u001b[32m'The interesting thing is that the person in the wrong made the right decision in the \u001b[0m\n",
       "\u001b[32mend.'\u001b[0m,\n",
       "                \u001b[32m'title'\u001b[0m: \u001b[32m'Worst'\u001b[0m\n",
       "            \u001b[1m}\u001b[0m,\n",
       "            \u001b[33mvector\u001b[0m=\u001b[3;35mNone\u001b[0m,\n",
       "            \u001b[33mshard_key\u001b[0m=\u001b[3;35mNone\u001b[0m,\n",
       "            \u001b[33morder_value\u001b[0m=\u001b[3;35mNone\u001b[0m\n",
       "        \u001b[1m)\u001b[0m\n",
       "    \u001b[1m]\u001b[0m,\n",
       "    \u001b[1m[\u001b[0m\n",
       "        \u001b[1;35mScoredPoint\u001b[0m\u001b[1m(\u001b[0m\n",
       "            \u001b[33mid\u001b[0m=\u001b[1;36m2\u001b[0m,\n",
       "            \u001b[33mversion\u001b[0m=\u001b[1;36m0\u001b[0m,\n",
       "            \u001b[33mscore\u001b[0m=\u001b[1;36m0\u001b[0m\u001b[1;36m.19393113\u001b[0m,\n",
       "            \u001b[33mpayload\u001b[0m=\u001b[1m{\u001b[0m\n",
       "                \u001b[32m'tag'\u001b[0m: \u001b[32m'educational'\u001b[0m,\n",
       "                \u001b[32m'text'\u001b[0m: \u001b[32m'My neighbors let the stray cat stay in their garage, which resulted in my favorite hat \u001b[0m\n",
       "\u001b[32mthat I let them borrow being ruined.'\u001b[0m,\n",
       "                \u001b[32m'title'\u001b[0m: \u001b[32m'Okay'\u001b[0m\n",
       "            \u001b[1m}\u001b[0m,\n",
       "            \u001b[33mvector\u001b[0m=\u001b[3;35mNone\u001b[0m,\n",
       "            \u001b[33mshard_key\u001b[0m=\u001b[3;35mNone\u001b[0m,\n",
       "            \u001b[33morder_value\u001b[0m=\u001b[3;35mNone\u001b[0m\n",
       "        \u001b[1m)\u001b[0m,\n",
       "        \u001b[1;35mScoredPoint\u001b[0m\u001b[1m(\u001b[0m\n",
       "            \u001b[33mid\u001b[0m=\u001b[1;36m1\u001b[0m,\n",
       "            \u001b[33mversion\u001b[0m=\u001b[1;36m0\u001b[0m,\n",
       "            \u001b[33mscore\u001b[0m=\u001b[1;36m0\u001b[0m\u001b[1;36m.18833923\u001b[0m,\n",
       "            \u001b[33mpayload\u001b[0m=\u001b[1m{\u001b[0m\n",
       "                \u001b[32m'tag'\u001b[0m: \u001b[32m'educational'\u001b[0m,\n",
       "                \u001b[32m'text'\u001b[0m: \u001b[32m'My favorite book is the cat in the hat, which is about a crazy cat who breaks into a house\u001b[0m\n",
       "\u001b[32mand creates a crazy afternoon for two kids.'\u001b[0m,\n",
       "                \u001b[32m'title'\u001b[0m: \u001b[32m'Best'\u001b[0m\n",
       "            \u001b[1m}\u001b[0m,\n",
       "            \u001b[33mvector\u001b[0m=\u001b[3;35mNone\u001b[0m,\n",
       "            \u001b[33mshard_key\u001b[0m=\u001b[3;35mNone\u001b[0m,\n",
       "            \u001b[33morder_value\u001b[0m=\u001b[3;35mNone\u001b[0m\n",
       "        \u001b[1m)\u001b[0m,\n",
       "        \u001b[1;35mScoredPoint\u001b[0m\u001b[1m(\u001b[0m\n",
       "            \u001b[33mid\u001b[0m=\u001b[1;36m3\u001b[0m,\n",
       "            \u001b[33mversion\u001b[0m=\u001b[1;36m0\u001b[0m,\n",
       "            \u001b[33mscore\u001b[0m=\u001b[1;36m0\u001b[0m\u001b[1;36m.16825129\u001b[0m,\n",
       "            \u001b[33mpayload\u001b[0m=\u001b[1m{\u001b[0m\n",
       "                \u001b[32m'tag'\u001b[0m: \u001b[32m'educational'\u001b[0m,\n",
       "                \u001b[32m'text'\u001b[0m: \u001b[32m\"A small, mischievous cat wears an oversized, striped hat. The contrast between the cat's \u001b[0m\n",
       "\u001b[32msize and its large hat creates a comical image. This clever, hat-wearing cat becomes locally famous for its playful\u001b[0m\n",
       "\u001b[32mtricks and distinctive appearance.\"\u001b[0m,\n",
       "                \u001b[32m'title'\u001b[0m: \u001b[32m'Best ^2'\u001b[0m\n",
       "            \u001b[1m}\u001b[0m,\n",
       "            \u001b[33mvector\u001b[0m=\u001b[3;35mNone\u001b[0m,\n",
       "            \u001b[33mshard_key\u001b[0m=\u001b[3;35mNone\u001b[0m,\n",
       "            \u001b[33morder_value\u001b[0m=\u001b[3;35mNone\u001b[0m\n",
       "        \u001b[1m)\u001b[0m\n",
       "    \u001b[1m]\u001b[0m\n",
       "\u001b[1m]\u001b[0m\n"
      ]
     },
     "metadata": {},
     "output_type": "display_data"
    }
   ],
   "source": [
    "query: str = \"the cat in the hat\"\n",
    "search_results = search(query)\n",
    "console.print(search_results)"
   ]
  },
  {
   "cell_type": "code",
   "execution_count": 50,
   "metadata": {},
   "outputs": [
    {
     "data": {
      "text/html": [
       "<pre style=\"white-space:pre;overflow-x:auto;line-height:normal;font-family:Menlo,'DejaVu Sans Mono',consolas,'Courier New',monospace\"><span style=\"font-weight: bold\">[</span>\n",
       "    <span style=\"color: #800080; text-decoration-color: #800080; font-weight: bold\">ScoredPoint</span><span style=\"font-weight: bold\">(</span>\n",
       "        <span style=\"color: #808000; text-decoration-color: #808000\">id</span>=<span style=\"color: #008080; text-decoration-color: #008080; font-weight: bold\">3</span>,\n",
       "        <span style=\"color: #808000; text-decoration-color: #808000\">version</span>=<span style=\"color: #008080; text-decoration-color: #008080; font-weight: bold\">0</span>,\n",
       "        <span style=\"color: #808000; text-decoration-color: #808000\">score</span>=<span style=\"color: #008080; text-decoration-color: #008080; font-weight: bold\">0.9030829</span>,\n",
       "        <span style=\"color: #808000; text-decoration-color: #808000\">payload</span>=<span style=\"font-weight: bold\">{</span>\n",
       "            <span style=\"color: #008000; text-decoration-color: #008000\">'tag'</span>: <span style=\"color: #008000; text-decoration-color: #008000\">'educational'</span>,\n",
       "            <span style=\"color: #008000; text-decoration-color: #008000\">'text'</span>: <span style=\"color: #008000; text-decoration-color: #008000\">\"A small, mischievous cat wears an oversized, striped hat. The contrast between the cat's size </span>\n",
       "<span style=\"color: #008000; text-decoration-color: #008000\">and its large hat creates a comical image. This clever, hat-wearing cat becomes locally famous for its playful </span>\n",
       "<span style=\"color: #008000; text-decoration-color: #008000\">tricks and distinctive appearance.\"</span>,\n",
       "            <span style=\"color: #008000; text-decoration-color: #008000\">'title'</span>: <span style=\"color: #008000; text-decoration-color: #008000\">'Best ^2'</span>\n",
       "        <span style=\"font-weight: bold\">}</span>,\n",
       "        <span style=\"color: #808000; text-decoration-color: #808000\">vector</span>=<span style=\"color: #800080; text-decoration-color: #800080; font-style: italic\">None</span>,\n",
       "        <span style=\"color: #808000; text-decoration-color: #808000\">shard_key</span>=<span style=\"color: #800080; text-decoration-color: #800080; font-style: italic\">None</span>,\n",
       "        <span style=\"color: #808000; text-decoration-color: #808000\">order_value</span>=<span style=\"color: #800080; text-decoration-color: #800080; font-style: italic\">None</span>\n",
       "    <span style=\"font-weight: bold\">)</span>,\n",
       "    <span style=\"color: #800080; text-decoration-color: #800080; font-weight: bold\">ScoredPoint</span><span style=\"font-weight: bold\">(</span>\n",
       "        <span style=\"color: #808000; text-decoration-color: #808000\">id</span>=<span style=\"color: #008080; text-decoration-color: #008080; font-weight: bold\">1</span>,\n",
       "        <span style=\"color: #808000; text-decoration-color: #808000\">version</span>=<span style=\"color: #008080; text-decoration-color: #008080; font-weight: bold\">0</span>,\n",
       "        <span style=\"color: #808000; text-decoration-color: #808000\">score</span>=<span style=\"color: #008080; text-decoration-color: #008080; font-weight: bold\">0.87514436</span>,\n",
       "        <span style=\"color: #808000; text-decoration-color: #808000\">payload</span>=<span style=\"font-weight: bold\">{</span>\n",
       "            <span style=\"color: #008000; text-decoration-color: #008000\">'tag'</span>: <span style=\"color: #008000; text-decoration-color: #008000\">'educational'</span>,\n",
       "            <span style=\"color: #008000; text-decoration-color: #008000\">'text'</span>: <span style=\"color: #008000; text-decoration-color: #008000\">'My favorite book is the cat in the hat, which is about a crazy cat who breaks into a house and</span>\n",
       "<span style=\"color: #008000; text-decoration-color: #008000\">creates a crazy afternoon for two kids.'</span>,\n",
       "            <span style=\"color: #008000; text-decoration-color: #008000\">'title'</span>: <span style=\"color: #008000; text-decoration-color: #008000\">'Best'</span>\n",
       "        <span style=\"font-weight: bold\">}</span>,\n",
       "        <span style=\"color: #808000; text-decoration-color: #808000\">vector</span>=<span style=\"color: #800080; text-decoration-color: #800080; font-style: italic\">None</span>,\n",
       "        <span style=\"color: #808000; text-decoration-color: #808000\">shard_key</span>=<span style=\"color: #800080; text-decoration-color: #800080; font-style: italic\">None</span>,\n",
       "        <span style=\"color: #808000; text-decoration-color: #808000\">order_value</span>=<span style=\"color: #800080; text-decoration-color: #800080; font-style: italic\">None</span>\n",
       "    <span style=\"font-weight: bold\">)</span>,\n",
       "    <span style=\"color: #800080; text-decoration-color: #800080; font-weight: bold\">ScoredPoint</span><span style=\"font-weight: bold\">(</span>\n",
       "        <span style=\"color: #808000; text-decoration-color: #808000\">id</span>=<span style=\"color: #008080; text-decoration-color: #008080; font-weight: bold\">2</span>,\n",
       "        <span style=\"color: #808000; text-decoration-color: #808000\">version</span>=<span style=\"color: #008080; text-decoration-color: #008080; font-weight: bold\">0</span>,\n",
       "        <span style=\"color: #808000; text-decoration-color: #808000\">score</span>=<span style=\"color: #008080; text-decoration-color: #008080; font-weight: bold\">0.8417748</span>,\n",
       "        <span style=\"color: #808000; text-decoration-color: #808000\">payload</span>=<span style=\"font-weight: bold\">{</span>\n",
       "            <span style=\"color: #008000; text-decoration-color: #008000\">'tag'</span>: <span style=\"color: #008000; text-decoration-color: #008000\">'educational'</span>,\n",
       "            <span style=\"color: #008000; text-decoration-color: #008000\">'text'</span>: <span style=\"color: #008000; text-decoration-color: #008000\">'My neighbors let the stray cat stay in their garage, which resulted in my favorite hat that I </span>\n",
       "<span style=\"color: #008000; text-decoration-color: #008000\">let them borrow being ruined.'</span>,\n",
       "            <span style=\"color: #008000; text-decoration-color: #008000\">'title'</span>: <span style=\"color: #008000; text-decoration-color: #008000\">'Okay'</span>\n",
       "        <span style=\"font-weight: bold\">}</span>,\n",
       "        <span style=\"color: #808000; text-decoration-color: #808000\">vector</span>=<span style=\"color: #800080; text-decoration-color: #800080; font-style: italic\">None</span>,\n",
       "        <span style=\"color: #808000; text-decoration-color: #808000\">shard_key</span>=<span style=\"color: #800080; text-decoration-color: #800080; font-style: italic\">None</span>,\n",
       "        <span style=\"color: #808000; text-decoration-color: #808000\">order_value</span>=<span style=\"color: #800080; text-decoration-color: #800080; font-style: italic\">None</span>\n",
       "    <span style=\"font-weight: bold\">)</span>,\n",
       "    <span style=\"color: #800080; text-decoration-color: #800080; font-weight: bold\">ScoredPoint</span><span style=\"font-weight: bold\">(</span>\n",
       "        <span style=\"color: #808000; text-decoration-color: #808000\">id</span>=<span style=\"color: #008080; text-decoration-color: #008080; font-weight: bold\">0</span>,\n",
       "        <span style=\"color: #808000; text-decoration-color: #808000\">version</span>=<span style=\"color: #008080; text-decoration-color: #008080; font-weight: bold\">0</span>,\n",
       "        <span style=\"color: #808000; text-decoration-color: #808000\">score</span>=<span style=\"color: #008080; text-decoration-color: #008080; font-weight: bold\">0.77621603</span>,\n",
       "        <span style=\"color: #808000; text-decoration-color: #808000\">payload</span>=<span style=\"font-weight: bold\">{</span>\n",
       "            <span style=\"color: #008000; text-decoration-color: #008000\">'tag'</span>: <span style=\"color: #008000; text-decoration-color: #008000\">'none'</span>,\n",
       "            <span style=\"color: #008000; text-decoration-color: #008000\">'text'</span>: <span style=\"color: #008000; text-decoration-color: #008000\">'The interesting thing is that the person in the wrong made the right decision in the end.'</span>,\n",
       "            <span style=\"color: #008000; text-decoration-color: #008000\">'title'</span>: <span style=\"color: #008000; text-decoration-color: #008000\">'Worst'</span>\n",
       "        <span style=\"font-weight: bold\">}</span>,\n",
       "        <span style=\"color: #808000; text-decoration-color: #808000\">vector</span>=<span style=\"color: #800080; text-decoration-color: #800080; font-style: italic\">None</span>,\n",
       "        <span style=\"color: #808000; text-decoration-color: #808000\">shard_key</span>=<span style=\"color: #800080; text-decoration-color: #800080; font-style: italic\">None</span>,\n",
       "        <span style=\"color: #808000; text-decoration-color: #808000\">order_value</span>=<span style=\"color: #800080; text-decoration-color: #800080; font-style: italic\">None</span>\n",
       "    <span style=\"font-weight: bold\">)</span>\n",
       "<span style=\"font-weight: bold\">]</span>\n",
       "</pre>\n"
      ],
      "text/plain": [
       "\u001b[1m[\u001b[0m\n",
       "    \u001b[1;35mScoredPoint\u001b[0m\u001b[1m(\u001b[0m\n",
       "        \u001b[33mid\u001b[0m=\u001b[1;36m3\u001b[0m,\n",
       "        \u001b[33mversion\u001b[0m=\u001b[1;36m0\u001b[0m,\n",
       "        \u001b[33mscore\u001b[0m=\u001b[1;36m0\u001b[0m\u001b[1;36m.9030829\u001b[0m,\n",
       "        \u001b[33mpayload\u001b[0m=\u001b[1m{\u001b[0m\n",
       "            \u001b[32m'tag'\u001b[0m: \u001b[32m'educational'\u001b[0m,\n",
       "            \u001b[32m'text'\u001b[0m: \u001b[32m\"A small, mischievous cat wears an oversized, striped hat. The contrast between the cat's size \u001b[0m\n",
       "\u001b[32mand its large hat creates a comical image. This clever, hat-wearing cat becomes locally famous for its playful \u001b[0m\n",
       "\u001b[32mtricks and distinctive appearance.\"\u001b[0m,\n",
       "            \u001b[32m'title'\u001b[0m: \u001b[32m'Best ^2'\u001b[0m\n",
       "        \u001b[1m}\u001b[0m,\n",
       "        \u001b[33mvector\u001b[0m=\u001b[3;35mNone\u001b[0m,\n",
       "        \u001b[33mshard_key\u001b[0m=\u001b[3;35mNone\u001b[0m,\n",
       "        \u001b[33morder_value\u001b[0m=\u001b[3;35mNone\u001b[0m\n",
       "    \u001b[1m)\u001b[0m,\n",
       "    \u001b[1;35mScoredPoint\u001b[0m\u001b[1m(\u001b[0m\n",
       "        \u001b[33mid\u001b[0m=\u001b[1;36m1\u001b[0m,\n",
       "        \u001b[33mversion\u001b[0m=\u001b[1;36m0\u001b[0m,\n",
       "        \u001b[33mscore\u001b[0m=\u001b[1;36m0\u001b[0m\u001b[1;36m.87514436\u001b[0m,\n",
       "        \u001b[33mpayload\u001b[0m=\u001b[1m{\u001b[0m\n",
       "            \u001b[32m'tag'\u001b[0m: \u001b[32m'educational'\u001b[0m,\n",
       "            \u001b[32m'text'\u001b[0m: \u001b[32m'My favorite book is the cat in the hat, which is about a crazy cat who breaks into a house and\u001b[0m\n",
       "\u001b[32mcreates a crazy afternoon for two kids.'\u001b[0m,\n",
       "            \u001b[32m'title'\u001b[0m: \u001b[32m'Best'\u001b[0m\n",
       "        \u001b[1m}\u001b[0m,\n",
       "        \u001b[33mvector\u001b[0m=\u001b[3;35mNone\u001b[0m,\n",
       "        \u001b[33mshard_key\u001b[0m=\u001b[3;35mNone\u001b[0m,\n",
       "        \u001b[33morder_value\u001b[0m=\u001b[3;35mNone\u001b[0m\n",
       "    \u001b[1m)\u001b[0m,\n",
       "    \u001b[1;35mScoredPoint\u001b[0m\u001b[1m(\u001b[0m\n",
       "        \u001b[33mid\u001b[0m=\u001b[1;36m2\u001b[0m,\n",
       "        \u001b[33mversion\u001b[0m=\u001b[1;36m0\u001b[0m,\n",
       "        \u001b[33mscore\u001b[0m=\u001b[1;36m0\u001b[0m\u001b[1;36m.8417748\u001b[0m,\n",
       "        \u001b[33mpayload\u001b[0m=\u001b[1m{\u001b[0m\n",
       "            \u001b[32m'tag'\u001b[0m: \u001b[32m'educational'\u001b[0m,\n",
       "            \u001b[32m'text'\u001b[0m: \u001b[32m'My neighbors let the stray cat stay in their garage, which resulted in my favorite hat that I \u001b[0m\n",
       "\u001b[32mlet them borrow being ruined.'\u001b[0m,\n",
       "            \u001b[32m'title'\u001b[0m: \u001b[32m'Okay'\u001b[0m\n",
       "        \u001b[1m}\u001b[0m,\n",
       "        \u001b[33mvector\u001b[0m=\u001b[3;35mNone\u001b[0m,\n",
       "        \u001b[33mshard_key\u001b[0m=\u001b[3;35mNone\u001b[0m,\n",
       "        \u001b[33morder_value\u001b[0m=\u001b[3;35mNone\u001b[0m\n",
       "    \u001b[1m)\u001b[0m,\n",
       "    \u001b[1;35mScoredPoint\u001b[0m\u001b[1m(\u001b[0m\n",
       "        \u001b[33mid\u001b[0m=\u001b[1;36m0\u001b[0m,\n",
       "        \u001b[33mversion\u001b[0m=\u001b[1;36m0\u001b[0m,\n",
       "        \u001b[33mscore\u001b[0m=\u001b[1;36m0\u001b[0m\u001b[1;36m.77621603\u001b[0m,\n",
       "        \u001b[33mpayload\u001b[0m=\u001b[1m{\u001b[0m\n",
       "            \u001b[32m'tag'\u001b[0m: \u001b[32m'none'\u001b[0m,\n",
       "            \u001b[32m'text'\u001b[0m: \u001b[32m'The interesting thing is that the person in the wrong made the right decision in the end.'\u001b[0m,\n",
       "            \u001b[32m'title'\u001b[0m: \u001b[32m'Worst'\u001b[0m\n",
       "        \u001b[1m}\u001b[0m,\n",
       "        \u001b[33mvector\u001b[0m=\u001b[3;35mNone\u001b[0m,\n",
       "        \u001b[33mshard_key\u001b[0m=\u001b[3;35mNone\u001b[0m,\n",
       "        \u001b[33morder_value\u001b[0m=\u001b[3;35mNone\u001b[0m\n",
       "    \u001b[1m)\u001b[0m\n",
       "\u001b[1m]\u001b[0m\n"
      ]
     },
     "metadata": {},
     "output_type": "display_data"
    }
   ],
   "source": [
    "# text-dense\n",
    "console.print(search_results[0])"
   ]
  },
  {
   "cell_type": "code",
   "execution_count": 51,
   "metadata": {},
   "outputs": [
    {
     "data": {
      "text/html": [
       "<pre style=\"white-space:pre;overflow-x:auto;line-height:normal;font-family:Menlo,'DejaVu Sans Mono',consolas,'Courier New',monospace\"><span style=\"font-weight: bold\">[</span>\n",
       "    <span style=\"color: #800080; text-decoration-color: #800080; font-weight: bold\">ScoredPoint</span><span style=\"font-weight: bold\">(</span>\n",
       "        <span style=\"color: #808000; text-decoration-color: #808000\">id</span>=<span style=\"color: #008080; text-decoration-color: #008080; font-weight: bold\">2</span>,\n",
       "        <span style=\"color: #808000; text-decoration-color: #808000\">version</span>=<span style=\"color: #008080; text-decoration-color: #008080; font-weight: bold\">0</span>,\n",
       "        <span style=\"color: #808000; text-decoration-color: #808000\">score</span>=<span style=\"color: #008080; text-decoration-color: #008080; font-weight: bold\">0.19393113</span>,\n",
       "        <span style=\"color: #808000; text-decoration-color: #808000\">payload</span>=<span style=\"font-weight: bold\">{</span>\n",
       "            <span style=\"color: #008000; text-decoration-color: #008000\">'tag'</span>: <span style=\"color: #008000; text-decoration-color: #008000\">'educational'</span>,\n",
       "            <span style=\"color: #008000; text-decoration-color: #008000\">'text'</span>: <span style=\"color: #008000; text-decoration-color: #008000\">'My neighbors let the stray cat stay in their garage, which resulted in my favorite hat that I </span>\n",
       "<span style=\"color: #008000; text-decoration-color: #008000\">let them borrow being ruined.'</span>,\n",
       "            <span style=\"color: #008000; text-decoration-color: #008000\">'title'</span>: <span style=\"color: #008000; text-decoration-color: #008000\">'Okay'</span>\n",
       "        <span style=\"font-weight: bold\">}</span>,\n",
       "        <span style=\"color: #808000; text-decoration-color: #808000\">vector</span>=<span style=\"color: #800080; text-decoration-color: #800080; font-style: italic\">None</span>,\n",
       "        <span style=\"color: #808000; text-decoration-color: #808000\">shard_key</span>=<span style=\"color: #800080; text-decoration-color: #800080; font-style: italic\">None</span>,\n",
       "        <span style=\"color: #808000; text-decoration-color: #808000\">order_value</span>=<span style=\"color: #800080; text-decoration-color: #800080; font-style: italic\">None</span>\n",
       "    <span style=\"font-weight: bold\">)</span>,\n",
       "    <span style=\"color: #800080; text-decoration-color: #800080; font-weight: bold\">ScoredPoint</span><span style=\"font-weight: bold\">(</span>\n",
       "        <span style=\"color: #808000; text-decoration-color: #808000\">id</span>=<span style=\"color: #008080; text-decoration-color: #008080; font-weight: bold\">1</span>,\n",
       "        <span style=\"color: #808000; text-decoration-color: #808000\">version</span>=<span style=\"color: #008080; text-decoration-color: #008080; font-weight: bold\">0</span>,\n",
       "        <span style=\"color: #808000; text-decoration-color: #808000\">score</span>=<span style=\"color: #008080; text-decoration-color: #008080; font-weight: bold\">0.18833923</span>,\n",
       "        <span style=\"color: #808000; text-decoration-color: #808000\">payload</span>=<span style=\"font-weight: bold\">{</span>\n",
       "            <span style=\"color: #008000; text-decoration-color: #008000\">'tag'</span>: <span style=\"color: #008000; text-decoration-color: #008000\">'educational'</span>,\n",
       "            <span style=\"color: #008000; text-decoration-color: #008000\">'text'</span>: <span style=\"color: #008000; text-decoration-color: #008000\">'My favorite book is the cat in the hat, which is about a crazy cat who breaks into a house and</span>\n",
       "<span style=\"color: #008000; text-decoration-color: #008000\">creates a crazy afternoon for two kids.'</span>,\n",
       "            <span style=\"color: #008000; text-decoration-color: #008000\">'title'</span>: <span style=\"color: #008000; text-decoration-color: #008000\">'Best'</span>\n",
       "        <span style=\"font-weight: bold\">}</span>,\n",
       "        <span style=\"color: #808000; text-decoration-color: #808000\">vector</span>=<span style=\"color: #800080; text-decoration-color: #800080; font-style: italic\">None</span>,\n",
       "        <span style=\"color: #808000; text-decoration-color: #808000\">shard_key</span>=<span style=\"color: #800080; text-decoration-color: #800080; font-style: italic\">None</span>,\n",
       "        <span style=\"color: #808000; text-decoration-color: #808000\">order_value</span>=<span style=\"color: #800080; text-decoration-color: #800080; font-style: italic\">None</span>\n",
       "    <span style=\"font-weight: bold\">)</span>,\n",
       "    <span style=\"color: #800080; text-decoration-color: #800080; font-weight: bold\">ScoredPoint</span><span style=\"font-weight: bold\">(</span>\n",
       "        <span style=\"color: #808000; text-decoration-color: #808000\">id</span>=<span style=\"color: #008080; text-decoration-color: #008080; font-weight: bold\">3</span>,\n",
       "        <span style=\"color: #808000; text-decoration-color: #808000\">version</span>=<span style=\"color: #008080; text-decoration-color: #008080; font-weight: bold\">0</span>,\n",
       "        <span style=\"color: #808000; text-decoration-color: #808000\">score</span>=<span style=\"color: #008080; text-decoration-color: #008080; font-weight: bold\">0.16825129</span>,\n",
       "        <span style=\"color: #808000; text-decoration-color: #808000\">payload</span>=<span style=\"font-weight: bold\">{</span>\n",
       "            <span style=\"color: #008000; text-decoration-color: #008000\">'tag'</span>: <span style=\"color: #008000; text-decoration-color: #008000\">'educational'</span>,\n",
       "            <span style=\"color: #008000; text-decoration-color: #008000\">'text'</span>: <span style=\"color: #008000; text-decoration-color: #008000\">\"A small, mischievous cat wears an oversized, striped hat. The contrast between the cat's size </span>\n",
       "<span style=\"color: #008000; text-decoration-color: #008000\">and its large hat creates a comical image. This clever, hat-wearing cat becomes locally famous for its playful </span>\n",
       "<span style=\"color: #008000; text-decoration-color: #008000\">tricks and distinctive appearance.\"</span>,\n",
       "            <span style=\"color: #008000; text-decoration-color: #008000\">'title'</span>: <span style=\"color: #008000; text-decoration-color: #008000\">'Best ^2'</span>\n",
       "        <span style=\"font-weight: bold\">}</span>,\n",
       "        <span style=\"color: #808000; text-decoration-color: #808000\">vector</span>=<span style=\"color: #800080; text-decoration-color: #800080; font-style: italic\">None</span>,\n",
       "        <span style=\"color: #808000; text-decoration-color: #808000\">shard_key</span>=<span style=\"color: #800080; text-decoration-color: #800080; font-style: italic\">None</span>,\n",
       "        <span style=\"color: #808000; text-decoration-color: #808000\">order_value</span>=<span style=\"color: #800080; text-decoration-color: #800080; font-style: italic\">None</span>\n",
       "    <span style=\"font-weight: bold\">)</span>\n",
       "<span style=\"font-weight: bold\">]</span>\n",
       "</pre>\n"
      ],
      "text/plain": [
       "\u001b[1m[\u001b[0m\n",
       "    \u001b[1;35mScoredPoint\u001b[0m\u001b[1m(\u001b[0m\n",
       "        \u001b[33mid\u001b[0m=\u001b[1;36m2\u001b[0m,\n",
       "        \u001b[33mversion\u001b[0m=\u001b[1;36m0\u001b[0m,\n",
       "        \u001b[33mscore\u001b[0m=\u001b[1;36m0\u001b[0m\u001b[1;36m.19393113\u001b[0m,\n",
       "        \u001b[33mpayload\u001b[0m=\u001b[1m{\u001b[0m\n",
       "            \u001b[32m'tag'\u001b[0m: \u001b[32m'educational'\u001b[0m,\n",
       "            \u001b[32m'text'\u001b[0m: \u001b[32m'My neighbors let the stray cat stay in their garage, which resulted in my favorite hat that I \u001b[0m\n",
       "\u001b[32mlet them borrow being ruined.'\u001b[0m,\n",
       "            \u001b[32m'title'\u001b[0m: \u001b[32m'Okay'\u001b[0m\n",
       "        \u001b[1m}\u001b[0m,\n",
       "        \u001b[33mvector\u001b[0m=\u001b[3;35mNone\u001b[0m,\n",
       "        \u001b[33mshard_key\u001b[0m=\u001b[3;35mNone\u001b[0m,\n",
       "        \u001b[33morder_value\u001b[0m=\u001b[3;35mNone\u001b[0m\n",
       "    \u001b[1m)\u001b[0m,\n",
       "    \u001b[1;35mScoredPoint\u001b[0m\u001b[1m(\u001b[0m\n",
       "        \u001b[33mid\u001b[0m=\u001b[1;36m1\u001b[0m,\n",
       "        \u001b[33mversion\u001b[0m=\u001b[1;36m0\u001b[0m,\n",
       "        \u001b[33mscore\u001b[0m=\u001b[1;36m0\u001b[0m\u001b[1;36m.18833923\u001b[0m,\n",
       "        \u001b[33mpayload\u001b[0m=\u001b[1m{\u001b[0m\n",
       "            \u001b[32m'tag'\u001b[0m: \u001b[32m'educational'\u001b[0m,\n",
       "            \u001b[32m'text'\u001b[0m: \u001b[32m'My favorite book is the cat in the hat, which is about a crazy cat who breaks into a house and\u001b[0m\n",
       "\u001b[32mcreates a crazy afternoon for two kids.'\u001b[0m,\n",
       "            \u001b[32m'title'\u001b[0m: \u001b[32m'Best'\u001b[0m\n",
       "        \u001b[1m}\u001b[0m,\n",
       "        \u001b[33mvector\u001b[0m=\u001b[3;35mNone\u001b[0m,\n",
       "        \u001b[33mshard_key\u001b[0m=\u001b[3;35mNone\u001b[0m,\n",
       "        \u001b[33morder_value\u001b[0m=\u001b[3;35mNone\u001b[0m\n",
       "    \u001b[1m)\u001b[0m,\n",
       "    \u001b[1;35mScoredPoint\u001b[0m\u001b[1m(\u001b[0m\n",
       "        \u001b[33mid\u001b[0m=\u001b[1;36m3\u001b[0m,\n",
       "        \u001b[33mversion\u001b[0m=\u001b[1;36m0\u001b[0m,\n",
       "        \u001b[33mscore\u001b[0m=\u001b[1;36m0\u001b[0m\u001b[1;36m.16825129\u001b[0m,\n",
       "        \u001b[33mpayload\u001b[0m=\u001b[1m{\u001b[0m\n",
       "            \u001b[32m'tag'\u001b[0m: \u001b[32m'educational'\u001b[0m,\n",
       "            \u001b[32m'text'\u001b[0m: \u001b[32m\"A small, mischievous cat wears an oversized, striped hat. The contrast between the cat's size \u001b[0m\n",
       "\u001b[32mand its large hat creates a comical image. This clever, hat-wearing cat becomes locally famous for its playful \u001b[0m\n",
       "\u001b[32mtricks and distinctive appearance.\"\u001b[0m,\n",
       "            \u001b[32m'title'\u001b[0m: \u001b[32m'Best ^2'\u001b[0m\n",
       "        \u001b[1m}\u001b[0m,\n",
       "        \u001b[33mvector\u001b[0m=\u001b[3;35mNone\u001b[0m,\n",
       "        \u001b[33mshard_key\u001b[0m=\u001b[3;35mNone\u001b[0m,\n",
       "        \u001b[33morder_value\u001b[0m=\u001b[3;35mNone\u001b[0m\n",
       "    \u001b[1m)\u001b[0m\n",
       "\u001b[1m]\u001b[0m\n"
      ]
     },
     "metadata": {},
     "output_type": "display_data"
    }
   ],
   "source": [
    "# Dense-sparse\n",
    "console.print(search_results[1])"
   ]
  },
  {
   "cell_type": "code",
   "execution_count": 52,
   "metadata": {},
   "outputs": [],
   "source": [
    "# Ranking\n",
    "# We'll combine the results from the two models using Reciprocal Rank Fusion (RRF).\n",
    "# You can read more about RRF here. We select RRF for this task because: 1. It is a simple\n",
    "# and effective method for combining search results. 2. It is robust to the differences in\n",
    "# the ranking scores of the two or more ranking lists. 3. It is easy to implement and requires\n",
    "# minimal tuning (only one parameter: alpha, which we don't tune here).\n",
    "def rrf(\n",
    "    rank_lists: list[tuple[str, int]], alpha: int = 60, default_rank: int = 1000\n",
    ") -> list[tuple[str, float]]:\n",
    "    \"\"\"\n",
    "    Optimized Reciprocal Rank Fusion (RRF) using NumPy for large rank lists.\n",
    "\n",
    "    Args:\n",
    "        rank_lists (list[tuple[str, int]]): A list of rank lists, where each rank list is a\n",
    "        list of tuples (item, rank).\n",
    "        alpha (int, optional): The constant used in RRF calculation. Defaults to 60.\n",
    "        default_rank (int, optional): The default rank for items not present in a list. Defaults to 1000.\n",
    "\n",
    "    Returns:\n",
    "        list[tuple[str, float]]: A list of tuples (item, score) sorted by descending RRF score.\n",
    "    \"\"\"\n",
    "    # Consolidate all unique items from all rank lists\n",
    "    all_items: set[str] = set(item for rank_list in rank_lists for item, _ in rank_list)\n",
    "\n",
    "    # Create a mapping of items to indices\n",
    "    item_to_index: dict[str, int] = {item: idx for idx, item in enumerate(all_items)}\n",
    "\n",
    "    # Initialize a matrix to hold the ranks, filled with the default rank\n",
    "    rank_matrix: np.ndarray = np.full((len(all_items), len(rank_lists)), default_rank)\n",
    "\n",
    "    # Fill in the actual ranks from the rank lists\n",
    "    for list_idx, rank_list in enumerate(rank_lists):\n",
    "        for item, rank in rank_list:\n",
    "            rank_matrix[item_to_index[item], list_idx] = rank\n",
    "\n",
    "    # Calculate RRF scores using NumPy operations\n",
    "    rrf_scores: np.ndarray = np.sum(1.0 / (alpha + rank_matrix), axis=1)\n",
    "\n",
    "    # Sort items based on RRF scores\n",
    "    sorted_indices: np.ndarray = np.argsort(\n",
    "        -rrf_scores\n",
    "    )  # Negative for descending order\n",
    "\n",
    "    # Retrieve sorted items\n",
    "    sorted_items: list[tuple[str, float]] = [\n",
    "        (list(item_to_index.keys())[idx], rrf_scores[idx]) for idx in sorted_indices\n",
    "    ]\n",
    "\n",
    "    return sorted_items"
   ]
  },
  {
   "cell_type": "code",
   "execution_count": 53,
   "metadata": {},
   "outputs": [
    {
     "data": {
      "text/plain": [
       "[('A', 0.033465871107430434),\n",
       " ('B', 0.033465871107430434),\n",
       " ('D', 0.03320985472238179),\n",
       " ('C', 0.03294544435749548),\n",
       " ('E', 0.01775980832584606)]"
      ]
     },
     "execution_count": 53,
     "metadata": {},
     "output_type": "execute_result"
    }
   ],
   "source": [
    "# Example usage\n",
    "rank_list1: list[tuple[str, int]] = [(\"A\", 1), (\"B\", 2), (\"C\", 3)]\n",
    "rank_list2: list[tuple[str, int]] = [(\"B\", 1), (\"C\", 2), (\"D\", 3)]\n",
    "rank_list3: list[tuple[str, int]] = [(\"A\", 2), (\"D\", 1), (\"E\", 3)]\n",
    "\n",
    "# Combine the rank lists\n",
    "sorted_items: list[tuple[str, float]] = rrf([rank_list1, rank_list2, rank_list3])\n",
    "sorted_items"
   ]
  },
  {
   "cell_type": "code",
   "execution_count": 54,
   "metadata": {},
   "outputs": [],
   "source": [
    "def rank_list(search_result: list[models.ScoredPoint]):\n",
    "    return [(point.id, rank + 1) for rank, point in enumerate(search_result)]\n",
    "\n",
    "\n",
    "def find_point_by_id(\n",
    "    client: QdrantClient, collection_name: str, rrf_rank_list: list[tuple[int, float]]\n",
    "):\n",
    "    return client.retrieve(\n",
    "        collection_name=collection_name, ids=[item[0] for item in rrf_rank_list]\n",
    "    )"
   ]
  },
  {
   "cell_type": "code",
   "execution_count": 55,
   "metadata": {},
   "outputs": [
    {
     "data": {
      "text/plain": [
       "[(2, 0.032266458495966696),\n",
       " (3, 0.032266458495966696),\n",
       " (1, 0.03225806451612903),\n",
       " (0, 0.016568396226415094)]"
      ]
     },
     "execution_count": 55,
     "metadata": {},
     "output_type": "execute_result"
    }
   ],
   "source": [
    "dense_rank_list, sparse_rank_list = rank_list(search_results[0]), rank_list(\n",
    "    search_results[1]\n",
    ")\n",
    "rrf_rank_list = rrf([dense_rank_list, sparse_rank_list])\n",
    "rrf_rank_list"
   ]
  },
  {
   "cell_type": "code",
   "execution_count": 56,
   "metadata": {},
   "outputs": [
    {
     "data": {
      "text/plain": [
       "[Record(id=2, payload={'tag': 'educational', 'text': 'My neighbors let the stray cat stay in their garage, which resulted in my favorite hat that I let them borrow being ruined.', 'title': 'Okay'}, vector=None, shard_key=None, order_value=None),\n",
       " Record(id=3, payload={'tag': 'educational', 'text': \"A small, mischievous cat wears an oversized, striped hat. The contrast between the cat's size and its large hat creates a comical image. This clever, hat-wearing cat becomes locally famous for its playful tricks and distinctive appearance.\", 'title': 'Best ^2'}, vector=None, shard_key=None, order_value=None),\n",
       " Record(id=1, payload={'tag': 'educational', 'text': 'My favorite book is the cat in the hat, which is about a crazy cat who breaks into a house and creates a crazy afternoon for two kids.', 'title': 'Best'}, vector=None, shard_key=None, order_value=None),\n",
       " Record(id=0, payload={'tag': 'none', 'text': 'The interesting thing is that the person in the wrong made the right decision in the end.', 'title': 'Worst'}, vector=None, shard_key=None, order_value=None)]"
      ]
     },
     "execution_count": 56,
     "metadata": {},
     "output_type": "execute_result"
    }
   ],
   "source": [
    "find_point_by_id(qdrant_client, collection_name, rrf_rank_list)"
   ]
  },
  {
   "cell_type": "code",
   "execution_count": null,
   "metadata": {},
   "outputs": [],
   "source": []
  }
 ],
 "metadata": {
  "kernelspec": {
   "display_name": "(ai_search)",
   "language": "python",
   "name": "ai_search"
  },
  "language_info": {
   "codemirror_mode": {
    "name": "ipython",
    "version": 3
   },
   "file_extension": ".py",
   "mimetype": "text/x-python",
   "name": "python",
   "nbconvert_exporter": "python",
   "pygments_lexer": "ipython3",
   "version": "3.10.14"
  }
 },
 "nbformat": 4,
 "nbformat_minor": 2
}
